{
 "cells": [
  {
   "cell_type": "markdown",
   "metadata": {},
   "source": [
    "# Automated ML"
   ]
  },
  {
   "cell_type": "code",
   "execution_count": 1,
   "metadata": {
    "gather": {
     "logged": 1598423888013
    },
    "jupyter": {
     "outputs_hidden": false,
     "source_hidden": false
    },
    "nteract": {
     "transient": {
      "deleting": false
     }
    }
   },
   "outputs": [],
   "source": [
    "from azureml.core import Workspace, Experiment\n",
    "from azureml.core.compute import ComputeTarget, AmlCompute\n",
    "from azureml.core.compute_target import ComputeTargetException\n",
    "from azureml.widgets import RunDetails\n",
    "from azureml.data.dataset_factory import TabularDatasetFactory\n",
    "from sklearn.model_selection import train_test_split\n",
    "import pandas as pd\n",
    "from azureml.core.dataset import Dataset\n",
    "from azureml.train.automl.utilities import get_primary_metrics\n",
    "from azureml.train.automl import AutoMLConfig\n",
    "from azureml.core.model import InferenceConfig\n",
    "from azureml.core.webservice import AciWebservice\n",
    "from azureml.core.webservice import Webservice\n",
    "from azureml.core.model import Model\n",
    "from azureml.core.environment import Environment\n",
    "from azureml.automl.core.shared import constants\n",
    "import joblib"
   ]
  },
  {
   "cell_type": "markdown",
   "metadata": {},
   "source": [
    "## Dataset\n",
    "\n",
    "### Overview\n",
    "\n",
    "The dataset used for this project is the [Heart Failure Prediction](https://www.kaggle.com/andrewmvd/heart-failure-clinical-data) dataset taken from Kaggle.\n",
    "\n",
    "This dataset contains 12 features that can be used to predict mortality by heart failure:\n",
    "\n",
    "- age: Age of the patient\n",
    "- amaemia: Decrease of red blood cells or hemoglobin\n",
    "- creatinine_phosphokinase: Level of the CPK enzyme in the blood (mcg/L)\n",
    "- diabetes: If the patient has diabetes\n",
    "- ejection_fraction: Percentage of blood leaving the heart at each contraction\n",
    "- high_blood_pressure: If the patient has hypertension\n",
    "- platelets: Platelets in the blood (kiloplatelets/mL)\n",
    "- serum_creatinine: Level of serum creatinine in the blood (mg/dL)\n",
    "- serum_sodium: Level of serum sodium in the blood (mEq/L)\n",
    "- sex: Woman or man\n",
    "- smoking: If the patient smokes or not\n",
    "- time: Follow-up period (days)\n",
    "\n",
    "The target column is DEATH_EVENT which tells if the patient deceased during the follow-up period. The task performed in this project is to predict whether or not a death event occurs."
   ]
  },
  {
   "cell_type": "code",
   "execution_count": 2,
   "metadata": {
    "gather": {
     "logged": 1598423890461
    },
    "jupyter": {
     "outputs_hidden": false,
     "source_hidden": false
    },
    "nteract": {
     "transient": {
      "deleting": false
     }
    }
   },
   "outputs": [
    {
     "name": "stdout",
     "output_type": "stream",
     "text": [
      "Workspace name: quick-starts-ws-177051\n",
      "Azure region: southcentralus\n",
      "Subscription id: 81cefad3-d2c9-4f77-a466-99a7f541c7bb\n",
      "Resource group: aml-quickstarts-177051\n"
     ]
    }
   ],
   "source": [
    "## Creating a new Experiment\n",
    "ws = Workspace.from_config()\n",
    "experiment_name = 'heart-failure-automl'\n",
    "\n",
    "experiment=Experiment(ws, experiment_name)\n",
    "\n",
    "print('Workspace name: ' + ws.name, \n",
    "      'Azure region: ' + ws.location, \n",
    "      'Subscription id: ' + ws.subscription_id, \n",
    "      'Resource group: ' + ws.resource_group, sep = '\\n')\n",
    "\n",
    "run = experiment.start_logging()"
   ]
  },
  {
   "cell_type": "code",
   "execution_count": 3,
   "metadata": {},
   "outputs": [
    {
     "name": "stdout",
     "output_type": "stream",
     "text": [
      "notebook177051 ComputeInstance Succeeded\n",
      "heart-compute AmlCompute Succeeded\n",
      "cpu-cluster AmlCompute Succeeded\n",
      "my-compute AmlCompute Succeeded\n",
      "cpu-compute AmlCompute Succeeded\n"
     ]
    }
   ],
   "source": [
    "#Checking and printing existing compute targets\n",
    "compute_targets= ws.compute_targets\n",
    "for name, ct in compute_targets.items():\n",
    "    print(name, ct.type, ct.provisioning_state)"
   ]
  },
  {
   "cell_type": "code",
   "execution_count": 4,
   "metadata": {},
   "outputs": [
    {
     "name": "stdout",
     "output_type": "stream",
     "text": [
      "Found existing cluster, use it...\n",
      "Succeeded\n",
      "AmlCompute wait for completion finished\n",
      "\n",
      "Minimum number of nodes requested have been provisioned\n"
     ]
    }
   ],
   "source": [
    "#Create compute cluster\n",
    "compute_cluster_name= \"cpu-compute\"\n",
    "\n",
    "#Check if compute cluster already exists\n",
    "try:\n",
    "    compute_cluster=ComputeTarget(workspace=ws, name=compute_cluster_name)\n",
    "    print(\"Found existing cluster, use it...\")\n",
    "except ComputeTargetException:\n",
    "    print(\"Creating new cluster...\")\n",
    "    compute_config = AmlCompute.provisioning_configuration(vm_size='STANDARD_D2_V2',max_nodes=5)\n",
    "    compute_cluster = ComputeTarget.create(ws, compute_cluster_name, compute_config)\n",
    "    \n",
    "compute_cluster.wait_for_completion(show_output=True)"
   ]
  },
  {
   "cell_type": "code",
   "execution_count": 5,
   "metadata": {},
   "outputs": [],
   "source": [
    "#Get data\n",
    "from azureml.data.dataset_factory import TabularDatasetFactory\n",
    "\n",
    "\n",
    "\n",
    "path_to_data= \"https://raw.githubusercontent.com/neha7598/azure-ml-capstone/main/data/heart_failure_clinical_records_dataset.csv\"\n",
    "data=TabularDatasetFactory.from_delimited_files(path=path_to_data)"
   ]
  },
  {
   "cell_type": "code",
   "execution_count": 6,
   "metadata": {},
   "outputs": [
    {
     "data": {
      "text/html": [
       "<div>\n",
       "<style scoped>\n",
       "    .dataframe tbody tr th:only-of-type {\n",
       "        vertical-align: middle;\n",
       "    }\n",
       "\n",
       "    .dataframe tbody tr th {\n",
       "        vertical-align: top;\n",
       "    }\n",
       "\n",
       "    .dataframe thead th {\n",
       "        text-align: right;\n",
       "    }\n",
       "</style>\n",
       "<table border=\"1\" class=\"dataframe\">\n",
       "  <thead>\n",
       "    <tr style=\"text-align: right;\">\n",
       "      <th></th>\n",
       "      <th>age</th>\n",
       "      <th>anaemia</th>\n",
       "      <th>creatinine_phosphokinase</th>\n",
       "      <th>diabetes</th>\n",
       "      <th>ejection_fraction</th>\n",
       "      <th>high_blood_pressure</th>\n",
       "      <th>platelets</th>\n",
       "      <th>serum_creatinine</th>\n",
       "      <th>serum_sodium</th>\n",
       "      <th>sex</th>\n",
       "      <th>smoking</th>\n",
       "      <th>time</th>\n",
       "      <th>DEATH_EVENT</th>\n",
       "    </tr>\n",
       "  </thead>\n",
       "  <tbody>\n",
       "    <tr>\n",
       "      <th>89</th>\n",
       "      <td>57.0</td>\n",
       "      <td>1</td>\n",
       "      <td>115</td>\n",
       "      <td>0</td>\n",
       "      <td>25</td>\n",
       "      <td>1</td>\n",
       "      <td>181000.00</td>\n",
       "      <td>1.1</td>\n",
       "      <td>144</td>\n",
       "      <td>1</td>\n",
       "      <td>0</td>\n",
       "      <td>79</td>\n",
       "      <td>0</td>\n",
       "    </tr>\n",
       "    <tr>\n",
       "      <th>60</th>\n",
       "      <td>45.0</td>\n",
       "      <td>0</td>\n",
       "      <td>7702</td>\n",
       "      <td>1</td>\n",
       "      <td>25</td>\n",
       "      <td>1</td>\n",
       "      <td>390000.00</td>\n",
       "      <td>1.0</td>\n",
       "      <td>139</td>\n",
       "      <td>1</td>\n",
       "      <td>0</td>\n",
       "      <td>60</td>\n",
       "      <td>1</td>\n",
       "    </tr>\n",
       "    <tr>\n",
       "      <th>52</th>\n",
       "      <td>60.0</td>\n",
       "      <td>0</td>\n",
       "      <td>3964</td>\n",
       "      <td>1</td>\n",
       "      <td>62</td>\n",
       "      <td>0</td>\n",
       "      <td>263358.03</td>\n",
       "      <td>6.8</td>\n",
       "      <td>146</td>\n",
       "      <td>0</td>\n",
       "      <td>0</td>\n",
       "      <td>43</td>\n",
       "      <td>1</td>\n",
       "    </tr>\n",
       "    <tr>\n",
       "      <th>5</th>\n",
       "      <td>90.0</td>\n",
       "      <td>1</td>\n",
       "      <td>47</td>\n",
       "      <td>0</td>\n",
       "      <td>40</td>\n",
       "      <td>1</td>\n",
       "      <td>204000.00</td>\n",
       "      <td>2.1</td>\n",
       "      <td>132</td>\n",
       "      <td>1</td>\n",
       "      <td>1</td>\n",
       "      <td>8</td>\n",
       "      <td>1</td>\n",
       "    </tr>\n",
       "    <tr>\n",
       "      <th>75</th>\n",
       "      <td>60.0</td>\n",
       "      <td>1</td>\n",
       "      <td>47</td>\n",
       "      <td>0</td>\n",
       "      <td>20</td>\n",
       "      <td>0</td>\n",
       "      <td>204000.00</td>\n",
       "      <td>0.7</td>\n",
       "      <td>139</td>\n",
       "      <td>1</td>\n",
       "      <td>1</td>\n",
       "      <td>73</td>\n",
       "      <td>1</td>\n",
       "    </tr>\n",
       "    <tr>\n",
       "      <th>...</th>\n",
       "      <td>...</td>\n",
       "      <td>...</td>\n",
       "      <td>...</td>\n",
       "      <td>...</td>\n",
       "      <td>...</td>\n",
       "      <td>...</td>\n",
       "      <td>...</td>\n",
       "      <td>...</td>\n",
       "      <td>...</td>\n",
       "      <td>...</td>\n",
       "      <td>...</td>\n",
       "      <td>...</td>\n",
       "      <td>...</td>\n",
       "    </tr>\n",
       "    <tr>\n",
       "      <th>189</th>\n",
       "      <td>40.0</td>\n",
       "      <td>0</td>\n",
       "      <td>244</td>\n",
       "      <td>0</td>\n",
       "      <td>45</td>\n",
       "      <td>1</td>\n",
       "      <td>275000.00</td>\n",
       "      <td>0.9</td>\n",
       "      <td>140</td>\n",
       "      <td>0</td>\n",
       "      <td>0</td>\n",
       "      <td>174</td>\n",
       "      <td>0</td>\n",
       "    </tr>\n",
       "    <tr>\n",
       "      <th>152</th>\n",
       "      <td>50.0</td>\n",
       "      <td>0</td>\n",
       "      <td>115</td>\n",
       "      <td>0</td>\n",
       "      <td>45</td>\n",
       "      <td>1</td>\n",
       "      <td>184000.00</td>\n",
       "      <td>0.9</td>\n",
       "      <td>134</td>\n",
       "      <td>1</td>\n",
       "      <td>1</td>\n",
       "      <td>118</td>\n",
       "      <td>0</td>\n",
       "    </tr>\n",
       "    <tr>\n",
       "      <th>146</th>\n",
       "      <td>52.0</td>\n",
       "      <td>0</td>\n",
       "      <td>132</td>\n",
       "      <td>0</td>\n",
       "      <td>30</td>\n",
       "      <td>0</td>\n",
       "      <td>218000.00</td>\n",
       "      <td>0.7</td>\n",
       "      <td>136</td>\n",
       "      <td>1</td>\n",
       "      <td>1</td>\n",
       "      <td>112</td>\n",
       "      <td>0</td>\n",
       "    </tr>\n",
       "    <tr>\n",
       "      <th>270</th>\n",
       "      <td>44.0</td>\n",
       "      <td>0</td>\n",
       "      <td>582</td>\n",
       "      <td>1</td>\n",
       "      <td>30</td>\n",
       "      <td>1</td>\n",
       "      <td>263358.03</td>\n",
       "      <td>1.6</td>\n",
       "      <td>130</td>\n",
       "      <td>1</td>\n",
       "      <td>1</td>\n",
       "      <td>244</td>\n",
       "      <td>0</td>\n",
       "    </tr>\n",
       "    <tr>\n",
       "      <th>141</th>\n",
       "      <td>46.0</td>\n",
       "      <td>1</td>\n",
       "      <td>291</td>\n",
       "      <td>0</td>\n",
       "      <td>35</td>\n",
       "      <td>0</td>\n",
       "      <td>348000.00</td>\n",
       "      <td>0.9</td>\n",
       "      <td>140</td>\n",
       "      <td>0</td>\n",
       "      <td>0</td>\n",
       "      <td>109</td>\n",
       "      <td>0</td>\n",
       "    </tr>\n",
       "  </tbody>\n",
       "</table>\n",
       "<p>239 rows × 13 columns</p>\n",
       "</div>"
      ],
      "text/plain": [
       "      age  anaemia  creatinine_phosphokinase  diabetes  ejection_fraction  \\\n",
       "89   57.0        1                       115         0                 25   \n",
       "60   45.0        0                      7702         1                 25   \n",
       "52   60.0        0                      3964         1                 62   \n",
       "5    90.0        1                        47         0                 40   \n",
       "75   60.0        1                        47         0                 20   \n",
       "..    ...      ...                       ...       ...                ...   \n",
       "189  40.0        0                       244         0                 45   \n",
       "152  50.0        0                       115         0                 45   \n",
       "146  52.0        0                       132         0                 30   \n",
       "270  44.0        0                       582         1                 30   \n",
       "141  46.0        1                       291         0                 35   \n",
       "\n",
       "     high_blood_pressure  platelets  serum_creatinine  serum_sodium  sex  \\\n",
       "89                     1  181000.00               1.1           144    1   \n",
       "60                     1  390000.00               1.0           139    1   \n",
       "52                     0  263358.03               6.8           146    0   \n",
       "5                      1  204000.00               2.1           132    1   \n",
       "75                     0  204000.00               0.7           139    1   \n",
       "..                   ...        ...               ...           ...  ...   \n",
       "189                    1  275000.00               0.9           140    0   \n",
       "152                    1  184000.00               0.9           134    1   \n",
       "146                    0  218000.00               0.7           136    1   \n",
       "270                    1  263358.03               1.6           130    1   \n",
       "141                    0  348000.00               0.9           140    0   \n",
       "\n",
       "     smoking  time  DEATH_EVENT  \n",
       "89         0    79            0  \n",
       "60         0    60            1  \n",
       "52         0    43            1  \n",
       "5          1     8            1  \n",
       "75         1    73            1  \n",
       "..       ...   ...          ...  \n",
       "189        0   174            0  \n",
       "152        1   118            0  \n",
       "146        1   112            0  \n",
       "270        1   244            0  \n",
       "141        0   109            0  \n",
       "\n",
       "[239 rows x 13 columns]"
      ]
     },
     "execution_count": 6,
     "metadata": {},
     "output_type": "execute_result"
    }
   ],
   "source": [
    "data = data.to_pandas_dataframe()\n",
    "x=data.drop('DEATH_EVENT',axis=1)\n",
    "y=data['DEATH_EVENT']\n",
    "\n",
    "##split into train and test datasets\n",
    "x_train, x_test, y_train, y_test= train_test_split(x, y, test_size=0.20)\n",
    "\n",
    "#concatenate to form train and test datasets \n",
    "train_df=pd.concat([x_train, y_train], axis=1)\n",
    "test_df=pd.concat([x_test, y_test], axis=1)\n",
    "\n",
    "train_df"
   ]
  },
  {
   "cell_type": "code",
   "execution_count": 7,
   "metadata": {},
   "outputs": [
    {
     "name": "stderr",
     "output_type": "stream",
     "text": [
      "\"Datastore.upload\" is deprecated after version 1.0.69. Please use \"Dataset.File.upload_directory\" to upload your files             from a local directory and create FileDataset in single method call. See Dataset API change notice at https://aka.ms/dataset-deprecation.\n"
     ]
    },
    {
     "name": "stdout",
     "output_type": "stream",
     "text": [
      "Uploading an estimated of 2 files\n",
      "Uploading ./data/test_data.csv\n",
      "Uploaded ./data/test_data.csv, 1 files out of an estimated total of 2\n",
      "Uploading ./data/train_data.csv\n",
      "Uploaded ./data/train_data.csv, 2 files out of an estimated total of 2\n",
      "Uploaded 2 files\n"
     ]
    },
    {
     "data": {
      "text/plain": [
       "$AZUREML_DATAREFERENCE_f78d3b1998744cd3a3d208718acf191a"
      ]
     },
     "execution_count": 7,
     "metadata": {},
     "output_type": "execute_result"
    }
   ],
   "source": [
    "#save pandas dataframe as .csv and upload to datastore\n",
    "if not os.path.isdir('data'):\n",
    "    os.mkdir('data')\n",
    "pd.DataFrame(train_df).to_csv(\"data/train_data.csv\", index=False)\n",
    "pd.DataFrame(test_df).to_csv(\"data/test_data.csv\", index=False)\n",
    "\n",
    "ds = ws.get_default_datastore()\n",
    "ds.upload(src_dir='./data', target_path='heart-failure', overwrite=True, show_progress=True)"
   ]
  },
  {
   "cell_type": "code",
   "execution_count": 8,
   "metadata": {},
   "outputs": [],
   "source": [
    "#Load dataset as TabularDataset\n",
    "train_data = Dataset.Tabular.from_delimited_files(path=ds.path('heart-failure/train_data.csv'))"
   ]
  },
  {
   "cell_type": "code",
   "execution_count": 9,
   "metadata": {},
   "outputs": [
    {
     "data": {
      "text/plain": [
       "['average_precision_score_weighted',\n",
       " 'AUC_weighted',\n",
       " 'precision_score_weighted',\n",
       " 'accuracy',\n",
       " 'norm_macro_recall']"
      ]
     },
     "execution_count": 9,
     "metadata": {},
     "output_type": "execute_result"
    }
   ],
   "source": [
    "get_primary_metrics(\"classification\")"
   ]
  },
  {
   "cell_type": "markdown",
   "metadata": {},
   "source": [
    "## AutoML Configuration\n",
    "The AutoML Config class is a way of leveraging the AutoML SDK to automate machine learning. \n",
    "\n",
    "The AutoML settings file is a dictionary that specifies all the parameters controlling the experiment like experiment_timeout_minutes, whether or not to enable early stoppong, number of cross validations, the primary metric, etc.\n",
    "\n",
    "In the AutoML Config, we specify the task, the training data to be used, the target column name, the compute target and we pass the automl settings dictionary."
   ]
  },
  {
   "cell_type": "code",
   "execution_count": 10,
   "metadata": {
    "gather": {
     "logged": 1598429217746
    },
    "jupyter": {
     "outputs_hidden": false,
     "source_hidden": false
    },
    "nteract": {
     "transient": {
      "deleting": false
     }
    }
   },
   "outputs": [],
   "source": [
    "# automl settings \n",
    "automl_settings = {\n",
    "    \"enable_early_stopping\" : True,\n",
    "    \"experiment_timeout_minutes\": 30,\n",
    "    \"n_cross_validations\": 4,\n",
    "    \"featurization\": 'auto',\n",
    "    \"primary_metric\": 'accuracy',\n",
    "    \"verbosity\": logging.INFO\n",
    "}\n",
    "\n",
    "# automl config \n",
    "automl_config = AutoMLConfig(\n",
    "    task='classification',\n",
    "    debug_log = 'automl_errors.log',\n",
    "    training_data=train_data,\n",
    "    label_column_name='DEATH_EVENT',\n",
    "    compute_target=compute_cluster,\n",
    "    **automl_settings\n",
    ")"
   ]
  },
  {
   "cell_type": "code",
   "execution_count": 11,
   "metadata": {
    "gather": {
     "logged": 1598431107951
    },
    "jupyter": {
     "outputs_hidden": false,
     "source_hidden": false
    },
    "nteract": {
     "transient": {
      "deleting": false
     }
    }
   },
   "outputs": [
    {
     "name": "stdout",
     "output_type": "stream",
     "text": [
      "Submitting remote run.\n"
     ]
    },
    {
     "data": {
      "text/html": [
       "<table style=\"width:100%\"><tr><th>Experiment</th><th>Id</th><th>Type</th><th>Status</th><th>Details Page</th><th>Docs Page</th></tr><tr><td>heart-failure-automl</td><td>AutoML_7e0b1c81-b6af-42a9-ad51-0b9083296104</td><td>automl</td><td>NotStarted</td><td><a href=\"https://ml.azure.com/runs/AutoML_7e0b1c81-b6af-42a9-ad51-0b9083296104?wsid=/subscriptions/81cefad3-d2c9-4f77-a466-99a7f541c7bb/resourcegroups/aml-quickstarts-177051/workspaces/quick-starts-ws-177051&amp;tid=660b3398-b80e-49d2-bc5b-ac1dc93b5254\" target=\"_blank\" rel=\"noopener\">Link to Azure Machine Learning studio</a></td><td><a href=\"https://docs.microsoft.com/en-us/python/api/overview/azure/ml/intro?view=azure-ml-py\" target=\"_blank\" rel=\"noopener\">Link to Documentation</a></td></tr></table>"
      ],
      "text/plain": [
       "<IPython.core.display.HTML object>"
      ]
     },
     "metadata": {},
     "output_type": "display_data"
    }
   ],
   "source": [
    "# Submit your experiment\n",
    "remote_run = experiment.submit(automl_config)"
   ]
  },
  {
   "cell_type": "markdown",
   "metadata": {},
   "source": [
    "## Run Details"
   ]
  },
  {
   "cell_type": "code",
   "execution_count": 12,
   "metadata": {
    "gather": {
     "logged": 1598431121770
    },
    "jupyter": {
     "outputs_hidden": false,
     "source_hidden": false
    },
    "nteract": {
     "transient": {
      "deleting": false
     }
    }
   },
   "outputs": [
    {
     "data": {
      "application/vnd.jupyter.widget-view+json": {
       "model_id": "2d15c6fd03d146d1a7fab616bed07124",
       "version_major": 2,
       "version_minor": 0
      },
      "text/plain": [
       "_AutoMLWidget(widget_settings={'childWidgetDisplay': 'popup', 'send_telemetry': False, 'log_level': 'INFO', 's…"
      ]
     },
     "metadata": {},
     "output_type": "display_data"
    },
    {
     "data": {
      "application/aml.mini.widget.v1": "{\"status\": \"Completed\", \"workbench_run_details_uri\": \"https://ml.azure.com/runs/AutoML_7e0b1c81-b6af-42a9-ad51-0b9083296104?wsid=/subscriptions/81cefad3-d2c9-4f77-a466-99a7f541c7bb/resourcegroups/aml-quickstarts-177051/workspaces/quick-starts-ws-177051&tid=660b3398-b80e-49d2-bc5b-ac1dc93b5254\", \"run_id\": \"AutoML_7e0b1c81-b6af-42a9-ad51-0b9083296104\", \"run_properties\": {\"run_id\": \"AutoML_7e0b1c81-b6af-42a9-ad51-0b9083296104\", \"created_utc\": \"2022-01-20T15:50:17.315607Z\", \"properties\": {\"num_iterations\": \"1000\", \"training_type\": \"TrainFull\", \"acquisition_function\": \"EI\", \"primary_metric\": \"accuracy\", \"train_split\": \"0\", \"acquisition_parameter\": \"0\", \"num_cross_validation\": \"4\", \"target\": \"cpu-compute\", \"AMLSettingsJsonString\": \"{\\\"path\\\":null,\\\"name\\\":\\\"heart-failure-automl\\\",\\\"subscription_id\\\":\\\"81cefad3-d2c9-4f77-a466-99a7f541c7bb\\\",\\\"resource_group\\\":\\\"aml-quickstarts-177051\\\",\\\"workspace_name\\\":\\\"quick-starts-ws-177051\\\",\\\"region\\\":\\\"southcentralus\\\",\\\"compute_target\\\":\\\"cpu-compute\\\",\\\"spark_service\\\":null,\\\"azure_service\\\":\\\"remote\\\",\\\"many_models\\\":false,\\\"pipeline_fetch_max_batch_size\\\":1,\\\"enable_batch_run\\\":true,\\\"enable_run_restructure\\\":false,\\\"start_auxiliary_runs_before_parent_complete\\\":false,\\\"enable_code_generation\\\":false,\\\"iterations\\\":1000,\\\"primary_metric\\\":\\\"accuracy\\\",\\\"task_type\\\":\\\"classification\\\",\\\"positive_label\\\":null,\\\"data_script\\\":null,\\\"test_size\\\":0.0,\\\"test_include_predictions_only\\\":false,\\\"validation_size\\\":0.0,\\\"n_cross_validations\\\":4,\\\"y_min\\\":null,\\\"y_max\\\":null,\\\"num_classes\\\":null,\\\"featurization\\\":\\\"auto\\\",\\\"_ignore_package_version_incompatibilities\\\":false,\\\"is_timeseries\\\":false,\\\"max_cores_per_iteration\\\":1,\\\"max_concurrent_iterations\\\":1,\\\"iteration_timeout_minutes\\\":null,\\\"mem_in_mb\\\":null,\\\"enforce_time_on_windows\\\":false,\\\"experiment_timeout_minutes\\\":30,\\\"experiment_exit_score\\\":null,\\\"whitelist_models\\\":null,\\\"blacklist_algos\\\":[\\\"TensorFlowLinearClassifier\\\",\\\"TensorFlowDNN\\\"],\\\"supported_models\\\":[\\\"LogisticRegression\\\",\\\"XGBoostClassifier\\\",\\\"TensorFlowLinearClassifier\\\",\\\"TensorFlowDNN\\\",\\\"SVM\\\",\\\"LightGBM\\\",\\\"MultinomialNaiveBayes\\\",\\\"SGD\\\",\\\"ExtremeRandomTrees\\\",\\\"KNN\\\",\\\"AveragedPerceptronClassifier\\\",\\\"GradientBoosting\\\",\\\"RandomForest\\\",\\\"DecisionTree\\\",\\\"BernoulliNaiveBayes\\\",\\\"LinearSVM\\\"],\\\"private_models\\\":[\\\"TabnetClassifier\\\"],\\\"auto_blacklist\\\":true,\\\"blacklist_samples_reached\\\":false,\\\"exclude_nan_labels\\\":true,\\\"verbosity\\\":20,\\\"_debug_log\\\":\\\"azureml_automl.log\\\",\\\"show_warnings\\\":false,\\\"model_explainability\\\":true,\\\"service_url\\\":null,\\\"sdk_url\\\":null,\\\"sdk_packages\\\":null,\\\"enable_onnx_compatible_models\\\":false,\\\"enable_split_onnx_featurizer_estimator_models\\\":false,\\\"vm_type\\\":\\\"STANDARD_D2_V2\\\",\\\"telemetry_verbosity\\\":20,\\\"send_telemetry\\\":true,\\\"enable_dnn\\\":false,\\\"scenario\\\":\\\"SDK-1.13.0\\\",\\\"environment_label\\\":null,\\\"save_mlflow\\\":false,\\\"enable_categorical_indicators\\\":false,\\\"force_text_dnn\\\":false,\\\"enable_feature_sweeping\\\":true,\\\"enable_early_stopping\\\":true,\\\"early_stopping_n_iters\\\":10,\\\"arguments\\\":null,\\\"dataset_id\\\":null,\\\"hyperdrive_config\\\":null,\\\"validation_dataset_id\\\":null,\\\"run_source\\\":null,\\\"metrics\\\":null,\\\"enable_metric_confidence\\\":false,\\\"enable_ensembling\\\":true,\\\"enable_stack_ensembling\\\":true,\\\"ensemble_iterations\\\":15,\\\"enable_tf\\\":false,\\\"enable_subsampling\\\":null,\\\"subsample_seed\\\":null,\\\"enable_nimbusml\\\":false,\\\"enable_streaming\\\":false,\\\"force_streaming\\\":false,\\\"track_child_runs\\\":true,\\\"allowed_private_models\\\":[],\\\"label_column_name\\\":\\\"DEATH_EVENT\\\",\\\"weight_column_name\\\":null,\\\"cv_split_column_names\\\":null,\\\"enable_local_managed\\\":false,\\\"_local_managed_run_id\\\":null,\\\"cost_mode\\\":1,\\\"lag_length\\\":0,\\\"metric_operation\\\":\\\"maximize\\\",\\\"preprocess\\\":true}\", \"DataPrepJsonString\": \"{\\\\\\\"training_data\\\\\\\": {\\\\\\\"datasetId\\\\\\\": \\\\\\\"d6aba19a-0103-4669-980e-c31d9f8df225\\\\\\\"}, \\\\\\\"datasets\\\\\\\": 0}\", \"EnableSubsampling\": null, \"runTemplate\": \"AutoML\", \"azureml.runsource\": \"automl\", \"display_task_type\": \"classification\", \"dependencies_versions\": \"{\\\"azureml-widgets\\\": \\\"1.36.0\\\", \\\"azureml-train\\\": \\\"1.36.0\\\", \\\"azureml-train-restclients-hyperdrive\\\": \\\"1.36.0\\\", \\\"azureml-train-core\\\": \\\"1.36.0\\\", \\\"azureml-train-automl\\\": \\\"1.36.0\\\", \\\"azureml-train-automl-runtime\\\": \\\"1.36.0\\\", \\\"azureml-train-automl-client\\\": \\\"1.36.0\\\", \\\"azureml-tensorboard\\\": \\\"1.36.0\\\", \\\"azureml-telemetry\\\": \\\"1.36.0\\\", \\\"azureml-sdk\\\": \\\"1.36.0\\\", \\\"azureml-samples\\\": \\\"0+unknown\\\", \\\"azureml-responsibleai\\\": \\\"1.36.0\\\", \\\"azureml-pipeline\\\": \\\"1.36.0\\\", \\\"azureml-pipeline-steps\\\": \\\"1.36.0\\\", \\\"azureml-pipeline-core\\\": \\\"1.36.0\\\", \\\"azureml-opendatasets\\\": \\\"1.36.0\\\", \\\"azureml-mlflow\\\": \\\"1.36.0\\\", \\\"azureml-interpret\\\": \\\"1.36.0\\\", \\\"azureml-inference-server-http\\\": \\\"0.4.1\\\", \\\"azureml-explain-model\\\": \\\"1.36.0\\\", \\\"azureml-defaults\\\": \\\"1.36.0\\\", \\\"azureml-dataset-runtime\\\": \\\"1.36.0\\\", \\\"azureml-dataprep\\\": \\\"2.24.4\\\", \\\"azureml-dataprep-rslex\\\": \\\"2.0.3\\\", \\\"azureml-dataprep-native\\\": \\\"38.0.0\\\", \\\"azureml-datadrift\\\": \\\"1.36.0\\\", \\\"azureml-core\\\": \\\"1.36.0.post2\\\", \\\"azureml-contrib-services\\\": \\\"1.36.0\\\", \\\"azureml-contrib-server\\\": \\\"1.36.0\\\", \\\"azureml-contrib-reinforcementlearning\\\": \\\"1.36.0\\\", \\\"azureml-contrib-pipeline-steps\\\": \\\"1.36.0\\\", \\\"azureml-contrib-notebook\\\": \\\"1.36.0\\\", \\\"azureml-contrib-fairness\\\": \\\"1.36.0\\\", \\\"azureml-contrib-dataset\\\": \\\"1.36.0\\\", \\\"azureml-contrib-automl-pipeline-steps\\\": \\\"1.36.0\\\", \\\"azureml-cli-common\\\": \\\"1.36.0\\\", \\\"azureml-automl-runtime\\\": \\\"1.36.0\\\", \\\"azureml-automl-dnn-nlp\\\": \\\"1.36.0\\\", \\\"azureml-automl-core\\\": \\\"1.36.0\\\", \\\"azureml-accel-models\\\": \\\"1.36.0\\\"}\", \"_aml_system_scenario_identification\": \"Remote.Parent\", \"ClientType\": \"SDK\", \"environment_cpu_name\": \"AzureML-AutoML\", \"environment_cpu_label\": \"prod\", \"environment_gpu_name\": \"AzureML-AutoML-GPU\", \"environment_gpu_label\": \"prod\", \"root_attribution\": \"automl\", \"attribution\": \"AutoML\", \"Orchestrator\": \"AutoML\", \"CancelUri\": \"https://southcentralus.api.azureml.ms/jasmine/v1.0/subscriptions/81cefad3-d2c9-4f77-a466-99a7f541c7bb/resourceGroups/aml-quickstarts-177051/providers/Microsoft.MachineLearningServices/workspaces/quick-starts-ws-177051/experimentids/a8554fc0-d04a-4a93-bee6-a75ad6d739fe/cancel/AutoML_7e0b1c81-b6af-42a9-ad51-0b9083296104\", \"ClientSdkVersion\": \"1.37.0\", \"snapshotId\": \"00000000-0000-0000-0000-000000000000\", \"SetupRunId\": \"AutoML_7e0b1c81-b6af-42a9-ad51-0b9083296104_setup\", \"SetupRunContainerId\": \"dcid.AutoML_7e0b1c81-b6af-42a9-ad51-0b9083296104_setup\", \"FeaturizationRunJsonPath\": \"featurizer_container.json\", \"FeaturizationRunId\": \"AutoML_7e0b1c81-b6af-42a9-ad51-0b9083296104_featurize\", \"ProblemInfoJsonString\": \"{\\\"dataset_num_categorical\\\": 0, \\\"is_sparse\\\": false, \\\"subsampling\\\": false, \\\"has_extra_col\\\": true, \\\"dataset_classes\\\": 2, \\\"dataset_features\\\": 20, \\\"dataset_samples\\\": 239, \\\"single_frequency_class_detected\\\": false}\", \"ModelExplainRunId\": \"AutoML_7e0b1c81-b6af-42a9-ad51-0b9083296104_ModelExplain\"}, \"tags\": {\"model_explain_run\": \"best_run\", \"_aml_system_azureml.automlComponent\": \"AutoML\", \"pipeline_id\": \"\", \"score\": \"\", \"predicted_cost\": \"\", \"fit_time\": \"\", \"training_percent\": \"\", \"iteration\": \"\", \"run_preprocessor\": \"\", \"run_algorithm\": \"\", \"dynamic_whitelisting_iterations\": \"<25>;<30>;<35>;\", \"_aml_system_azureml.automl_early_exit_message\": \"No scores improved over last 20 iterations, so experiment stopped early. This early stopping behavior can be disabled by setting enable_early_stopping = False in AutoMLConfig for notebook/python SDK runs.\", \"automl_best_child_run_id\": \"AutoML_7e0b1c81-b6af-42a9-ad51-0b9083296104_36\", \"model_explain_best_run_child_id\": \"AutoML_7e0b1c81-b6af-42a9-ad51-0b9083296104_36\"}, \"end_time_utc\": \"2022-01-20T16:17:13.680801Z\", \"status\": \"Completed\", \"log_files\": {}, \"log_groups\": [], \"run_duration\": \"0:26:56\", \"run_number\": \"28\", \"run_queued_details\": {\"status\": \"Completed\", \"details\": null}}, \"child_runs\": [{\"run_id\": \"AutoML_7e0b1c81-b6af-42a9-ad51-0b9083296104_setup\", \"run_number\": 29, \"metric\": null, \"status\": \"Completed\", \"run_type\": \"azureml.scriptrun\", \"training_percent\": null, \"start_time\": \"2022-01-20T15:50:35.725891Z\", \"end_time\": \"2022-01-20T15:51:28.655298Z\", \"created_time\": \"2022-01-20T15:50:29.312904Z\", \"created_time_dt\": \"2022-01-20T15:50:29.312904Z\", \"duration\": \"0:00:59\", \"iteration\": null, \"goal\": null, \"run_name\": \"Completed\", \"run_properties\": null}, {\"run_id\": \"AutoML_7e0b1c81-b6af-42a9-ad51-0b9083296104_featurize\", \"run_number\": 31, \"metric\": null, \"status\": \"Completed\", \"run_type\": \"automl.featurization\", \"training_percent\": null, \"start_time\": \"2022-01-20T15:51:29.653501Z\", \"end_time\": \"2022-01-20T15:53:09.748952Z\", \"created_time\": \"2022-01-20T15:51:29.240494Z\", \"created_time_dt\": \"2022-01-20T15:51:29.240494Z\", \"duration\": \"0:01:40\", \"iteration\": null, \"goal\": null, \"run_name\": \"Completed\", \"run_properties\": null}, {\"run_id\": \"AutoML_7e0b1c81-b6af-42a9-ad51-0b9083296104_0\", \"run_number\": 34, \"metric\": null, \"status\": \"Completed\", \"run_type\": null, \"training_percent\": \"100\", \"start_time\": \"2022-01-20T15:55:00.444035Z\", \"end_time\": \"2022-01-20T15:55:08.989551Z\", \"created_time\": \"2022-01-20T15:53:11.365611Z\", \"created_time_dt\": \"2022-01-20T15:53:11.365611Z\", \"duration\": \"0:01:57\", \"iteration\": \"0\", \"goal\": \"accuracy_max\", \"run_name\": \"MaxAbsScaler, LightGBM\", \"run_properties\": \"copy=True\", \"primary_metric\": 0.8075565, \"best_metric\": 0.8075565}, {\"run_id\": \"AutoML_7e0b1c81-b6af-42a9-ad51-0b9083296104_1\", \"run_number\": 35, \"metric\": null, \"status\": \"Completed\", \"run_type\": null, \"training_percent\": \"100\", \"start_time\": \"2022-01-20T15:55:09.196363Z\", \"end_time\": \"2022-01-20T15:55:17.936543Z\", \"created_time\": \"2022-01-20T15:53:12.073342Z\", \"created_time_dt\": \"2022-01-20T15:53:12.073342Z\", \"duration\": \"0:02:05\", \"iteration\": \"1\", \"goal\": \"accuracy_max\", \"run_name\": \"MaxAbsScaler, XGBoostClassifier\", \"run_properties\": \"copy=True\", \"primary_metric\": 0.80317797, \"best_metric\": 0.8075565}, {\"run_id\": \"AutoML_7e0b1c81-b6af-42a9-ad51-0b9083296104_2\", \"run_number\": 36, \"metric\": null, \"status\": \"Completed\", \"run_type\": null, \"training_percent\": \"100\", \"start_time\": \"2022-01-20T15:55:18.144575Z\", \"end_time\": \"2022-01-20T15:55:28.075258Z\", \"created_time\": \"2022-01-20T15:53:12.789596Z\", \"created_time_dt\": \"2022-01-20T15:53:12.789596Z\", \"duration\": \"0:02:15\", \"iteration\": \"2\", \"goal\": \"accuracy_max\", \"run_name\": \"MaxAbsScaler, ExtremeRandomTrees\", \"run_properties\": \"copy=True\", \"primary_metric\": 0.84943503, \"best_metric\": 0.84943503}, {\"run_id\": \"AutoML_7e0b1c81-b6af-42a9-ad51-0b9083296104_3\", \"run_number\": 37, \"metric\": null, \"status\": \"Completed\", \"run_type\": null, \"training_percent\": \"100\", \"start_time\": \"2022-01-20T15:55:28.370253Z\", \"end_time\": \"2022-01-20T15:55:37.093149Z\", \"created_time\": \"2022-01-20T15:53:13.480625Z\", \"created_time_dt\": \"2022-01-20T15:53:13.480625Z\", \"duration\": \"0:02:23\", \"iteration\": \"3\", \"goal\": \"accuracy_max\", \"run_name\": \"SparseNormalizer, XGBoostClassifier\", \"run_properties\": \"copy=True, norm='l2'\", \"primary_metric\": 0.7950565, \"best_metric\": 0.84943503}, {\"run_id\": \"AutoML_7e0b1c81-b6af-42a9-ad51-0b9083296104_4\", \"run_number\": 38, \"metric\": null, \"status\": \"Completed\", \"run_type\": null, \"training_percent\": \"100\", \"start_time\": \"2022-01-20T15:55:38.546957Z\", \"end_time\": \"2022-01-20T15:55:47.10677Z\", \"created_time\": \"2022-01-20T15:53:14.125937Z\", \"created_time_dt\": \"2022-01-20T15:53:14.125937Z\", \"duration\": \"0:02:32\", \"iteration\": \"4\", \"goal\": \"accuracy_max\", \"run_name\": \"StandardScalerWrapper, KNN\", \"run_properties\": \"\\n    copy=True,\\n    with_mean=False,\\n    with_std=False\\n\", \"primary_metric\": 0.61885593, \"best_metric\": 0.84943503}, {\"run_id\": \"AutoML_7e0b1c81-b6af-42a9-ad51-0b9083296104_5\", \"run_number\": 39, \"metric\": null, \"status\": \"Completed\", \"run_type\": null, \"training_percent\": \"100\", \"start_time\": \"2022-01-20T15:55:47.334186Z\", \"end_time\": \"2022-01-20T15:55:55.944587Z\", \"created_time\": \"2022-01-20T15:53:14.824446Z\", \"created_time_dt\": \"2022-01-20T15:53:14.824446Z\", \"duration\": \"0:02:41\", \"iteration\": \"5\", \"goal\": \"accuracy_max\", \"run_name\": \"MaxAbsScaler, LightGBM\", \"run_properties\": \"copy=True\", \"primary_metric\": 0.85353107, \"best_metric\": 0.85353107}, {\"run_id\": \"AutoML_7e0b1c81-b6af-42a9-ad51-0b9083296104_6\", \"run_number\": 40, \"metric\": null, \"status\": \"Completed\", \"run_type\": null, \"training_percent\": \"100\", \"start_time\": \"2022-01-20T15:55:56.135111Z\", \"end_time\": \"2022-01-20T15:56:04.962101Z\", \"created_time\": \"2022-01-20T15:53:15.560023Z\", \"created_time_dt\": \"2022-01-20T15:53:15.560023Z\", \"duration\": \"0:02:49\", \"iteration\": \"6\", \"goal\": \"accuracy_max\", \"run_name\": \"RobustScaler, LogisticRegression\", \"run_properties\": \"copy=True, quantile_range=[10, 90], with_centering=True,\\n             with_scaling=True\", \"primary_metric\": 0.80769774, \"best_metric\": 0.85353107}, {\"run_id\": \"AutoML_7e0b1c81-b6af-42a9-ad51-0b9083296104_7\", \"run_number\": 41, \"metric\": null, \"status\": \"Completed\", \"run_type\": null, \"training_percent\": \"100\", \"start_time\": \"2022-01-20T15:56:05.16934Z\", \"end_time\": \"2022-01-20T15:56:13.615735Z\", \"created_time\": \"2022-01-20T15:53:16.251973Z\", \"created_time_dt\": \"2022-01-20T15:53:16.251973Z\", \"duration\": \"0:02:57\", \"iteration\": \"7\", \"goal\": \"accuracy_max\", \"run_name\": \"MaxAbsScaler, LightGBM\", \"run_properties\": \"copy=True\", \"primary_metric\": 0.79929379, \"best_metric\": 0.85353107}, {\"run_id\": \"AutoML_7e0b1c81-b6af-42a9-ad51-0b9083296104_8\", \"run_number\": 42, \"metric\": null, \"status\": \"Completed\", \"run_type\": null, \"training_percent\": \"100\", \"start_time\": \"2022-01-20T15:56:13.821613Z\", \"end_time\": \"2022-01-20T15:56:23.546378Z\", \"created_time\": \"2022-01-20T15:53:16.848463Z\", \"created_time_dt\": \"2022-01-20T15:53:16.848463Z\", \"duration\": \"0:03:06\", \"iteration\": \"8\", \"goal\": \"accuracy_max\", \"run_name\": \"StandardScalerWrapper, KNN\", \"run_properties\": \"\\n    copy=True,\\n    with_mean=False,\\n    with_std=False\\n\", \"primary_metric\": 0.61885593, \"best_metric\": 0.85353107}, {\"run_id\": \"AutoML_7e0b1c81-b6af-42a9-ad51-0b9083296104_9\", \"run_number\": 43, \"metric\": null, \"status\": \"Completed\", \"run_type\": null, \"training_percent\": \"100\", \"start_time\": \"2022-01-20T15:56:23.743016Z\", \"end_time\": \"2022-01-20T15:56:34.295294Z\", \"created_time\": \"2022-01-20T15:53:17.428155Z\", \"created_time_dt\": \"2022-01-20T15:53:17.428155Z\", \"duration\": \"0:03:16\", \"iteration\": \"9\", \"goal\": \"accuracy_max\", \"run_name\": \"StandardScalerWrapper, SVM\", \"run_properties\": \"\\n    copy=True,\\n    with_mean=True,\\n    with_std=True\\n\", \"primary_metric\": 0.76165254, \"best_metric\": 0.85353107}, {\"run_id\": \"AutoML_7e0b1c81-b6af-42a9-ad51-0b9083296104_10\", \"run_number\": 44, \"metric\": null, \"status\": \"Completed\", \"run_type\": null, \"training_percent\": \"100\", \"start_time\": \"2022-01-20T15:56:34.4956Z\", \"end_time\": \"2022-01-20T15:56:42.922856Z\", \"created_time\": \"2022-01-20T15:53:18.126587Z\", \"created_time_dt\": \"2022-01-20T15:53:18.126587Z\", \"duration\": \"0:03:24\", \"iteration\": \"10\", \"goal\": \"accuracy_max\", \"run_name\": \"StandardScalerWrapper, XGBoostClassifier\", \"run_properties\": \"\\n    copy=True,\\n    with_mean=False,\\n    with_std=False\\n\", \"primary_metric\": 0.81581921, \"best_metric\": 0.85353107}, {\"run_id\": \"AutoML_7e0b1c81-b6af-42a9-ad51-0b9083296104_11\", \"run_number\": 45, \"metric\": null, \"status\": \"Completed\", \"run_type\": null, \"training_percent\": \"100\", \"start_time\": \"2022-01-20T15:56:43.128491Z\", \"end_time\": \"2022-01-20T15:56:53.43924Z\", \"created_time\": \"2022-01-20T15:53:18.768842Z\", \"created_time_dt\": \"2022-01-20T15:53:18.768842Z\", \"duration\": \"0:03:34\", \"iteration\": \"11\", \"goal\": \"accuracy_max\", \"run_name\": \"MinMaxScaler, RandomForest\", \"run_properties\": \"copy=True, feature_range=(0, 1\", \"primary_metric\": 0.83665254, \"best_metric\": 0.85353107}, {\"run_id\": \"AutoML_7e0b1c81-b6af-42a9-ad51-0b9083296104_12\", \"run_number\": 46, \"metric\": null, \"status\": \"Completed\", \"run_type\": null, \"training_percent\": \"100\", \"start_time\": \"2022-01-20T15:56:53.648631Z\", \"end_time\": \"2022-01-20T15:57:02.514658Z\", \"created_time\": \"2022-01-20T15:53:19.371125Z\", \"created_time_dt\": \"2022-01-20T15:53:19.371125Z\", \"duration\": \"0:03:43\", \"iteration\": \"12\", \"goal\": \"accuracy_max\", \"run_name\": \"StandardScalerWrapper, LogisticRegression\", \"run_properties\": \"\\n    copy=True,\\n    with_mean=True,\\n    with_std=False\\n\", \"primary_metric\": 0.74067797, \"best_metric\": 0.85353107}, {\"run_id\": \"AutoML_7e0b1c81-b6af-42a9-ad51-0b9083296104_13\", \"run_number\": 47, \"metric\": null, \"status\": \"Completed\", \"run_type\": null, \"training_percent\": \"100\", \"start_time\": \"2022-01-20T15:57:02.741181Z\", \"end_time\": \"2022-01-20T15:57:11.466303Z\", \"created_time\": \"2022-01-20T15:53:20.133135Z\", \"created_time_dt\": \"2022-01-20T15:53:20.133135Z\", \"duration\": \"0:03:51\", \"iteration\": \"13\", \"goal\": \"accuracy_max\", \"run_name\": \"StandardScalerWrapper, KNN\", \"run_properties\": \"\\n    copy=True,\\n    with_mean=False,\\n    with_std=True\\n\", \"primary_metric\": 0.81200565, \"best_metric\": 0.85353107}, {\"run_id\": \"AutoML_7e0b1c81-b6af-42a9-ad51-0b9083296104_14\", \"run_number\": 48, \"metric\": null, \"status\": \"Completed\", \"run_type\": null, \"training_percent\": \"100\", \"start_time\": \"2022-01-20T15:57:11.730203Z\", \"end_time\": \"2022-01-20T15:57:20.56622Z\", \"created_time\": \"2022-01-20T15:53:20.808036Z\", \"created_time_dt\": \"2022-01-20T15:53:20.808036Z\", \"duration\": \"0:03:59\", \"iteration\": \"14\", \"goal\": \"accuracy_max\", \"run_name\": \"RobustScaler, KNN\", \"run_properties\": \"copy=True, quantile_range=[10, 90], with_centering=False,\\n             with_scaling=True\", \"primary_metric\": 0.74922316, \"best_metric\": 0.85353107}, {\"run_id\": \"AutoML_7e0b1c81-b6af-42a9-ad51-0b9083296104_15\", \"run_number\": 49, \"metric\": null, \"status\": \"Completed\", \"run_type\": null, \"training_percent\": \"100\", \"start_time\": \"2022-01-20T15:57:20.761944Z\", \"end_time\": \"2022-01-20T15:57:29.412797Z\", \"created_time\": \"2022-01-20T15:53:21.476298Z\", \"created_time_dt\": \"2022-01-20T15:53:21.476298Z\", \"duration\": \"0:04:07\", \"iteration\": \"15\", \"goal\": \"accuracy_max\", \"run_name\": \"MinMaxScaler, KNN\", \"run_properties\": \"copy=True, feature_range=(0, 1\", \"primary_metric\": 0.74929379, \"best_metric\": 0.85353107}, {\"run_id\": \"AutoML_7e0b1c81-b6af-42a9-ad51-0b9083296104_16\", \"run_number\": 50, \"metric\": null, \"status\": \"Completed\", \"run_type\": null, \"training_percent\": \"100\", \"start_time\": \"2022-01-20T15:57:29.608145Z\", \"end_time\": \"2022-01-20T15:57:38.235663Z\", \"created_time\": \"2022-01-20T15:53:22.051602Z\", \"created_time_dt\": \"2022-01-20T15:53:22.051602Z\", \"duration\": \"0:04:16\", \"iteration\": \"16\", \"goal\": \"accuracy_max\", \"run_name\": \"SparseNormalizer, KNN\", \"run_properties\": \"copy=True, norm='max'\", \"primary_metric\": 0.7365113, \"best_metric\": 0.85353107}, {\"run_id\": \"AutoML_7e0b1c81-b6af-42a9-ad51-0b9083296104_17\", \"run_number\": 51, \"metric\": null, \"status\": \"Completed\", \"run_type\": null, \"training_percent\": \"100\", \"start_time\": \"2022-01-20T15:57:38.467641Z\", \"end_time\": \"2022-01-20T15:57:47.330992Z\", \"created_time\": \"2022-01-20T15:53:22.646876Z\", \"created_time_dt\": \"2022-01-20T15:53:22.646876Z\", \"duration\": \"0:04:24\", \"iteration\": \"17\", \"goal\": \"accuracy_max\", \"run_name\": \"MaxAbsScaler, LogisticRegression\", \"run_properties\": \"copy=True\", \"primary_metric\": 0.83269774, \"best_metric\": 0.85353107}, {\"run_id\": \"AutoML_7e0b1c81-b6af-42a9-ad51-0b9083296104_18\", \"run_number\": 52, \"metric\": null, \"status\": \"Completed\", \"run_type\": null, \"training_percent\": \"100\", \"start_time\": \"2022-01-20T15:57:47.52725Z\", \"end_time\": \"2022-01-20T15:57:56.407445Z\", \"created_time\": \"2022-01-20T15:53:23.263606Z\", \"created_time_dt\": \"2022-01-20T15:53:23.263606Z\", \"duration\": \"0:04:33\", \"iteration\": \"18\", \"goal\": \"accuracy_max\", \"run_name\": \"StandardScalerWrapper, XGBoostClassifier\", \"run_properties\": \"\\n    copy=True,\\n    with_mean=False,\\n    with_std=False\\n\", \"primary_metric\": 0.82853107, \"best_metric\": 0.85353107}, {\"run_id\": \"AutoML_7e0b1c81-b6af-42a9-ad51-0b9083296104_19\", \"run_number\": 53, \"metric\": null, \"status\": \"Completed\", \"run_type\": null, \"training_percent\": \"100\", \"start_time\": \"2022-01-20T15:57:56.622383Z\", \"end_time\": \"2022-01-20T15:58:05.380231Z\", \"created_time\": \"2022-01-20T15:53:23.849304Z\", \"created_time_dt\": \"2022-01-20T15:53:23.849304Z\", \"duration\": \"0:04:41\", \"iteration\": \"19\", \"goal\": \"accuracy_max\", \"run_name\": \"StandardScalerWrapper, XGBoostClassifier\", \"run_properties\": \"\\n    copy=True,\\n    with_mean=False,\\n    with_std=False\\n\", \"primary_metric\": 0.83262712, \"best_metric\": 0.85353107}, {\"run_id\": \"AutoML_7e0b1c81-b6af-42a9-ad51-0b9083296104_worker_0\", \"run_number\": 54, \"metric\": null, \"status\": \"Completed\", \"run_type\": \"azureml.scriptrun\", \"training_percent\": null, \"start_time\": \"2022-01-20T15:53:35.412933Z\", \"end_time\": \"2022-01-20T15:58:26.979237Z\", \"created_time\": \"2022-01-20T15:53:24.405249Z\", \"created_time_dt\": \"2022-01-20T15:53:24.405249Z\", \"duration\": \"0:05:02\", \"iteration\": null, \"goal\": null, \"run_name\": \"Completed\", \"run_properties\": null}, {\"run_id\": \"AutoML_7e0b1c81-b6af-42a9-ad51-0b9083296104_20\", \"run_number\": 63, \"metric\": null, \"status\": \"Completed\", \"run_type\": \"azureml.scriptrun\", \"training_percent\": \"100\", \"start_time\": \"2022-01-20T16:00:28.601717Z\", \"end_time\": \"2022-01-20T16:01:09.496122Z\", \"created_time\": \"2022-01-20T16:00:20.508363Z\", \"created_time_dt\": \"2022-01-20T16:00:20.508363Z\", \"duration\": \"0:00:48\", \"iteration\": \"20\", \"goal\": \"accuracy_max\", \"run_name\": \"MaxAbsScaler, LogisticRegression\", \"run_properties\": \"copy=True\", \"primary_metric\": 0.83693503, \"best_metric\": 0.85353107}, {\"run_id\": \"AutoML_7e0b1c81-b6af-42a9-ad51-0b9083296104_21\", \"run_number\": 65, \"metric\": null, \"status\": \"Completed\", \"run_type\": \"azureml.scriptrun\", \"training_percent\": \"100\", \"start_time\": \"2022-01-20T16:01:18.289175Z\", \"end_time\": \"2022-01-20T16:01:57.902126Z\", \"created_time\": \"2022-01-20T16:01:11.449678Z\", \"created_time_dt\": \"2022-01-20T16:01:11.449678Z\", \"duration\": \"0:00:46\", \"iteration\": \"21\", \"goal\": \"accuracy_max\", \"run_name\": \"StandardScalerWrapper, XGBoostClassifier\", \"run_properties\": \"\\n    copy=True,\\n    with_mean=False,\\n    with_std=False\\n\", \"primary_metric\": 0.84103107, \"best_metric\": 0.85353107}, {\"run_id\": \"AutoML_7e0b1c81-b6af-42a9-ad51-0b9083296104_22\", \"run_number\": 67, \"metric\": null, \"status\": \"Completed\", \"run_type\": \"azureml.scriptrun\", \"training_percent\": \"100\", \"start_time\": \"2022-01-20T16:02:08.312543Z\", \"end_time\": \"2022-01-20T16:02:49.597206Z\", \"created_time\": \"2022-01-20T16:01:59.785688Z\", \"created_time_dt\": \"2022-01-20T16:01:59.785688Z\", \"duration\": \"0:00:49\", \"iteration\": \"22\", \"goal\": \"accuracy_max\", \"run_name\": \"SparseNormalizer, XGBoostClassifier\", \"run_properties\": \"copy=True, norm='l1'\", \"primary_metric\": 0.81186441, \"best_metric\": 0.85353107}, {\"run_id\": \"AutoML_7e0b1c81-b6af-42a9-ad51-0b9083296104_23\", \"run_number\": 68, \"metric\": null, \"status\": \"Completed\", \"run_type\": \"azureml.scriptrun\", \"training_percent\": \"100\", \"start_time\": \"2022-01-20T16:02:59.15414Z\", \"end_time\": \"2022-01-20T16:03:41.418082Z\", \"created_time\": \"2022-01-20T16:02:51.743587Z\", \"created_time_dt\": \"2022-01-20T16:02:51.743587Z\", \"duration\": \"0:00:49\", \"iteration\": \"23\", \"goal\": \"accuracy_max\", \"run_name\": \"RobustScaler, LightGBM\", \"run_properties\": \"copy=True, quantile_range=[25, 75], with_centering=True,\\n             with_scaling=False\", \"primary_metric\": 0.84096045, \"best_metric\": 0.85353107}, {\"run_id\": \"AutoML_7e0b1c81-b6af-42a9-ad51-0b9083296104_24\", \"run_number\": 70, \"metric\": null, \"status\": \"Completed\", \"run_type\": \"azureml.scriptrun\", \"training_percent\": \"100\", \"start_time\": \"2022-01-20T16:03:52.602524Z\", \"end_time\": \"2022-01-20T16:04:32.17335Z\", \"created_time\": \"2022-01-20T16:03:43.376038Z\", \"created_time_dt\": \"2022-01-20T16:03:43.376038Z\", \"duration\": \"0:00:48\", \"iteration\": \"24\", \"goal\": \"accuracy_max\", \"run_name\": \"MinMaxScaler, LightGBM\", \"run_properties\": \"copy=True, feature_range=(0, 1\", \"primary_metric\": 0.84103107, \"best_metric\": 0.85353107}, {\"run_id\": \"AutoML_7e0b1c81-b6af-42a9-ad51-0b9083296104_25\", \"run_number\": 71, \"metric\": null, \"status\": \"Completed\", \"run_type\": \"azureml.scriptrun\", \"training_percent\": \"100\", \"start_time\": \"2022-01-20T16:04:40.97971Z\", \"end_time\": \"2022-01-20T16:05:22.39353Z\", \"created_time\": \"2022-01-20T16:04:35.197811Z\", \"created_time_dt\": \"2022-01-20T16:04:35.197811Z\", \"duration\": \"0:00:47\", \"iteration\": \"25\", \"goal\": \"accuracy_max\", \"run_name\": \"StandardScalerWrapper, LightGBM\", \"run_properties\": \"\\n    copy=True,\\n    with_mean=True,\\n    with_std=True\\n\", \"primary_metric\": 0.86172316, \"best_metric\": 0.86172316}, {\"run_id\": \"AutoML_7e0b1c81-b6af-42a9-ad51-0b9083296104_26\", \"run_number\": 72, \"metric\": null, \"status\": \"Completed\", \"run_type\": \"azureml.scriptrun\", \"training_percent\": \"100\", \"start_time\": \"2022-01-20T16:05:31.405853Z\", \"end_time\": \"2022-01-20T16:06:11.908624Z\", \"created_time\": \"2022-01-20T16:05:24.475743Z\", \"created_time_dt\": \"2022-01-20T16:05:24.475743Z\", \"duration\": \"0:00:47\", \"iteration\": \"26\", \"goal\": \"accuracy_max\", \"run_name\": \"SparseNormalizer, XGBoostClassifier\", \"run_properties\": \"copy=True, norm='max'\", \"primary_metric\": 0.81200565, \"best_metric\": 0.86172316}, {\"run_id\": \"AutoML_7e0b1c81-b6af-42a9-ad51-0b9083296104_27\", \"run_number\": 73, \"metric\": null, \"status\": \"Completed\", \"run_type\": \"azureml.scriptrun\", \"training_percent\": \"100\", \"start_time\": \"2022-01-20T16:06:19.076638Z\", \"end_time\": \"2022-01-20T16:06:59.630642Z\", \"created_time\": \"2022-01-20T16:06:13.879147Z\", \"created_time_dt\": \"2022-01-20T16:06:13.879147Z\", \"duration\": \"0:00:45\", \"iteration\": \"27\", \"goal\": \"accuracy_max\", \"run_name\": \"StandardScalerWrapper, XGBoostClassifier\", \"run_properties\": \"\\n    copy=True,\\n    with_mean=False,\\n    with_std=False\\n\", \"primary_metric\": 0.84096045, \"best_metric\": 0.86172316}, {\"run_id\": \"AutoML_7e0b1c81-b6af-42a9-ad51-0b9083296104_28\", \"run_number\": 74, \"metric\": null, \"status\": \"Completed\", \"run_type\": \"azureml.scriptrun\", \"training_percent\": \"100\", \"start_time\": \"2022-01-20T16:07:08.207283Z\", \"end_time\": \"2022-01-20T16:07:54.217272Z\", \"created_time\": \"2022-01-20T16:07:01.508307Z\", \"created_time_dt\": \"2022-01-20T16:07:01.508307Z\", \"duration\": \"0:00:52\", \"iteration\": \"28\", \"goal\": \"accuracy_max\", \"run_name\": \"SparseNormalizer, XGBoostClassifier\", \"run_properties\": \"copy=True, norm='l1'\", \"primary_metric\": 0.82026836, \"best_metric\": 0.86172316}, {\"run_id\": \"AutoML_7e0b1c81-b6af-42a9-ad51-0b9083296104_29\", \"run_number\": 75, \"metric\": null, \"status\": \"Completed\", \"run_type\": \"azureml.scriptrun\", \"training_percent\": \"100\", \"start_time\": \"2022-01-20T16:08:11.246024Z\", \"end_time\": \"2022-01-20T16:08:52.473731Z\", \"created_time\": \"2022-01-20T16:07:56.720136Z\", \"created_time_dt\": \"2022-01-20T16:07:56.720136Z\", \"duration\": \"0:00:55\", \"iteration\": \"29\", \"goal\": \"accuracy_max\", \"run_name\": \"SparseNormalizer, XGBoostClassifier\", \"run_properties\": \"copy=True, norm='l1'\", \"primary_metric\": 0.82443503, \"best_metric\": 0.86172316}, {\"run_id\": \"AutoML_7e0b1c81-b6af-42a9-ad51-0b9083296104_30\", \"run_number\": 76, \"metric\": null, \"status\": \"Completed\", \"run_type\": \"azureml.scriptrun\", \"training_percent\": \"100\", \"start_time\": \"2022-01-20T16:09:07.219152Z\", \"end_time\": \"2022-01-20T16:09:48.45307Z\", \"created_time\": \"2022-01-20T16:08:55.574551Z\", \"created_time_dt\": \"2022-01-20T16:08:55.574551Z\", \"duration\": \"0:00:52\", \"iteration\": \"30\", \"goal\": \"accuracy_max\", \"run_name\": \"StandardScalerWrapper, LightGBM\", \"run_properties\": \"\\n    copy=True,\\n    with_mean=False,\\n    with_std=False\\n\", \"primary_metric\": 0.83262712, \"best_metric\": 0.86172316}, {\"run_id\": \"AutoML_7e0b1c81-b6af-42a9-ad51-0b9083296104_31\", \"run_number\": 77, \"metric\": null, \"status\": \"Completed\", \"run_type\": \"azureml.scriptrun\", \"training_percent\": \"100\", \"start_time\": \"2022-01-20T16:09:58.261771Z\", \"end_time\": \"2022-01-20T16:10:51.512755Z\", \"created_time\": \"2022-01-20T16:09:50.678237Z\", \"created_time_dt\": \"2022-01-20T16:09:50.678237Z\", \"duration\": \"0:01:00\", \"iteration\": \"31\", \"goal\": \"accuracy_max\", \"run_name\": \"StandardScalerWrapper, XGBoostClassifier\", \"run_properties\": \"\\n    copy=True,\\n    with_mean=False,\\n    with_std=False\\n\", \"primary_metric\": 0.83679379, \"best_metric\": 0.86172316}, {\"run_id\": \"AutoML_7e0b1c81-b6af-42a9-ad51-0b9083296104_32\", \"run_number\": 78, \"metric\": null, \"status\": \"Completed\", \"run_type\": \"azureml.scriptrun\", \"training_percent\": \"100\", \"start_time\": \"2022-01-20T16:11:07.671175Z\", \"end_time\": \"2022-01-20T16:11:49.197716Z\", \"created_time\": \"2022-01-20T16:10:53.797218Z\", \"created_time_dt\": \"2022-01-20T16:10:53.797218Z\", \"duration\": \"0:00:55\", \"iteration\": \"32\", \"goal\": \"accuracy_max\", \"run_name\": \"StandardScalerWrapper, XGBoostClassifier\", \"run_properties\": \"\\n    copy=True,\\n    with_mean=False,\\n    with_std=False\\n\", \"primary_metric\": 0.82415254, \"best_metric\": 0.86172316}, {\"run_id\": \"AutoML_7e0b1c81-b6af-42a9-ad51-0b9083296104_33\", \"run_number\": 79, \"metric\": null, \"status\": \"Completed\", \"run_type\": \"azureml.scriptrun\", \"training_percent\": \"100\", \"start_time\": \"2022-01-20T16:12:05.899164Z\", \"end_time\": \"2022-01-20T16:13:01.710823Z\", \"created_time\": \"2022-01-20T16:11:51.079356Z\", \"created_time_dt\": \"2022-01-20T16:11:51.079356Z\", \"duration\": \"0:01:10\", \"iteration\": \"33\", \"goal\": \"accuracy_max\", \"run_name\": \"MinMaxScaler, RandomForest\", \"run_properties\": \"copy=True, feature_range=(0, 1\", \"primary_metric\": 0.83262712, \"best_metric\": 0.86172316}, {\"run_id\": \"AutoML_7e0b1c81-b6af-42a9-ad51-0b9083296104_34\", \"run_number\": 80, \"metric\": null, \"status\": \"Completed\", \"run_type\": \"azureml.scriptrun\", \"training_percent\": \"100\", \"start_time\": \"2022-01-20T16:13:15.008391Z\", \"end_time\": \"2022-01-20T16:13:55.949821Z\", \"created_time\": \"2022-01-20T16:13:04.267017Z\", \"created_time_dt\": \"2022-01-20T16:13:04.267017Z\", \"duration\": \"0:00:51\", \"iteration\": \"34\", \"goal\": \"accuracy_max\", \"run_name\": \"StandardScalerWrapper, XGBoostClassifier\", \"run_properties\": \"\\n    copy=True,\\n    with_mean=False,\\n    with_std=False\\n\", \"primary_metric\": 0.83269774, \"best_metric\": 0.86172316}, {\"run_id\": \"AutoML_7e0b1c81-b6af-42a9-ad51-0b9083296104_35\", \"run_number\": 81, \"metric\": null, \"status\": \"Completed\", \"run_type\": \"azureml.scriptrun\", \"training_percent\": \"100\", \"start_time\": \"2022-01-20T16:14:12.414082Z\", \"end_time\": \"2022-01-20T16:14:53.570452Z\", \"created_time\": \"2022-01-20T16:13:59.080397Z\", \"created_time_dt\": \"2022-01-20T16:13:59.080397Z\", \"duration\": \"0:00:54\", \"iteration\": \"35\", \"goal\": \"accuracy_max\", \"run_name\": \"PCA, LightGBM\", \"run_properties\": \"copy=True, iterated_power='auto', n_components=0.01, random_state=None,\\n    svd_solver='auto', tol=0.0, whiten=True\", \"primary_metric\": 0.65727401, \"best_metric\": 0.86172316}, {\"run_id\": \"AutoML_7e0b1c81-b6af-42a9-ad51-0b9083296104_36\", \"run_number\": 82, \"metric\": null, \"status\": \"Completed\", \"run_type\": \"azureml.scriptrun\", \"training_percent\": \"100\", \"start_time\": \"2022-01-20T16:15:02.396002Z\", \"end_time\": \"2022-01-20T16:16:02.97996Z\", \"created_time\": \"2022-01-20T16:14:54.550317Z\", \"created_time_dt\": \"2022-01-20T16:14:54.550317Z\", \"duration\": \"0:01:08\", \"iteration\": \"36\", \"goal\": \"accuracy_max\", \"run_name\": \"VotingEnsemble\", \"run_properties\": \"\\n    estimators=[('25', Pipeline(\\n        memory=None,\\n        steps=[('standardscalerwrapper', StandardScalerWrapper(\\n            copy=True,\\n            with_mean=True,\\n            with_std=True\\n        \", \"primary_metric\": 0.87450565, \"best_metric\": 0.87450565}, {\"run_id\": \"AutoML_7e0b1c81-b6af-42a9-ad51-0b9083296104_37\", \"run_number\": 83, \"metric\": null, \"status\": \"Completed\", \"run_type\": \"azureml.scriptrun\", \"training_percent\": \"100\", \"start_time\": \"2022-01-20T16:16:09.647423Z\", \"end_time\": \"2022-01-20T16:17:11.853515Z\", \"created_time\": \"2022-01-20T16:16:03.940032Z\", \"created_time_dt\": \"2022-01-20T16:16:03.940032Z\", \"duration\": \"0:01:07\", \"iteration\": \"37\", \"goal\": \"accuracy_max\", \"run_name\": \"StackEnsemble\", \"run_properties\": \"\\n    base_learners=[('25', Pipeline(\\n        memory=None,\\n        steps=[('standardscalerwrapper', StandardScalerWrapper(\\n            copy=True,\\n            with_mean=True,\\n            with_std=True\\n        \", \"primary_metric\": 0.85360169, \"best_metric\": 0.87450565}], \"children_metrics\": {\"categories\": [0], \"series\": {\"recall_score_weighted\": [{\"categories\": [\"0\", \"1\", \"2\", \"3\", \"4\", \"5\", \"6\", \"7\", \"8\", \"9\", \"10\", \"11\", \"12\", \"13\", \"14\", \"15\", \"16\", \"17\", \"18\", \"19\", \"20\", \"21\", \"22\", \"23\", \"24\", \"25\", \"26\", \"27\", \"28\", \"29\", \"30\", \"31\", \"32\", \"33\", \"34\", \"35\", \"36\", \"37\"], \"mode\": \"markers\", \"name\": \"recall_score_weighted\", \"stepped\": false, \"type\": \"scatter\", \"data\": [0.8075564971751413, 0.8031779661016949, 0.8494350282485875, 0.7950564971751412, 0.6188559322033899, 0.8535310734463276, 0.8076977401129943, 0.7992937853107345, 0.6188559322033899, 0.7616525423728814, 0.8158192090395481, 0.8366525423728813, 0.7406779661016949, 0.8120056497175141, 0.749223163841808, 0.7492937853107345, 0.7365112994350282, 0.8326977401129944, 0.8285310734463277, 0.8326271186440678, 0.8369350282485876, 0.8410310734463277, 0.811864406779661, 0.8409604519774011, 0.8410310734463277, 0.8617231638418079, 0.812005649717514, 0.8409604519774011, 0.8202683615819208, 0.8244350282485876, 0.8326271186440678, 0.8367937853107345, 0.8241525423728814, 0.8326271186440678, 0.8326977401129944, 0.6572740112994351, 0.8745056497175141, 0.8536016949152542]}, {\"categories\": [\"0\", \"1\", \"2\", \"3\", \"4\", \"5\", \"6\", \"7\", \"8\", \"9\", \"10\", \"11\", \"12\", \"13\", \"14\", \"15\", \"16\", \"17\", \"18\", \"19\", \"20\", \"21\", \"22\", \"23\", \"24\", \"25\", \"26\", \"27\", \"28\", \"29\", \"30\", \"31\", \"32\", \"33\", \"34\", \"35\", \"36\", \"37\"], \"mode\": \"lines\", \"name\": \"recall_score_weighted_max\", \"stepped\": true, \"type\": \"scatter\", \"data\": [0.8075564971751413, 0.8075564971751413, 0.8494350282485875, 0.8494350282485875, 0.8494350282485875, 0.8535310734463276, 0.8535310734463276, 0.8535310734463276, 0.8535310734463276, 0.8535310734463276, 0.8535310734463276, 0.8535310734463276, 0.8535310734463276, 0.8535310734463276, 0.8535310734463276, 0.8535310734463276, 0.8535310734463276, 0.8535310734463276, 0.8535310734463276, 0.8535310734463276, 0.8535310734463276, 0.8535310734463276, 0.8535310734463276, 0.8535310734463276, 0.8535310734463276, 0.8617231638418079, 0.8617231638418079, 0.8617231638418079, 0.8617231638418079, 0.8617231638418079, 0.8617231638418079, 0.8617231638418079, 0.8617231638418079, 0.8617231638418079, 0.8617231638418079, 0.8617231638418079, 0.8745056497175141, 0.8745056497175141]}], \"norm_macro_recall\": [{\"categories\": [\"0\", \"1\", \"2\", \"3\", \"4\", \"5\", \"6\", \"7\", \"8\", \"9\", \"10\", \"11\", \"12\", \"13\", \"14\", \"15\", \"16\", \"17\", \"18\", \"19\", \"20\", \"21\", \"22\", \"23\", \"24\", \"25\", \"26\", \"27\", \"28\", \"29\", \"30\", \"31\", \"32\", \"33\", \"34\", \"35\", \"36\", \"37\"], \"mode\": \"markers\", \"name\": \"norm_macro_recall\", \"stepped\": false, \"type\": \"scatter\", \"data\": [0.60667097786663, 0.5703235561931214, 0.6517467354423876, 0.5050235653496524, 0.1727337586033238, 0.6192737344911259, 0.6214110214110213, 0.49138694736520827, 0.15907335907335912, 0.4557398095441574, 0.6176558263514784, 0.6343389620563535, 0.5122560166038427, 0.5029976193019672, 0.41639057182535444, 0.36162110020805666, 0.3245090446177403, 0.6005324777063907, 0.618528431028431, 0.6074045177306047, 0.637724017071843, 0.6373927922840966, 0.5792827129783651, 0.6728362608797392, 0.626129559825212, 0.6984335973466408, 0.5772405522405523, 0.618274082947996, 0.6204555628468672, 0.5753254383689166, 0.5780846699324961, 0.6029293904293904, 0.6355291838987491, 0.6330094210528994, 0.5881101174579435, 0.0, 0.7141495108886413, 0.6785342937516851]}, {\"categories\": [\"0\", \"1\", \"2\", \"3\", \"4\", \"5\", \"6\", \"7\", \"8\", \"9\", \"10\", \"11\", \"12\", \"13\", \"14\", \"15\", \"16\", \"17\", \"18\", \"19\", \"20\", \"21\", \"22\", \"23\", \"24\", \"25\", \"26\", \"27\", \"28\", \"29\", \"30\", \"31\", \"32\", \"33\", \"34\", \"35\", \"36\", \"37\"], \"mode\": \"lines\", \"name\": \"norm_macro_recall_max\", \"stepped\": true, \"type\": \"scatter\", \"data\": [0.60667097786663, 0.60667097786663, 0.6517467354423876, 0.6517467354423876, 0.6517467354423876, 0.6517467354423876, 0.6517467354423876, 0.6517467354423876, 0.6517467354423876, 0.6517467354423876, 0.6517467354423876, 0.6517467354423876, 0.6517467354423876, 0.6517467354423876, 0.6517467354423876, 0.6517467354423876, 0.6517467354423876, 0.6517467354423876, 0.6517467354423876, 0.6517467354423876, 0.6517467354423876, 0.6517467354423876, 0.6517467354423876, 0.6728362608797392, 0.6728362608797392, 0.6984335973466408, 0.6984335973466408, 0.6984335973466408, 0.6984335973466408, 0.6984335973466408, 0.6984335973466408, 0.6984335973466408, 0.6984335973466408, 0.6984335973466408, 0.6984335973466408, 0.6984335973466408, 0.7141495108886413, 0.7141495108886413]}], \"f1_score_weighted\": [{\"categories\": [\"0\", \"1\", \"2\", \"3\", \"4\", \"5\", \"6\", \"7\", \"8\", \"9\", \"10\", \"11\", \"12\", \"13\", \"14\", \"15\", \"16\", \"17\", \"18\", \"19\", \"20\", \"21\", \"22\", \"23\", \"24\", \"25\", \"26\", \"27\", \"28\", \"29\", \"30\", \"31\", \"32\", \"33\", \"34\", \"35\", \"36\", \"37\"], \"mode\": \"markers\", \"name\": \"f1_score_weighted\", \"stepped\": false, \"type\": \"scatter\", \"data\": [0.81077295754249, 0.8057102308955372, 0.8493758039604771, 0.7910155697381156, 0.614899941745622, 0.8499158834871293, 0.812823420010193, 0.7874812269540585, 0.6076820130451338, 0.7566940341969565, 0.8174171577241832, 0.8385721179444863, 0.7493418605773133, 0.7987147897919387, 0.7454857305598368, 0.7362550791733496, 0.709847550024703, 0.8302170414387012, 0.8276169025000596, 0.8312559416919637, 0.8382375552225743, 0.8406477655555508, 0.8099860275604137, 0.8427783447865064, 0.8392157587438986, 0.8625668298997476, 0.8096367863434113, 0.838416126129041, 0.8198864939572816, 0.8206870740751016, 0.8279176612754456, 0.8322758293168748, 0.8277332998631203, 0.8338918035914811, 0.8285675899412704, 0.5265863413624869, 0.8736038862148576, 0.8529700553511879]}, {\"categories\": [\"0\", \"1\", \"2\", \"3\", \"4\", \"5\", \"6\", \"7\", \"8\", \"9\", \"10\", \"11\", \"12\", \"13\", \"14\", \"15\", \"16\", \"17\", \"18\", \"19\", \"20\", \"21\", \"22\", \"23\", \"24\", \"25\", \"26\", \"27\", \"28\", \"29\", \"30\", \"31\", \"32\", \"33\", \"34\", \"35\", \"36\", \"37\"], \"mode\": \"lines\", \"name\": \"f1_score_weighted_max\", \"stepped\": true, \"type\": \"scatter\", \"data\": [0.81077295754249, 0.81077295754249, 0.8493758039604771, 0.8493758039604771, 0.8493758039604771, 0.8499158834871293, 0.8499158834871293, 0.8499158834871293, 0.8499158834871293, 0.8499158834871293, 0.8499158834871293, 0.8499158834871293, 0.8499158834871293, 0.8499158834871293, 0.8499158834871293, 0.8499158834871293, 0.8499158834871293, 0.8499158834871293, 0.8499158834871293, 0.8499158834871293, 0.8499158834871293, 0.8499158834871293, 0.8499158834871293, 0.8499158834871293, 0.8499158834871293, 0.8625668298997476, 0.8625668298997476, 0.8625668298997476, 0.8625668298997476, 0.8625668298997476, 0.8625668298997476, 0.8625668298997476, 0.8625668298997476, 0.8625668298997476, 0.8625668298997476, 0.8625668298997476, 0.8736038862148576, 0.8736038862148576]}], \"AUC_macro\": [{\"categories\": [\"0\", \"1\", \"2\", \"3\", \"4\", \"5\", \"6\", \"7\", \"8\", \"9\", \"10\", \"11\", \"12\", \"13\", \"14\", \"15\", \"16\", \"17\", \"18\", \"19\", \"20\", \"21\", \"22\", \"23\", \"24\", \"25\", \"26\", \"27\", \"28\", \"29\", \"30\", \"31\", \"32\", \"33\", \"34\", \"35\", \"36\", \"37\"], \"mode\": \"markers\", \"name\": \"AUC_macro\", \"stepped\": false, \"type\": \"scatter\", \"data\": [0.8934592822636301, 0.900157717005543, 0.9070032285249677, 0.8663463004223874, 0.5716198072719813, 0.9174311161811163, 0.8900143070795244, 0.9073710667188928, 0.5920116114137853, 0.8392002321350147, 0.8961505181070399, 0.9064622259187476, 0.8701137614181093, 0.8805504982678896, 0.8237015954407259, 0.7948481690329516, 0.7582308035025426, 0.8821334674595545, 0.9043748866031475, 0.8858344927366666, 0.8930436944567379, 0.8997457621370665, 0.8824408216799521, 0.90818991916818, 0.9176700104960973, 0.9185161926466274, 0.867105775312297, 0.9076038142885969, 0.891535308600526, 0.8762571408223582, 0.8812211802429194, 0.9066952999018216, 0.8828506061114757, 0.9008656037460385, 0.8938874518222345, 0.5310413603891865, 0.9190572927529449, 0.9062325156890374]}, {\"categories\": [\"0\", \"1\", \"2\", \"3\", \"4\", \"5\", \"6\", \"7\", \"8\", \"9\", \"10\", \"11\", \"12\", \"13\", \"14\", \"15\", \"16\", \"17\", \"18\", \"19\", \"20\", \"21\", \"22\", \"23\", \"24\", \"25\", \"26\", \"27\", \"28\", \"29\", \"30\", \"31\", \"32\", \"33\", \"34\", \"35\", \"36\", \"37\"], \"mode\": \"lines\", \"name\": \"AUC_macro_max\", \"stepped\": true, \"type\": \"scatter\", \"data\": [0.8934592822636301, 0.900157717005543, 0.9070032285249677, 0.9070032285249677, 0.9070032285249677, 0.9174311161811163, 0.9174311161811163, 0.9174311161811163, 0.9174311161811163, 0.9174311161811163, 0.9174311161811163, 0.9174311161811163, 0.9174311161811163, 0.9174311161811163, 0.9174311161811163, 0.9174311161811163, 0.9174311161811163, 0.9174311161811163, 0.9174311161811163, 0.9174311161811163, 0.9174311161811163, 0.9174311161811163, 0.9174311161811163, 0.9174311161811163, 0.9176700104960973, 0.9185161926466274, 0.9185161926466274, 0.9185161926466274, 0.9185161926466274, 0.9185161926466274, 0.9185161926466274, 0.9185161926466274, 0.9185161926466274, 0.9185161926466274, 0.9185161926466274, 0.9185161926466274, 0.9190572927529449, 0.9190572927529449]}], \"precision_score_micro\": [{\"categories\": [\"0\", \"1\", \"2\", \"3\", \"4\", \"5\", \"6\", \"7\", \"8\", \"9\", \"10\", \"11\", \"12\", \"13\", \"14\", \"15\", \"16\", \"17\", \"18\", \"19\", \"20\", \"21\", \"22\", \"23\", \"24\", \"25\", \"26\", \"27\", \"28\", \"29\", \"30\", \"31\", \"32\", \"33\", \"34\", \"35\", \"36\", \"37\"], \"mode\": \"markers\", \"name\": \"precision_score_micro\", \"stepped\": false, \"type\": \"scatter\", \"data\": [0.8075564971751413, 0.8031779661016949, 0.8494350282485875, 0.7950564971751412, 0.6188559322033899, 0.8535310734463276, 0.8076977401129943, 0.7992937853107345, 0.6188559322033899, 0.7616525423728814, 0.8158192090395481, 0.8366525423728813, 0.7406779661016949, 0.8120056497175141, 0.749223163841808, 0.7492937853107345, 0.7365112994350282, 0.8326977401129944, 0.8285310734463277, 0.8326271186440678, 0.8369350282485876, 0.8410310734463277, 0.811864406779661, 0.8409604519774011, 0.8410310734463277, 0.8617231638418079, 0.812005649717514, 0.8409604519774011, 0.8202683615819208, 0.8244350282485876, 0.8326271186440678, 0.8367937853107345, 0.8241525423728814, 0.8326271186440678, 0.8326977401129944, 0.6572740112994351, 0.8745056497175141, 0.8536016949152542]}, {\"categories\": [\"0\", \"1\", \"2\", \"3\", \"4\", \"5\", \"6\", \"7\", \"8\", \"9\", \"10\", \"11\", \"12\", \"13\", \"14\", \"15\", \"16\", \"17\", \"18\", \"19\", \"20\", \"21\", \"22\", \"23\", \"24\", \"25\", \"26\", \"27\", \"28\", \"29\", \"30\", \"31\", \"32\", \"33\", \"34\", \"35\", \"36\", \"37\"], \"mode\": \"lines\", \"name\": \"precision_score_micro_max\", \"stepped\": true, \"type\": \"scatter\", \"data\": [0.8075564971751413, 0.8075564971751413, 0.8494350282485875, 0.8494350282485875, 0.8494350282485875, 0.8535310734463276, 0.8535310734463276, 0.8535310734463276, 0.8535310734463276, 0.8535310734463276, 0.8535310734463276, 0.8535310734463276, 0.8535310734463276, 0.8535310734463276, 0.8535310734463276, 0.8535310734463276, 0.8535310734463276, 0.8535310734463276, 0.8535310734463276, 0.8535310734463276, 0.8535310734463276, 0.8535310734463276, 0.8535310734463276, 0.8535310734463276, 0.8535310734463276, 0.8617231638418079, 0.8617231638418079, 0.8617231638418079, 0.8617231638418079, 0.8617231638418079, 0.8617231638418079, 0.8617231638418079, 0.8617231638418079, 0.8617231638418079, 0.8617231638418079, 0.8617231638418079, 0.8745056497175141, 0.8745056497175141]}], \"AUC_weighted\": [{\"categories\": [\"0\", \"1\", \"2\", \"3\", \"4\", \"5\", \"6\", \"7\", \"8\", \"9\", \"10\", \"11\", \"12\", \"13\", \"14\", \"15\", \"16\", \"17\", \"18\", \"19\", \"20\", \"21\", \"22\", \"23\", \"24\", \"25\", \"26\", \"27\", \"28\", \"29\", \"30\", \"31\", \"32\", \"33\", \"34\", \"35\", \"36\", \"37\"], \"mode\": \"markers\", \"name\": \"AUC_weighted\", \"stepped\": false, \"type\": \"scatter\", \"data\": [0.8934592822636301, 0.900157717005543, 0.9070032285249676, 0.8663463004223874, 0.5716198072719811, 0.9174311161811162, 0.8900143070795244, 0.9073710667188928, 0.5920116114137853, 0.8392002321350147, 0.8961505181070398, 0.9064622259187476, 0.8701137614181093, 0.8805504982678896, 0.8237015954407259, 0.7948481690329516, 0.7582308035025426, 0.8821334674595545, 0.9043748866031475, 0.8858344927366666, 0.8930436944567379, 0.8997457621370665, 0.8824408216799522, 0.9081899191681799, 0.9176700104960973, 0.9185161926466274, 0.867105775312297, 0.9076038142885969, 0.891535308600526, 0.8762571408223582, 0.8812211802429194, 0.9066952999018216, 0.8828506061114757, 0.9008656037460385, 0.8938874518222345, 0.5310413603891865, 0.9190572927529449, 0.9062325156890374]}, {\"categories\": [\"0\", \"1\", \"2\", \"3\", \"4\", \"5\", \"6\", \"7\", \"8\", \"9\", \"10\", \"11\", \"12\", \"13\", \"14\", \"15\", \"16\", \"17\", \"18\", \"19\", \"20\", \"21\", \"22\", \"23\", \"24\", \"25\", \"26\", \"27\", \"28\", \"29\", \"30\", \"31\", \"32\", \"33\", \"34\", \"35\", \"36\", \"37\"], \"mode\": \"lines\", \"name\": \"AUC_weighted_max\", \"stepped\": true, \"type\": \"scatter\", \"data\": [0.8934592822636301, 0.900157717005543, 0.9070032285249676, 0.9070032285249676, 0.9070032285249676, 0.9174311161811162, 0.9174311161811162, 0.9174311161811162, 0.9174311161811162, 0.9174311161811162, 0.9174311161811162, 0.9174311161811162, 0.9174311161811162, 0.9174311161811162, 0.9174311161811162, 0.9174311161811162, 0.9174311161811162, 0.9174311161811162, 0.9174311161811162, 0.9174311161811162, 0.9174311161811162, 0.9174311161811162, 0.9174311161811162, 0.9174311161811162, 0.9176700104960973, 0.9185161926466274, 0.9185161926466274, 0.9185161926466274, 0.9185161926466274, 0.9185161926466274, 0.9185161926466274, 0.9185161926466274, 0.9185161926466274, 0.9185161926466274, 0.9185161926466274, 0.9185161926466274, 0.9190572927529449, 0.9190572927529449]}], \"recall_score_macro\": [{\"categories\": [\"0\", \"1\", \"2\", \"3\", \"4\", \"5\", \"6\", \"7\", \"8\", \"9\", \"10\", \"11\", \"12\", \"13\", \"14\", \"15\", \"16\", \"17\", \"18\", \"19\", \"20\", \"21\", \"22\", \"23\", \"24\", \"25\", \"26\", \"27\", \"28\", \"29\", \"30\", \"31\", \"32\", \"33\", \"34\", \"35\", \"36\", \"37\"], \"mode\": \"markers\", \"name\": \"recall_score_macro\", \"stepped\": false, \"type\": \"scatter\", \"data\": [0.8033354889333151, 0.7851617780965607, 0.8258733677211938, 0.7525117826748262, 0.5714047580895407, 0.8096368672455629, 0.8107055107055108, 0.7456934736826041, 0.5645745583245583, 0.7278699047720787, 0.8088279131757392, 0.8171694810281768, 0.7561280083019213, 0.7514988096509836, 0.7081952859126772, 0.6808105501040284, 0.6622545223088702, 0.8002662388531954, 0.8092642155142156, 0.8037022588653022, 0.8188620085359215, 0.8186963961420484, 0.7896413564891827, 0.8364181304398697, 0.8130647799126061, 0.8492167986733204, 0.7886202761202761, 0.809137041473998, 0.8102277814234335, 0.7876627191844583, 0.789042334966248, 0.8014646952146952, 0.8177645919493746, 0.8165047105264497, 0.7940550587289719, 0.5, 0.8570747554443208, 0.8392671468758426]}, {\"categories\": [\"0\", \"1\", \"2\", \"3\", \"4\", \"5\", \"6\", \"7\", \"8\", \"9\", \"10\", \"11\", \"12\", \"13\", \"14\", \"15\", \"16\", \"17\", \"18\", \"19\", \"20\", \"21\", \"22\", \"23\", \"24\", \"25\", \"26\", \"27\", \"28\", \"29\", \"30\", \"31\", \"32\", \"33\", \"34\", \"35\", \"36\", \"37\"], \"mode\": \"lines\", \"name\": \"recall_score_macro_max\", \"stepped\": true, \"type\": \"scatter\", \"data\": [0.8033354889333151, 0.8033354889333151, 0.8258733677211938, 0.8258733677211938, 0.8258733677211938, 0.8258733677211938, 0.8258733677211938, 0.8258733677211938, 0.8258733677211938, 0.8258733677211938, 0.8258733677211938, 0.8258733677211938, 0.8258733677211938, 0.8258733677211938, 0.8258733677211938, 0.8258733677211938, 0.8258733677211938, 0.8258733677211938, 0.8258733677211938, 0.8258733677211938, 0.8258733677211938, 0.8258733677211938, 0.8258733677211938, 0.8364181304398697, 0.8364181304398697, 0.8492167986733204, 0.8492167986733204, 0.8492167986733204, 0.8492167986733204, 0.8492167986733204, 0.8492167986733204, 0.8492167986733204, 0.8492167986733204, 0.8492167986733204, 0.8492167986733204, 0.8492167986733204, 0.8570747554443208, 0.8570747554443208]}], \"precision_score_weighted\": [{\"categories\": [\"0\", \"1\", \"2\", \"3\", \"4\", \"5\", \"6\", \"7\", \"8\", \"9\", \"10\", \"11\", \"12\", \"13\", \"14\", \"15\", \"16\", \"17\", \"18\", \"19\", \"20\", \"21\", \"22\", \"23\", \"24\", \"25\", \"26\", \"27\", \"28\", \"29\", \"30\", \"31\", \"32\", \"33\", \"34\", \"35\", \"36\", \"37\"], \"mode\": \"markers\", \"name\": \"precision_score_weighted\", \"stepped\": false, \"type\": \"scatter\", \"data\": [0.8248587206214325, 0.8177535236717888, 0.8520423514809108, 0.8049235978632164, 0.6465836123340927, 0.858951554334602, 0.835344177542865, 0.8236548964218455, 0.6413104073025436, 0.7743718026704115, 0.8374033427372595, 0.843347375574066, 0.7880185357566536, 0.8326181486223766, 0.7534915047971859, 0.7534799070184934, 0.7700102121277969, 0.8367370229197972, 0.8445288258281255, 0.8419590883064924, 0.8515530293844558, 0.8503976781737929, 0.8248175909204825, 0.855527666250825, 0.8512899453226117, 0.8734388766175336, 0.8283607579807643, 0.8504934463952639, 0.8328499226204957, 0.8307253666453925, 0.8452312853107345, 0.8516423877952065, 0.8447250918339355, 0.8457215750244558, 0.8415467610540035, 0.4435543944907274, 0.88281444928292, 0.8689995730075499]}, {\"categories\": [\"0\", \"1\", \"2\", \"3\", \"4\", \"5\", \"6\", \"7\", \"8\", \"9\", \"10\", \"11\", \"12\", \"13\", \"14\", \"15\", \"16\", \"17\", \"18\", \"19\", \"20\", \"21\", \"22\", \"23\", \"24\", \"25\", \"26\", \"27\", \"28\", \"29\", \"30\", \"31\", \"32\", \"33\", \"34\", \"35\", \"36\", \"37\"], \"mode\": \"lines\", \"name\": \"precision_score_weighted_max\", \"stepped\": true, \"type\": \"scatter\", \"data\": [0.8248587206214325, 0.8248587206214325, 0.8520423514809108, 0.8520423514809108, 0.8520423514809108, 0.858951554334602, 0.858951554334602, 0.858951554334602, 0.858951554334602, 0.858951554334602, 0.858951554334602, 0.858951554334602, 0.858951554334602, 0.858951554334602, 0.858951554334602, 0.858951554334602, 0.858951554334602, 0.858951554334602, 0.858951554334602, 0.858951554334602, 0.858951554334602, 0.858951554334602, 0.858951554334602, 0.858951554334602, 0.858951554334602, 0.8734388766175336, 0.8734388766175336, 0.8734388766175336, 0.8734388766175336, 0.8734388766175336, 0.8734388766175336, 0.8734388766175336, 0.8734388766175336, 0.8734388766175336, 0.8734388766175336, 0.8734388766175336, 0.88281444928292, 0.88281444928292]}], \"log_loss\": [{\"categories\": [\"0\", \"1\", \"2\", \"3\", \"4\", \"5\", \"6\", \"7\", \"8\", \"9\", \"10\", \"11\", \"12\", \"13\", \"14\", \"15\", \"16\", \"17\", \"18\", \"19\", \"20\", \"21\", \"22\", \"23\", \"24\", \"25\", \"26\", \"27\", \"28\", \"29\", \"30\", \"31\", \"32\", \"33\", \"34\", \"35\", \"36\", \"37\"], \"mode\": \"markers\", \"name\": \"log_loss\", \"stepped\": false, \"type\": \"scatter\", \"data\": [0.5423758024282439, 0.437765806495725, 0.45015471959354203, 0.5029563048708607, 2.5031331285976486, 0.3869661083514737, 0.4890360276070264, 0.4861446892978575, 1.2588042079071384, 0.49152385014726485, 0.45602673435178015, 0.4216859809571537, 0.4892822016063891, 0.44269941258771, 2.323536978302832, 1.706294342279014, 0.9550852562979427, 0.42362150862497716, 0.48093239507200647, 0.473867088398904, 0.4408114541477286, 0.4586951237998239, 0.47276130195791266, 0.3898229905763357, 0.39348934209803454, 0.36721944633001047, 0.44244001434344427, 0.40361970363768407, 0.4250082862390605, 0.4521340913966779, 0.45850193350531515, 0.4168234899596419, 0.4734231746842543, 0.41462641631915137, 0.4338326544011453, 0.6628246809001629, 0.39710782591714905, 0.4043132258256627]}, {\"categories\": [\"0\", \"1\", \"2\", \"3\", \"4\", \"5\", \"6\", \"7\", \"8\", \"9\", \"10\", \"11\", \"12\", \"13\", \"14\", \"15\", \"16\", \"17\", \"18\", \"19\", \"20\", \"21\", \"22\", \"23\", \"24\", \"25\", \"26\", \"27\", \"28\", \"29\", \"30\", \"31\", \"32\", \"33\", \"34\", \"35\", \"36\", \"37\"], \"mode\": \"lines\", \"name\": \"log_loss_min\", \"stepped\": true, \"type\": \"scatter\", \"data\": [0.5423758024282439, 0.437765806495725, 0.437765806495725, 0.437765806495725, 0.437765806495725, 0.3869661083514737, 0.3869661083514737, 0.3869661083514737, 0.3869661083514737, 0.3869661083514737, 0.3869661083514737, 0.3869661083514737, 0.3869661083514737, 0.3869661083514737, 0.3869661083514737, 0.3869661083514737, 0.3869661083514737, 0.3869661083514737, 0.3869661083514737, 0.3869661083514737, 0.3869661083514737, 0.3869661083514737, 0.3869661083514737, 0.3869661083514737, 0.3869661083514737, 0.36721944633001047, 0.36721944633001047, 0.36721944633001047, 0.36721944633001047, 0.36721944633001047, 0.36721944633001047, 0.36721944633001047, 0.36721944633001047, 0.36721944633001047, 0.36721944633001047, 0.36721944633001047, 0.36721944633001047, 0.36721944633001047]}], \"f1_score_macro\": [{\"categories\": [\"0\", \"1\", \"2\", \"3\", \"4\", \"5\", \"6\", \"7\", \"8\", \"9\", \"10\", \"11\", \"12\", \"13\", \"14\", \"15\", \"16\", \"17\", \"18\", \"19\", \"20\", \"21\", \"22\", \"23\", \"24\", \"25\", \"26\", \"27\", \"28\", \"29\", \"30\", \"31\", \"32\", \"33\", \"34\", \"35\", \"36\", \"37\"], \"mode\": \"markers\", \"name\": \"f1_score_macro\", \"stepped\": false, \"type\": \"scatter\", \"data\": [0.7848019614741106, 0.7747961306880762, 0.8234307138529905, 0.7538099380111519, 0.5577151153874185, 0.8203901365116159, 0.7868778701259519, 0.750943680502504, 0.5470448866961859, 0.7201686245783265, 0.7920845145661195, 0.8091583825536304, 0.7214180743530081, 0.7647713307164983, 0.7054096474699827, 0.6850006925313354, 0.6569471097624353, 0.8020235981999834, 0.8000088646331502, 0.8008787548740128, 0.8106477018629373, 0.8138808460395339, 0.7824335857894206, 0.8206983773998686, 0.8132086357966819, 0.842677837329151, 0.7815263522706573, 0.8096884560922761, 0.7970961718020543, 0.7918442196101771, 0.7954617408352078, 0.8040339010290556, 0.8002184342884566, 0.8063454259848438, 0.7990718661270054, 0.3939808406181916, 0.8549193614298632, 0.8308370669222597]}, {\"categories\": [\"0\", \"1\", \"2\", \"3\", \"4\", \"5\", \"6\", \"7\", \"8\", \"9\", \"10\", \"11\", \"12\", \"13\", \"14\", \"15\", \"16\", \"17\", \"18\", \"19\", \"20\", \"21\", \"22\", \"23\", \"24\", \"25\", \"26\", \"27\", \"28\", \"29\", \"30\", \"31\", \"32\", \"33\", \"34\", \"35\", \"36\", \"37\"], \"mode\": \"lines\", \"name\": \"f1_score_macro_max\", \"stepped\": true, \"type\": \"scatter\", \"data\": [0.7848019614741106, 0.7848019614741106, 0.8234307138529905, 0.8234307138529905, 0.8234307138529905, 0.8234307138529905, 0.8234307138529905, 0.8234307138529905, 0.8234307138529905, 0.8234307138529905, 0.8234307138529905, 0.8234307138529905, 0.8234307138529905, 0.8234307138529905, 0.8234307138529905, 0.8234307138529905, 0.8234307138529905, 0.8234307138529905, 0.8234307138529905, 0.8234307138529905, 0.8234307138529905, 0.8234307138529905, 0.8234307138529905, 0.8234307138529905, 0.8234307138529905, 0.842677837329151, 0.842677837329151, 0.842677837329151, 0.842677837329151, 0.842677837329151, 0.842677837329151, 0.842677837329151, 0.842677837329151, 0.842677837329151, 0.842677837329151, 0.842677837329151, 0.8549193614298632, 0.8549193614298632]}], \"balanced_accuracy\": [{\"categories\": [\"0\", \"1\", \"2\", \"3\", \"4\", \"5\", \"6\", \"7\", \"8\", \"9\", \"10\", \"11\", \"12\", \"13\", \"14\", \"15\", \"16\", \"17\", \"18\", \"19\", \"20\", \"21\", \"22\", \"23\", \"24\", \"25\", \"26\", \"27\", \"28\", \"29\", \"30\", \"31\", \"32\", \"33\", \"34\", \"35\", \"36\", \"37\"], \"mode\": \"markers\", \"name\": \"balanced_accuracy\", \"stepped\": false, \"type\": \"scatter\", \"data\": [0.8033354889333151, 0.7851617780965607, 0.8258733677211938, 0.7525117826748262, 0.5714047580895407, 0.8096368672455629, 0.8107055107055108, 0.7456934736826041, 0.5645745583245583, 0.7278699047720787, 0.8088279131757392, 0.8171694810281768, 0.7561280083019213, 0.7514988096509836, 0.7081952859126772, 0.6808105501040284, 0.6622545223088702, 0.8002662388531954, 0.8092642155142156, 0.8037022588653022, 0.8188620085359215, 0.8186963961420484, 0.7896413564891827, 0.8364181304398697, 0.8130647799126061, 0.8492167986733204, 0.7886202761202761, 0.809137041473998, 0.8102277814234335, 0.7876627191844583, 0.789042334966248, 0.8014646952146952, 0.8177645919493746, 0.8165047105264497, 0.7940550587289719, 0.5, 0.8570747554443208, 0.8392671468758426]}, {\"categories\": [\"0\", \"1\", \"2\", \"3\", \"4\", \"5\", \"6\", \"7\", \"8\", \"9\", \"10\", \"11\", \"12\", \"13\", \"14\", \"15\", \"16\", \"17\", \"18\", \"19\", \"20\", \"21\", \"22\", \"23\", \"24\", \"25\", \"26\", \"27\", \"28\", \"29\", \"30\", \"31\", \"32\", \"33\", \"34\", \"35\", \"36\", \"37\"], \"mode\": \"lines\", \"name\": \"balanced_accuracy_max\", \"stepped\": true, \"type\": \"scatter\", \"data\": [0.8033354889333151, 0.8033354889333151, 0.8258733677211938, 0.8258733677211938, 0.8258733677211938, 0.8258733677211938, 0.8258733677211938, 0.8258733677211938, 0.8258733677211938, 0.8258733677211938, 0.8258733677211938, 0.8258733677211938, 0.8258733677211938, 0.8258733677211938, 0.8258733677211938, 0.8258733677211938, 0.8258733677211938, 0.8258733677211938, 0.8258733677211938, 0.8258733677211938, 0.8258733677211938, 0.8258733677211938, 0.8258733677211938, 0.8364181304398697, 0.8364181304398697, 0.8492167986733204, 0.8492167986733204, 0.8492167986733204, 0.8492167986733204, 0.8492167986733204, 0.8492167986733204, 0.8492167986733204, 0.8492167986733204, 0.8492167986733204, 0.8492167986733204, 0.8492167986733204, 0.8570747554443208, 0.8570747554443208]}], \"recall_score_micro\": [{\"categories\": [\"0\", \"1\", \"2\", \"3\", \"4\", \"5\", \"6\", \"7\", \"8\", \"9\", \"10\", \"11\", \"12\", \"13\", \"14\", \"15\", \"16\", \"17\", \"18\", \"19\", \"20\", \"21\", \"22\", \"23\", \"24\", \"25\", \"26\", \"27\", \"28\", \"29\", \"30\", \"31\", \"32\", \"33\", \"34\", \"35\", \"36\", \"37\"], \"mode\": \"markers\", \"name\": \"recall_score_micro\", \"stepped\": false, \"type\": \"scatter\", \"data\": [0.8075564971751413, 0.8031779661016949, 0.8494350282485875, 0.7950564971751412, 0.6188559322033899, 0.8535310734463276, 0.8076977401129943, 0.7992937853107345, 0.6188559322033899, 0.7616525423728814, 0.8158192090395481, 0.8366525423728813, 0.7406779661016949, 0.8120056497175141, 0.749223163841808, 0.7492937853107345, 0.7365112994350282, 0.8326977401129944, 0.8285310734463277, 0.8326271186440678, 0.8369350282485876, 0.8410310734463277, 0.811864406779661, 0.8409604519774011, 0.8410310734463277, 0.8617231638418079, 0.812005649717514, 0.8409604519774011, 0.8202683615819208, 0.8244350282485876, 0.8326271186440678, 0.8367937853107345, 0.8241525423728814, 0.8326271186440678, 0.8326977401129944, 0.6572740112994351, 0.8745056497175141, 0.8536016949152542]}, {\"categories\": [\"0\", \"1\", \"2\", \"3\", \"4\", \"5\", \"6\", \"7\", \"8\", \"9\", \"10\", \"11\", \"12\", \"13\", \"14\", \"15\", \"16\", \"17\", \"18\", \"19\", \"20\", \"21\", \"22\", \"23\", \"24\", \"25\", \"26\", \"27\", \"28\", \"29\", \"30\", \"31\", \"32\", \"33\", \"34\", \"35\", \"36\", \"37\"], \"mode\": \"lines\", \"name\": \"recall_score_micro_max\", \"stepped\": true, \"type\": \"scatter\", \"data\": [0.8075564971751413, 0.8075564971751413, 0.8494350282485875, 0.8494350282485875, 0.8494350282485875, 0.8535310734463276, 0.8535310734463276, 0.8535310734463276, 0.8535310734463276, 0.8535310734463276, 0.8535310734463276, 0.8535310734463276, 0.8535310734463276, 0.8535310734463276, 0.8535310734463276, 0.8535310734463276, 0.8535310734463276, 0.8535310734463276, 0.8535310734463276, 0.8535310734463276, 0.8535310734463276, 0.8535310734463276, 0.8535310734463276, 0.8535310734463276, 0.8535310734463276, 0.8617231638418079, 0.8617231638418079, 0.8617231638418079, 0.8617231638418079, 0.8617231638418079, 0.8617231638418079, 0.8617231638418079, 0.8617231638418079, 0.8617231638418079, 0.8617231638418079, 0.8617231638418079, 0.8745056497175141, 0.8745056497175141]}], \"AUC_micro\": [{\"categories\": [\"0\", \"1\", \"2\", \"3\", \"4\", \"5\", \"6\", \"7\", \"8\", \"9\", \"10\", \"11\", \"12\", \"13\", \"14\", \"15\", \"16\", \"17\", \"18\", \"19\", \"20\", \"21\", \"22\", \"23\", \"24\", \"25\", \"26\", \"27\", \"28\", \"29\", \"30\", \"31\", \"32\", \"33\", \"34\", \"35\", \"36\", \"37\"], \"mode\": \"markers\", \"name\": \"AUC_micro\", \"stepped\": false, \"type\": \"scatter\", \"data\": [0.8976543897028312, 0.9037613513039038, 0.9112381898560439, 0.8684040346005298, 0.637005849213189, 0.9137660793513995, 0.8888604607552109, 0.8835161910689776, 0.6608964936640174, 0.8455197161575537, 0.8994878347537425, 0.9083304406460467, 0.8379974624150148, 0.8763515432985411, 0.8398754149510038, 0.8227173106387053, 0.7920513940757764, 0.8898576199367998, 0.8980716349069553, 0.8864940031600115, 0.8987874453381851, 0.9062761738325512, 0.8843845558428294, 0.9084746560694563, 0.9117854264419547, 0.9169462798046538, 0.8730663083724345, 0.9049591033866387, 0.8912447133646142, 0.8760613169906475, 0.8775718782916786, 0.9033784991541383, 0.8865423908359666, 0.9015711680870759, 0.8901555667273133, 0.6718015456924894, 0.9153775455648121, 0.9033387396661241]}, {\"categories\": [\"0\", \"1\", \"2\", \"3\", \"4\", \"5\", \"6\", \"7\", \"8\", \"9\", \"10\", \"11\", \"12\", \"13\", \"14\", \"15\", \"16\", \"17\", \"18\", \"19\", \"20\", \"21\", \"22\", \"23\", \"24\", \"25\", \"26\", \"27\", \"28\", \"29\", \"30\", \"31\", \"32\", \"33\", \"34\", \"35\", \"36\", \"37\"], \"mode\": \"lines\", \"name\": \"AUC_micro_max\", \"stepped\": true, \"type\": \"scatter\", \"data\": [0.8976543897028312, 0.9037613513039038, 0.9112381898560439, 0.9112381898560439, 0.9112381898560439, 0.9137660793513995, 0.9137660793513995, 0.9137660793513995, 0.9137660793513995, 0.9137660793513995, 0.9137660793513995, 0.9137660793513995, 0.9137660793513995, 0.9137660793513995, 0.9137660793513995, 0.9137660793513995, 0.9137660793513995, 0.9137660793513995, 0.9137660793513995, 0.9137660793513995, 0.9137660793513995, 0.9137660793513995, 0.9137660793513995, 0.9137660793513995, 0.9137660793513995, 0.9169462798046538, 0.9169462798046538, 0.9169462798046538, 0.9169462798046538, 0.9169462798046538, 0.9169462798046538, 0.9169462798046538, 0.9169462798046538, 0.9169462798046538, 0.9169462798046538, 0.9169462798046538, 0.9169462798046538, 0.9169462798046538]}], \"average_precision_score_macro\": [{\"categories\": [\"0\", \"1\", \"2\", \"3\", \"4\", \"5\", \"6\", \"7\", \"8\", \"9\", \"10\", \"11\", \"12\", \"13\", \"14\", \"15\", \"16\", \"17\", \"18\", \"19\", \"20\", \"21\", \"22\", \"23\", \"24\", \"25\", \"26\", \"27\", \"28\", \"29\", \"30\", \"31\", \"32\", \"33\", \"34\", \"35\", \"36\", \"37\"], \"mode\": \"markers\", \"name\": \"average_precision_score_macro\", \"stepped\": false, \"type\": \"scatter\", \"data\": [0.8755186003577529, 0.885927242802435, 0.8956582434849059, 0.8314042617866089, 0.5914659503841182, 0.9047777359743812, 0.8833850903343883, 0.885958418946351, 0.6190450987697638, 0.8159925115512379, 0.8727682754779426, 0.8868071572743907, 0.8653437711945432, 0.8744558434719943, 0.7786818502467694, 0.7686934231883297, 0.755973721510277, 0.8685267228232052, 0.8834395994898532, 0.8632448967016855, 0.8893621581743526, 0.884397436217262, 0.8515651277183892, 0.8946069509968881, 0.9092005930877938, 0.9028477389776599, 0.8380628181555971, 0.8949922136708188, 0.8584840835587266, 0.8523313937396526, 0.8461114997369299, 0.881144119266114, 0.8467913234643898, 0.8855588566412889, 0.8664124503652977, 0.5313715015152448, 0.9046786856327598, 0.8857338286764143]}, {\"categories\": [\"0\", \"1\", \"2\", \"3\", \"4\", \"5\", \"6\", \"7\", \"8\", \"9\", \"10\", \"11\", \"12\", \"13\", \"14\", \"15\", \"16\", \"17\", \"18\", \"19\", \"20\", \"21\", \"22\", \"23\", \"24\", \"25\", \"26\", \"27\", \"28\", \"29\", \"30\", \"31\", \"32\", \"33\", \"34\", \"35\", \"36\", \"37\"], \"mode\": \"lines\", \"name\": \"average_precision_score_macro_max\", \"stepped\": true, \"type\": \"scatter\", \"data\": [0.8755186003577529, 0.885927242802435, 0.8956582434849059, 0.8956582434849059, 0.8956582434849059, 0.9047777359743812, 0.9047777359743812, 0.9047777359743812, 0.9047777359743812, 0.9047777359743812, 0.9047777359743812, 0.9047777359743812, 0.9047777359743812, 0.9047777359743812, 0.9047777359743812, 0.9047777359743812, 0.9047777359743812, 0.9047777359743812, 0.9047777359743812, 0.9047777359743812, 0.9047777359743812, 0.9047777359743812, 0.9047777359743812, 0.9047777359743812, 0.9092005930877938, 0.9092005930877938, 0.9092005930877938, 0.9092005930877938, 0.9092005930877938, 0.9092005930877938, 0.9092005930877938, 0.9092005930877938, 0.9092005930877938, 0.9092005930877938, 0.9092005930877938, 0.9092005930877938, 0.9092005930877938, 0.9092005930877938]}], \"precision_score_macro\": [{\"categories\": [\"0\", \"1\", \"2\", \"3\", \"4\", \"5\", \"6\", \"7\", \"8\", \"9\", \"10\", \"11\", \"12\", \"13\", \"14\", \"15\", \"16\", \"17\", \"18\", \"19\", \"20\", \"21\", \"22\", \"23\", \"24\", \"25\", \"26\", \"27\", \"28\", \"29\", \"30\", \"31\", \"32\", \"33\", \"34\", \"35\", \"36\", \"37\"], \"mode\": \"markers\", \"name\": \"precision_score_macro\", \"stepped\": false, \"type\": \"scatter\", \"data\": [0.7808126183126183, 0.7760241038201565, 0.8242266414141415, 0.7742334054834055, 0.5819020975025049, 0.8459377016201668, 0.7861033297916914, 0.8096843434343435, 0.5777616141803785, 0.736829714727996, 0.7970863300346995, 0.8050190793278849, 0.7244193768477825, 0.8344365878989204, 0.7167270120362712, 0.7231748194181706, 0.7441513694638695, 0.8136335445030725, 0.8108366885812166, 0.8119025843247799, 0.8169524820165622, 0.8212536465933205, 0.7929111396377122, 0.8188483456418063, 0.829074635814281, 0.8476927192959801, 0.7967321618569908, 0.8259818580542264, 0.7987664473684211, 0.8105788914497997, 0.8258996212121212, 0.8324634152079804, 0.7996244754595762, 0.8082967514082064, 0.8220657594512448, 0.32863700564971754, 0.8633922911986992, 0.8405340714591356]}, {\"categories\": [\"0\", \"1\", \"2\", \"3\", \"4\", \"5\", \"6\", \"7\", \"8\", \"9\", \"10\", \"11\", \"12\", \"13\", \"14\", \"15\", \"16\", \"17\", \"18\", \"19\", \"20\", \"21\", \"22\", \"23\", \"24\", \"25\", \"26\", \"27\", \"28\", \"29\", \"30\", \"31\", \"32\", \"33\", \"34\", \"35\", \"36\", \"37\"], \"mode\": \"lines\", \"name\": \"precision_score_macro_max\", \"stepped\": true, \"type\": \"scatter\", \"data\": [0.7808126183126183, 0.7808126183126183, 0.8242266414141415, 0.8242266414141415, 0.8242266414141415, 0.8459377016201668, 0.8459377016201668, 0.8459377016201668, 0.8459377016201668, 0.8459377016201668, 0.8459377016201668, 0.8459377016201668, 0.8459377016201668, 0.8459377016201668, 0.8459377016201668, 0.8459377016201668, 0.8459377016201668, 0.8459377016201668, 0.8459377016201668, 0.8459377016201668, 0.8459377016201668, 0.8459377016201668, 0.8459377016201668, 0.8459377016201668, 0.8459377016201668, 0.8476927192959801, 0.8476927192959801, 0.8476927192959801, 0.8476927192959801, 0.8476927192959801, 0.8476927192959801, 0.8476927192959801, 0.8476927192959801, 0.8476927192959801, 0.8476927192959801, 0.8476927192959801, 0.8633922911986992, 0.8633922911986992]}], \"f1_score_micro\": [{\"categories\": [\"0\", \"1\", \"2\", \"3\", \"4\", \"5\", \"6\", \"7\", \"8\", \"9\", \"10\", \"11\", \"12\", \"13\", \"14\", \"15\", \"16\", \"17\", \"18\", \"19\", \"20\", \"21\", \"22\", \"23\", \"24\", \"25\", \"26\", \"27\", \"28\", \"29\", \"30\", \"31\", \"32\", \"33\", \"34\", \"35\", \"36\", \"37\"], \"mode\": \"markers\", \"name\": \"f1_score_micro\", \"stepped\": false, \"type\": \"scatter\", \"data\": [0.8075564971751413, 0.8031779661016949, 0.8494350282485875, 0.7950564971751412, 0.6188559322033899, 0.8535310734463276, 0.8076977401129944, 0.7992937853107345, 0.6188559322033899, 0.7616525423728814, 0.8158192090395481, 0.8366525423728813, 0.7406779661016949, 0.8120056497175141, 0.749223163841808, 0.7492937853107345, 0.7365112994350282, 0.8326977401129945, 0.8285310734463277, 0.8326271186440678, 0.8369350282485876, 0.8410310734463277, 0.811864406779661, 0.8409604519774012, 0.8410310734463277, 0.8617231638418079, 0.812005649717514, 0.8409604519774011, 0.8202683615819208, 0.8244350282485876, 0.8326271186440679, 0.8367937853107345, 0.8241525423728814, 0.8326271186440678, 0.8326977401129945, 0.6572740112994351, 0.8745056497175141, 0.8536016949152543]}, {\"categories\": [\"0\", \"1\", \"2\", \"3\", \"4\", \"5\", \"6\", \"7\", \"8\", \"9\", \"10\", \"11\", \"12\", \"13\", \"14\", \"15\", \"16\", \"17\", \"18\", \"19\", \"20\", \"21\", \"22\", \"23\", \"24\", \"25\", \"26\", \"27\", \"28\", \"29\", \"30\", \"31\", \"32\", \"33\", \"34\", \"35\", \"36\", \"37\"], \"mode\": \"lines\", \"name\": \"f1_score_micro_max\", \"stepped\": true, \"type\": \"scatter\", \"data\": [0.8075564971751413, 0.8075564971751413, 0.8494350282485875, 0.8494350282485875, 0.8494350282485875, 0.8535310734463276, 0.8535310734463276, 0.8535310734463276, 0.8535310734463276, 0.8535310734463276, 0.8535310734463276, 0.8535310734463276, 0.8535310734463276, 0.8535310734463276, 0.8535310734463276, 0.8535310734463276, 0.8535310734463276, 0.8535310734463276, 0.8535310734463276, 0.8535310734463276, 0.8535310734463276, 0.8535310734463276, 0.8535310734463276, 0.8535310734463276, 0.8535310734463276, 0.8617231638418079, 0.8617231638418079, 0.8617231638418079, 0.8617231638418079, 0.8617231638418079, 0.8617231638418079, 0.8617231638418079, 0.8617231638418079, 0.8617231638418079, 0.8617231638418079, 0.8617231638418079, 0.8745056497175141, 0.8745056497175141]}], \"accuracy\": [{\"categories\": [\"0\", \"1\", \"2\", \"3\", \"4\", \"5\", \"6\", \"7\", \"8\", \"9\", \"10\", \"11\", \"12\", \"13\", \"14\", \"15\", \"16\", \"17\", \"18\", \"19\", \"20\", \"21\", \"22\", \"23\", \"24\", \"25\", \"26\", \"27\", \"28\", \"29\", \"30\", \"31\", \"32\", \"33\", \"34\", \"35\", \"36\", \"37\"], \"mode\": \"markers\", \"name\": \"accuracy\", \"stepped\": false, \"type\": \"scatter\", \"data\": [0.8075564971751413, 0.8031779661016949, 0.8494350282485875, 0.7950564971751412, 0.6188559322033899, 0.8535310734463276, 0.8076977401129943, 0.7992937853107345, 0.6188559322033899, 0.7616525423728814, 0.8158192090395481, 0.8366525423728813, 0.7406779661016949, 0.8120056497175141, 0.749223163841808, 0.7492937853107345, 0.7365112994350282, 0.8326977401129944, 0.8285310734463277, 0.8326271186440678, 0.8369350282485876, 0.8410310734463277, 0.811864406779661, 0.8409604519774011, 0.8410310734463277, 0.8617231638418079, 0.812005649717514, 0.8409604519774011, 0.8202683615819208, 0.8244350282485876, 0.8326271186440678, 0.8367937853107345, 0.8241525423728814, 0.8326271186440678, 0.8326977401129944, 0.6572740112994351, 0.8745056497175141, 0.8536016949152542]}, {\"categories\": [\"0\", \"1\", \"2\", \"3\", \"4\", \"5\", \"6\", \"7\", \"8\", \"9\", \"10\", \"11\", \"12\", \"13\", \"14\", \"15\", \"16\", \"17\", \"18\", \"19\", \"20\", \"21\", \"22\", \"23\", \"24\", \"25\", \"26\", \"27\", \"28\", \"29\", \"30\", \"31\", \"32\", \"33\", \"34\", \"35\", \"36\", \"37\"], \"mode\": \"lines\", \"name\": \"accuracy_max\", \"stepped\": true, \"type\": \"scatter\", \"data\": [0.8075564971751413, 0.8075564971751413, 0.8494350282485875, 0.8494350282485875, 0.8494350282485875, 0.8535310734463276, 0.8535310734463276, 0.8535310734463276, 0.8535310734463276, 0.8535310734463276, 0.8535310734463276, 0.8535310734463276, 0.8535310734463276, 0.8535310734463276, 0.8535310734463276, 0.8535310734463276, 0.8535310734463276, 0.8535310734463276, 0.8535310734463276, 0.8535310734463276, 0.8535310734463276, 0.8535310734463276, 0.8535310734463276, 0.8535310734463276, 0.8535310734463276, 0.8617231638418079, 0.8617231638418079, 0.8617231638418079, 0.8617231638418079, 0.8617231638418079, 0.8617231638418079, 0.8617231638418079, 0.8617231638418079, 0.8617231638418079, 0.8617231638418079, 0.8617231638418079, 0.8745056497175141, 0.8745056497175141]}], \"matthews_correlation\": [{\"categories\": [\"0\", \"1\", \"2\", \"3\", \"4\", \"5\", \"6\", \"7\", \"8\", \"9\", \"10\", \"11\", \"12\", \"13\", \"14\", \"15\", \"16\", \"17\", \"18\", \"19\", \"20\", \"21\", \"22\", \"23\", \"24\", \"25\", \"26\", \"27\", \"28\", \"29\", \"30\", \"31\", \"32\", \"33\", \"34\", \"35\", \"36\", \"37\"], \"mode\": \"markers\", \"name\": \"matthews_correlation\", \"stepped\": false, \"type\": \"scatter\", \"data\": [0.5828157448331466, 0.5604191597797087, 0.6498648605178088, 0.5257765002483711, 0.15195858799440293, 0.6543008128404286, 0.5950821069873655, 0.5502611857008832, 0.14041259700776962, 0.4634421075943579, 0.6045977882779205, 0.6217765668526566, 0.4784894136168133, 0.5790726884681544, 0.4238683703465459, 0.40148863712845034, 0.39572671406829535, 0.613369682989282, 0.618896309920761, 0.6145748915728999, 0.634796616539084, 0.6390510196527601, 0.581806400746085, 0.6540987838446494, 0.641006958380545, 0.6962598328458467, 0.5843007526202793, 0.6342683176433532, 0.6082194558948921, 0.597632326423215, 0.6133313194822085, 0.632147864707767, 0.6160518408056349, 0.624081773863911, 0.6153361582708857, 0.0, 0.7200773823638164, 0.6788797380263347]}, {\"categories\": [\"0\", \"1\", \"2\", \"3\", \"4\", \"5\", \"6\", \"7\", \"8\", \"9\", \"10\", \"11\", \"12\", \"13\", \"14\", \"15\", \"16\", \"17\", \"18\", \"19\", \"20\", \"21\", \"22\", \"23\", \"24\", \"25\", \"26\", \"27\", \"28\", \"29\", \"30\", \"31\", \"32\", \"33\", \"34\", \"35\", \"36\", \"37\"], \"mode\": \"lines\", \"name\": \"matthews_correlation_max\", \"stepped\": true, \"type\": \"scatter\", \"data\": [0.5828157448331466, 0.5828157448331466, 0.6498648605178088, 0.6498648605178088, 0.6498648605178088, 0.6543008128404286, 0.6543008128404286, 0.6543008128404286, 0.6543008128404286, 0.6543008128404286, 0.6543008128404286, 0.6543008128404286, 0.6543008128404286, 0.6543008128404286, 0.6543008128404286, 0.6543008128404286, 0.6543008128404286, 0.6543008128404286, 0.6543008128404286, 0.6543008128404286, 0.6543008128404286, 0.6543008128404286, 0.6543008128404286, 0.6543008128404286, 0.6543008128404286, 0.6962598328458467, 0.6962598328458467, 0.6962598328458467, 0.6962598328458467, 0.6962598328458467, 0.6962598328458467, 0.6962598328458467, 0.6962598328458467, 0.6962598328458467, 0.6962598328458467, 0.6962598328458467, 0.7200773823638164, 0.7200773823638164]}], \"weighted_accuracy\": [{\"categories\": [\"0\", \"1\", \"2\", \"3\", \"4\", \"5\", \"6\", \"7\", \"8\", \"9\", \"10\", \"11\", \"12\", \"13\", \"14\", \"15\", \"16\", \"17\", \"18\", \"19\", \"20\", \"21\", \"22\", \"23\", \"24\", \"25\", \"26\", \"27\", \"28\", \"29\", \"30\", \"31\", \"32\", \"33\", \"34\", \"35\", \"36\", \"37\"], \"mode\": \"markers\", \"name\": \"weighted_accuracy\", \"stepped\": false, \"type\": \"scatter\", \"data\": [0.8111861660591257, 0.8151257399870185, 0.8650853227565528, 0.8230441672576101, 0.6510225962344233, 0.8815317986824193, 0.8070470701451911, 0.834780198140951, 0.656655232664685, 0.7843387835801547, 0.8213478555345878, 0.8491642680638565, 0.7302802065960757, 0.851995449847577, 0.7768821208249823, 0.7937198497867024, 0.7847116329261236, 0.8546386050943164, 0.8422525976657851, 0.8528071566464135, 0.8496324026062824, 0.854901816840221, 0.8266665354233993, 0.8451118908836676, 0.8599988964469013, 0.8703684509994115, 0.8280360724661212, 0.8627552535322267, 0.8269344756923254, 0.8477126224212275, 0.861241838087328, 0.8612400150063942, 0.8290465324032433, 0.8433893144571325, 0.8580988127067732, 0.7580980033929755, 0.88646223100367, 0.8636261216062542]}, {\"categories\": [\"0\", \"1\", \"2\", \"3\", \"4\", \"5\", \"6\", \"7\", \"8\", \"9\", \"10\", \"11\", \"12\", \"13\", \"14\", \"15\", \"16\", \"17\", \"18\", \"19\", \"20\", \"21\", \"22\", \"23\", \"24\", \"25\", \"26\", \"27\", \"28\", \"29\", \"30\", \"31\", \"32\", \"33\", \"34\", \"35\", \"36\", \"37\"], \"mode\": \"lines\", \"name\": \"weighted_accuracy_max\", \"stepped\": true, \"type\": \"scatter\", \"data\": [0.8111861660591257, 0.8151257399870185, 0.8650853227565528, 0.8650853227565528, 0.8650853227565528, 0.8815317986824193, 0.8815317986824193, 0.8815317986824193, 0.8815317986824193, 0.8815317986824193, 0.8815317986824193, 0.8815317986824193, 0.8815317986824193, 0.8815317986824193, 0.8815317986824193, 0.8815317986824193, 0.8815317986824193, 0.8815317986824193, 0.8815317986824193, 0.8815317986824193, 0.8815317986824193, 0.8815317986824193, 0.8815317986824193, 0.8815317986824193, 0.8815317986824193, 0.8815317986824193, 0.8815317986824193, 0.8815317986824193, 0.8815317986824193, 0.8815317986824193, 0.8815317986824193, 0.8815317986824193, 0.8815317986824193, 0.8815317986824193, 0.8815317986824193, 0.8815317986824193, 0.88646223100367, 0.88646223100367]}], \"average_precision_score_weighted\": [{\"categories\": [\"0\", \"1\", \"2\", \"3\", \"4\", \"5\", \"6\", \"7\", \"8\", \"9\", \"10\", \"11\", \"12\", \"13\", \"14\", \"15\", \"16\", \"17\", \"18\", \"19\", \"20\", \"21\", \"22\", \"23\", \"24\", \"25\", \"26\", \"27\", \"28\", \"29\", \"30\", \"31\", \"32\", \"33\", \"34\", \"35\", \"36\", \"37\"], \"mode\": \"markers\", \"name\": \"average_precision_score_weighted\", \"stepped\": false, \"type\": \"scatter\", \"data\": [0.9017800970698406, 0.9100322110461967, 0.9172983054978587, 0.8639307071427109, 0.6446315400801016, 0.9239433601966934, 0.9014322919321486, 0.9134806484569764, 0.6722053792110027, 0.85449209422587, 0.9001347822954495, 0.9113624493148644, 0.8903564795789868, 0.8968937654510256, 0.8215304826056915, 0.8070140129350619, 0.7960598645901096, 0.8926745603883645, 0.9068906794245135, 0.8920840723575476, 0.9069135118426559, 0.9010043704682563, 0.8828681746071, 0.9147497759889968, 0.9281485693403192, 0.9234534270461652, 0.8687615320837097, 0.9171170027338551, 0.8855590322420344, 0.8801902925102487, 0.8758790882421352, 0.9063552658540074, 0.8786307562815601, 0.9078234550635096, 0.8915246487960785, 0.5951400576071421, 0.9241216781821676, 0.905855261638546]}, {\"categories\": [\"0\", \"1\", \"2\", \"3\", \"4\", \"5\", \"6\", \"7\", \"8\", \"9\", \"10\", \"11\", \"12\", \"13\", \"14\", \"15\", \"16\", \"17\", \"18\", \"19\", \"20\", \"21\", \"22\", \"23\", \"24\", \"25\", \"26\", \"27\", \"28\", \"29\", \"30\", \"31\", \"32\", \"33\", \"34\", \"35\", \"36\", \"37\"], \"mode\": \"lines\", \"name\": \"average_precision_score_weighted_max\", \"stepped\": true, \"type\": \"scatter\", \"data\": [0.9017800970698406, 0.9100322110461967, 0.9172983054978587, 0.9172983054978587, 0.9172983054978587, 0.9239433601966934, 0.9239433601966934, 0.9239433601966934, 0.9239433601966934, 0.9239433601966934, 0.9239433601966934, 0.9239433601966934, 0.9239433601966934, 0.9239433601966934, 0.9239433601966934, 0.9239433601966934, 0.9239433601966934, 0.9239433601966934, 0.9239433601966934, 0.9239433601966934, 0.9239433601966934, 0.9239433601966934, 0.9239433601966934, 0.9239433601966934, 0.9281485693403192, 0.9281485693403192, 0.9281485693403192, 0.9281485693403192, 0.9281485693403192, 0.9281485693403192, 0.9281485693403192, 0.9281485693403192, 0.9281485693403192, 0.9281485693403192, 0.9281485693403192, 0.9281485693403192, 0.9281485693403192, 0.9281485693403192]}], \"average_precision_score_micro\": [{\"categories\": [\"0\", \"1\", \"2\", \"3\", \"4\", \"5\", \"6\", \"7\", \"8\", \"9\", \"10\", \"11\", \"12\", \"13\", \"14\", \"15\", \"16\", \"17\", \"18\", \"19\", \"20\", \"21\", \"22\", \"23\", \"24\", \"25\", \"26\", \"27\", \"28\", \"29\", \"30\", \"31\", \"32\", \"33\", \"34\", \"35\", \"36\", \"37\"], \"mode\": \"markers\", \"name\": \"average_precision_score_micro\", \"stepped\": false, \"type\": \"scatter\", \"data\": [0.8963066822226442, 0.9013298758130232, 0.9093618894960502, 0.8551696491895066, 0.6180944427204247, 0.9135943726636688, 0.8846339230601868, 0.8885584091141289, 0.6565711494067401, 0.8432789889384353, 0.8988105132586949, 0.8985014737585114, 0.8453966476282786, 0.8775330875391238, 0.819618031946183, 0.8056248884323136, 0.7804812647616378, 0.8873887154426459, 0.8993995556693857, 0.8838203194903862, 0.8964796429304254, 0.8955678457229805, 0.8731626252646245, 0.9036412126367598, 0.9123932265858199, 0.9140052606783968, 0.85542534709702, 0.9049139951788167, 0.878912733167615, 0.8719867182236821, 0.8636175465141973, 0.8963917532323278, 0.8735062256578757, 0.8957530006190134, 0.8790943559629376, 0.6315651032591958, 0.9158021966305572, 0.8877696084191977]}, {\"categories\": [\"0\", \"1\", \"2\", \"3\", \"4\", \"5\", \"6\", \"7\", \"8\", \"9\", \"10\", \"11\", \"12\", \"13\", \"14\", \"15\", \"16\", \"17\", \"18\", \"19\", \"20\", \"21\", \"22\", \"23\", \"24\", \"25\", \"26\", \"27\", \"28\", \"29\", \"30\", \"31\", \"32\", \"33\", \"34\", \"35\", \"36\", \"37\"], \"mode\": \"lines\", \"name\": \"average_precision_score_micro_max\", \"stepped\": true, \"type\": \"scatter\", \"data\": [0.8963066822226442, 0.9013298758130232, 0.9093618894960502, 0.9093618894960502, 0.9093618894960502, 0.9135943726636688, 0.9135943726636688, 0.9135943726636688, 0.9135943726636688, 0.9135943726636688, 0.9135943726636688, 0.9135943726636688, 0.9135943726636688, 0.9135943726636688, 0.9135943726636688, 0.9135943726636688, 0.9135943726636688, 0.9135943726636688, 0.9135943726636688, 0.9135943726636688, 0.9135943726636688, 0.9135943726636688, 0.9135943726636688, 0.9135943726636688, 0.9135943726636688, 0.9140052606783968, 0.9140052606783968, 0.9140052606783968, 0.9140052606783968, 0.9140052606783968, 0.9140052606783968, 0.9140052606783968, 0.9140052606783968, 0.9140052606783968, 0.9140052606783968, 0.9140052606783968, 0.9158021966305572, 0.9158021966305572]}]}, \"metricName\": null, \"primaryMetricName\": \"accuracy\", \"showLegend\": false}, \"run_metrics\": [{\"name\": \"experiment_status\", \"run_id\": \"AutoML_7e0b1c81-b6af-42a9-ad51-0b9083296104\", \"categories\": [0, 1, 2, 3, 4, 5, 6, 7, 8, 9, 10, 11, 12, 13], \"series\": [{\"data\": [\"DatasetEvaluation\", \"FeaturesGeneration\", \"DatasetFeaturization\", \"DatasetFeaturizationCompleted\", \"DatasetCrossValidationSplit\", \"ModelSelection\", \"BestRunExplainModel\", \"ModelExplanationDataSetSetup\", \"PickSurrogateModel\", \"EngineeredFeatureExplanations\", \"EngineeredFeatureExplanations\", \"RawFeaturesExplanations\", \"RawFeaturesExplanations\", \"BestRunExplainModel\"]}]}, {\"name\": \"experiment_status_description\", \"run_id\": \"AutoML_7e0b1c81-b6af-42a9-ad51-0b9083296104\", \"categories\": [0, 1, 2, 3, 4, 5, 6, 7, 8, 9, 10, 11, 12, 13], \"series\": [{\"data\": [\"Gathering dataset statistics.\", \"Generating features for the dataset.\", \"Beginning to fit featurizers and featurize the dataset.\", \"Completed fit featurizers and featurizing the dataset.\", \"Generating individually featurized CV splits.\", \"Beginning model selection.\", \"Best run model explanations started\", \"Model explanations data setup completed\", \"Choosing LightGBM as the surrogate model for explanations\", \"Computation of engineered features started\", \"Computation of engineered features completed\", \"Computation of raw features started\", \"Computation of raw features completed\", \"Best run model explanations completed\"]}]}, {\"name\": \"precision_score_weighted\", \"run_id\": \"AutoML_7e0b1c81-b6af-42a9-ad51-0b9083296104\", \"categories\": [0], \"series\": [{\"data\": [0.88281444928292]}]}, {\"name\": \"precision_score_micro\", \"run_id\": \"AutoML_7e0b1c81-b6af-42a9-ad51-0b9083296104\", \"categories\": [0], \"series\": [{\"data\": [0.8745056497175141]}]}, {\"name\": \"balanced_accuracy\", \"run_id\": \"AutoML_7e0b1c81-b6af-42a9-ad51-0b9083296104\", \"categories\": [0], \"series\": [{\"data\": [0.8570747554443208]}]}, {\"name\": \"f1_score_weighted\", \"run_id\": \"AutoML_7e0b1c81-b6af-42a9-ad51-0b9083296104\", \"categories\": [0], \"series\": [{\"data\": [0.8736038862148576]}]}, {\"name\": \"precision_score_macro\", \"run_id\": \"AutoML_7e0b1c81-b6af-42a9-ad51-0b9083296104\", \"categories\": [0], \"series\": [{\"data\": [0.8633922911986992]}]}, {\"name\": \"recall_score_macro\", \"run_id\": \"AutoML_7e0b1c81-b6af-42a9-ad51-0b9083296104\", \"categories\": [0], \"series\": [{\"data\": [0.8570747554443208]}]}, {\"name\": \"average_precision_score_weighted\", \"run_id\": \"AutoML_7e0b1c81-b6af-42a9-ad51-0b9083296104\", \"categories\": [0], \"series\": [{\"data\": [0.9241216781821676]}]}, {\"name\": \"log_loss\", \"run_id\": \"AutoML_7e0b1c81-b6af-42a9-ad51-0b9083296104\", \"categories\": [0], \"series\": [{\"data\": [0.39710782591714905]}]}, {\"name\": \"f1_score_macro\", \"run_id\": \"AutoML_7e0b1c81-b6af-42a9-ad51-0b9083296104\", \"categories\": [0], \"series\": [{\"data\": [0.8549193614298632]}]}, {\"name\": \"AUC_macro\", \"run_id\": \"AutoML_7e0b1c81-b6af-42a9-ad51-0b9083296104\", \"categories\": [0], \"series\": [{\"data\": [0.9190572927529449]}]}, {\"name\": \"f1_score_micro\", \"run_id\": \"AutoML_7e0b1c81-b6af-42a9-ad51-0b9083296104\", \"categories\": [0], \"series\": [{\"data\": [0.8745056497175141]}]}, {\"name\": \"recall_score_weighted\", \"run_id\": \"AutoML_7e0b1c81-b6af-42a9-ad51-0b9083296104\", \"categories\": [0], \"series\": [{\"data\": [0.8745056497175141]}]}, {\"name\": \"matthews_correlation\", \"run_id\": \"AutoML_7e0b1c81-b6af-42a9-ad51-0b9083296104\", \"categories\": [0], \"series\": [{\"data\": [0.7200773823638164]}]}, {\"name\": \"accuracy\", \"run_id\": \"AutoML_7e0b1c81-b6af-42a9-ad51-0b9083296104\", \"categories\": [0], \"series\": [{\"data\": [0.8745056497175141]}]}, {\"name\": \"norm_macro_recall\", \"run_id\": \"AutoML_7e0b1c81-b6af-42a9-ad51-0b9083296104\", \"categories\": [0], \"series\": [{\"data\": [0.7141495108886413]}]}, {\"name\": \"average_precision_score_macro\", \"run_id\": \"AutoML_7e0b1c81-b6af-42a9-ad51-0b9083296104\", \"categories\": [0], \"series\": [{\"data\": [0.9046786856327598]}]}, {\"name\": \"recall_score_micro\", \"run_id\": \"AutoML_7e0b1c81-b6af-42a9-ad51-0b9083296104\", \"categories\": [0], \"series\": [{\"data\": [0.8745056497175141]}]}, {\"name\": \"weighted_accuracy\", \"run_id\": \"AutoML_7e0b1c81-b6af-42a9-ad51-0b9083296104\", \"categories\": [0], \"series\": [{\"data\": [0.88646223100367]}]}, {\"name\": \"AUC_weighted\", \"run_id\": \"AutoML_7e0b1c81-b6af-42a9-ad51-0b9083296104\", \"categories\": [0], \"series\": [{\"data\": [0.9190572927529449]}]}, {\"name\": \"average_precision_score_micro\", \"run_id\": \"AutoML_7e0b1c81-b6af-42a9-ad51-0b9083296104\", \"categories\": [0], \"series\": [{\"data\": [0.9158021966305572]}]}, {\"name\": \"AUC_micro\", \"run_id\": \"AutoML_7e0b1c81-b6af-42a9-ad51-0b9083296104\", \"categories\": [0], \"series\": [{\"data\": [0.9153775455648121]}]}], \"run_logs\": \"\\nRun is completed.\", \"graph\": {}, \"widget_settings\": {\"childWidgetDisplay\": \"popup\", \"send_telemetry\": false, \"log_level\": \"INFO\", \"sdk_version\": \"1.36.0\"}, \"loading\": false}"
     },
     "metadata": {},
     "output_type": "display_data"
    }
   ],
   "source": [
    "from azureml.widgets import RunDetails\n",
    "RunDetails(remote_run).show()"
   ]
  },
  {
   "cell_type": "code",
   "execution_count": 13,
   "metadata": {},
   "outputs": [
    {
     "data": {
      "text/plain": [
       "{'runId': 'AutoML_7e0b1c81-b6af-42a9-ad51-0b9083296104',\n",
       " 'target': 'cpu-compute',\n",
       " 'status': 'Completed',\n",
       " 'startTimeUtc': '2022-01-20T15:50:30.798559Z',\n",
       " 'endTimeUtc': '2022-01-20T16:17:13.680801Z',\n",
       " 'services': {},\n",
       " 'warnings': [{'source': 'JasmineService',\n",
       "   'message': 'No scores improved over last 20 iterations, so experiment stopped early. This early stopping behavior can be disabled by setting enable_early_stopping = False in AutoMLConfig for notebook/python SDK runs.'}],\n",
       " 'properties': {'num_iterations': '1000',\n",
       "  'training_type': 'TrainFull',\n",
       "  'acquisition_function': 'EI',\n",
       "  'primary_metric': 'accuracy',\n",
       "  'train_split': '0',\n",
       "  'acquisition_parameter': '0',\n",
       "  'num_cross_validation': '4',\n",
       "  'target': 'cpu-compute',\n",
       "  'AMLSettingsJsonString': '{\"path\":null,\"name\":\"heart-failure-automl\",\"subscription_id\":\"81cefad3-d2c9-4f77-a466-99a7f541c7bb\",\"resource_group\":\"aml-quickstarts-177051\",\"workspace_name\":\"quick-starts-ws-177051\",\"region\":\"southcentralus\",\"compute_target\":\"cpu-compute\",\"spark_service\":null,\"azure_service\":\"remote\",\"many_models\":false,\"pipeline_fetch_max_batch_size\":1,\"enable_batch_run\":true,\"enable_run_restructure\":false,\"start_auxiliary_runs_before_parent_complete\":false,\"enable_code_generation\":false,\"iterations\":1000,\"primary_metric\":\"accuracy\",\"task_type\":\"classification\",\"positive_label\":null,\"data_script\":null,\"test_size\":0.0,\"test_include_predictions_only\":false,\"validation_size\":0.0,\"n_cross_validations\":4,\"y_min\":null,\"y_max\":null,\"num_classes\":null,\"featurization\":\"auto\",\"_ignore_package_version_incompatibilities\":false,\"is_timeseries\":false,\"max_cores_per_iteration\":1,\"max_concurrent_iterations\":1,\"iteration_timeout_minutes\":null,\"mem_in_mb\":null,\"enforce_time_on_windows\":false,\"experiment_timeout_minutes\":30,\"experiment_exit_score\":null,\"whitelist_models\":null,\"blacklist_algos\":[\"TensorFlowLinearClassifier\",\"TensorFlowDNN\"],\"supported_models\":[\"LogisticRegression\",\"XGBoostClassifier\",\"TensorFlowLinearClassifier\",\"TensorFlowDNN\",\"SVM\",\"LightGBM\",\"MultinomialNaiveBayes\",\"SGD\",\"ExtremeRandomTrees\",\"KNN\",\"AveragedPerceptronClassifier\",\"GradientBoosting\",\"RandomForest\",\"DecisionTree\",\"BernoulliNaiveBayes\",\"LinearSVM\"],\"private_models\":[\"TabnetClassifier\"],\"auto_blacklist\":true,\"blacklist_samples_reached\":false,\"exclude_nan_labels\":true,\"verbosity\":20,\"_debug_log\":\"azureml_automl.log\",\"show_warnings\":false,\"model_explainability\":true,\"service_url\":null,\"sdk_url\":null,\"sdk_packages\":null,\"enable_onnx_compatible_models\":false,\"enable_split_onnx_featurizer_estimator_models\":false,\"vm_type\":\"STANDARD_D2_V2\",\"telemetry_verbosity\":20,\"send_telemetry\":true,\"enable_dnn\":false,\"scenario\":\"SDK-1.13.0\",\"environment_label\":null,\"save_mlflow\":false,\"enable_categorical_indicators\":false,\"force_text_dnn\":false,\"enable_feature_sweeping\":true,\"enable_early_stopping\":true,\"early_stopping_n_iters\":10,\"arguments\":null,\"dataset_id\":null,\"hyperdrive_config\":null,\"validation_dataset_id\":null,\"run_source\":null,\"metrics\":null,\"enable_metric_confidence\":false,\"enable_ensembling\":true,\"enable_stack_ensembling\":true,\"ensemble_iterations\":15,\"enable_tf\":false,\"enable_subsampling\":null,\"subsample_seed\":null,\"enable_nimbusml\":false,\"enable_streaming\":false,\"force_streaming\":false,\"track_child_runs\":true,\"allowed_private_models\":[],\"label_column_name\":\"DEATH_EVENT\",\"weight_column_name\":null,\"cv_split_column_names\":null,\"enable_local_managed\":false,\"_local_managed_run_id\":null,\"cost_mode\":1,\"lag_length\":0,\"metric_operation\":\"maximize\",\"preprocess\":true}',\n",
       "  'DataPrepJsonString': '{\\\\\"training_data\\\\\": {\\\\\"datasetId\\\\\": \\\\\"d6aba19a-0103-4669-980e-c31d9f8df225\\\\\"}, \\\\\"datasets\\\\\": 0}',\n",
       "  'EnableSubsampling': None,\n",
       "  'runTemplate': 'AutoML',\n",
       "  'azureml.runsource': 'automl',\n",
       "  'display_task_type': 'classification',\n",
       "  'dependencies_versions': '{\"azureml-widgets\": \"1.36.0\", \"azureml-train\": \"1.36.0\", \"azureml-train-restclients-hyperdrive\": \"1.36.0\", \"azureml-train-core\": \"1.36.0\", \"azureml-train-automl\": \"1.36.0\", \"azureml-train-automl-runtime\": \"1.36.0\", \"azureml-train-automl-client\": \"1.36.0\", \"azureml-tensorboard\": \"1.36.0\", \"azureml-telemetry\": \"1.36.0\", \"azureml-sdk\": \"1.36.0\", \"azureml-samples\": \"0+unknown\", \"azureml-responsibleai\": \"1.36.0\", \"azureml-pipeline\": \"1.36.0\", \"azureml-pipeline-steps\": \"1.36.0\", \"azureml-pipeline-core\": \"1.36.0\", \"azureml-opendatasets\": \"1.36.0\", \"azureml-mlflow\": \"1.36.0\", \"azureml-interpret\": \"1.36.0\", \"azureml-inference-server-http\": \"0.4.1\", \"azureml-explain-model\": \"1.36.0\", \"azureml-defaults\": \"1.36.0\", \"azureml-dataset-runtime\": \"1.36.0\", \"azureml-dataprep\": \"2.24.4\", \"azureml-dataprep-rslex\": \"2.0.3\", \"azureml-dataprep-native\": \"38.0.0\", \"azureml-datadrift\": \"1.36.0\", \"azureml-core\": \"1.36.0.post2\", \"azureml-contrib-services\": \"1.36.0\", \"azureml-contrib-server\": \"1.36.0\", \"azureml-contrib-reinforcementlearning\": \"1.36.0\", \"azureml-contrib-pipeline-steps\": \"1.36.0\", \"azureml-contrib-notebook\": \"1.36.0\", \"azureml-contrib-fairness\": \"1.36.0\", \"azureml-contrib-dataset\": \"1.36.0\", \"azureml-contrib-automl-pipeline-steps\": \"1.36.0\", \"azureml-cli-common\": \"1.36.0\", \"azureml-automl-runtime\": \"1.36.0\", \"azureml-automl-dnn-nlp\": \"1.36.0\", \"azureml-automl-core\": \"1.36.0\", \"azureml-accel-models\": \"1.36.0\"}',\n",
       "  '_aml_system_scenario_identification': 'Remote.Parent',\n",
       "  'ClientType': 'SDK',\n",
       "  'environment_cpu_name': 'AzureML-AutoML',\n",
       "  'environment_cpu_label': 'prod',\n",
       "  'environment_gpu_name': 'AzureML-AutoML-GPU',\n",
       "  'environment_gpu_label': 'prod',\n",
       "  'root_attribution': 'automl',\n",
       "  'attribution': 'AutoML',\n",
       "  'Orchestrator': 'AutoML',\n",
       "  'CancelUri': 'https://southcentralus.api.azureml.ms/jasmine/v1.0/subscriptions/81cefad3-d2c9-4f77-a466-99a7f541c7bb/resourceGroups/aml-quickstarts-177051/providers/Microsoft.MachineLearningServices/workspaces/quick-starts-ws-177051/experimentids/a8554fc0-d04a-4a93-bee6-a75ad6d739fe/cancel/AutoML_7e0b1c81-b6af-42a9-ad51-0b9083296104',\n",
       "  'ClientSdkVersion': '1.37.0',\n",
       "  'snapshotId': '00000000-0000-0000-0000-000000000000',\n",
       "  'SetupRunId': 'AutoML_7e0b1c81-b6af-42a9-ad51-0b9083296104_setup',\n",
       "  'SetupRunContainerId': 'dcid.AutoML_7e0b1c81-b6af-42a9-ad51-0b9083296104_setup',\n",
       "  'FeaturizationRunJsonPath': 'featurizer_container.json',\n",
       "  'FeaturizationRunId': 'AutoML_7e0b1c81-b6af-42a9-ad51-0b9083296104_featurize',\n",
       "  'ProblemInfoJsonString': '{\"dataset_num_categorical\": 0, \"is_sparse\": false, \"subsampling\": false, \"has_extra_col\": true, \"dataset_classes\": 2, \"dataset_features\": 20, \"dataset_samples\": 239, \"single_frequency_class_detected\": false}',\n",
       "  'ModelExplainRunId': 'AutoML_7e0b1c81-b6af-42a9-ad51-0b9083296104_ModelExplain'},\n",
       " 'inputDatasets': [{'dataset': {'id': 'd6aba19a-0103-4669-980e-c31d9f8df225'}, 'consumptionDetails': {'type': 'RunInput', 'inputName': 'training_data', 'mechanism': 'Direct'}}],\n",
       " 'outputDatasets': [],\n",
       " 'logFiles': {},\n",
       " 'submittedBy': 'ODL_User 177051'}"
      ]
     },
     "execution_count": 13,
     "metadata": {},
     "output_type": "execute_result"
    }
   ],
   "source": [
    "remote_run.wait_for_completion()"
   ]
  },
  {
   "cell_type": "markdown",
   "metadata": {},
   "source": [
    "## Best Model"
   ]
  },
  {
   "cell_type": "code",
   "execution_count": 14,
   "metadata": {
    "gather": {
     "logged": 1598431425670
    },
    "jupyter": {
     "outputs_hidden": false,
     "source_hidden": false
    },
    "nteract": {
     "transient": {
      "deleting": false
     }
    }
   },
   "outputs": [
    {
     "name": "stderr",
     "output_type": "stream",
     "text": [
      "WARNING:root:The version of the SDK does not match the version the model was trained on.\n",
      "WARNING:root:The consistency in the result may not be guaranteed.\n",
      "WARNING:root:Package:azureml-automl-core, training version:1.37.0, current version:1.36.0\n",
      "Package:azureml-automl-runtime, training version:1.37.0, current version:1.36.0\n",
      "Package:azureml-core, training version:1.37.0, current version:1.36.0.post2\n",
      "Package:azureml-dataprep, training version:2.25.0, current version:2.24.4\n",
      "Package:azureml-dataprep-rslex, training version:2.1.0, current version:2.0.3\n",
      "Package:azureml-dataset-runtime, training version:1.37.0, current version:1.36.0\n",
      "Package:azureml-defaults, training version:1.37.0, current version:1.36.0\n",
      "Package:azureml-interpret, training version:1.37.0, current version:1.36.0\n",
      "Package:azureml-mlflow, training version:1.37.0, current version:1.36.0\n",
      "Package:azureml-pipeline-core, training version:1.37.0, current version:1.36.0\n",
      "Package:azureml-responsibleai, training version:1.37.0, current version:1.36.0\n",
      "Package:azureml-telemetry, training version:1.37.0, current version:1.36.0\n",
      "Package:azureml-train-automl-client, training version:1.37.0, current version:1.36.0\n",
      "Package:azureml-train-automl-runtime, training version:1.37.0, current version:1.36.0\n",
      "Package:azureml-train-core, training version:1.37.0, current version:1.36.0\n",
      "Package:azureml-train-restclients-hyperdrive, training version:1.37.0, current version:1.36.0\n",
      "WARNING:root:Please ensure the version of your local conda dependencies match the version on which your model was trained in order to properly retrieve your model.\n"
     ]
    },
    {
     "name": "stdout",
     "output_type": "stream",
     "text": [
      "f1_score_macro 0.8549193614298632\n",
      "average_precision_score_micro 0.9158021966305572\n",
      "recall_score_weighted 0.8745056497175141\n",
      "AUC_weighted 0.9190572927529449\n",
      "recall_score_macro 0.8570747554443208\n",
      "balanced_accuracy 0.8570747554443208\n",
      "AUC_macro 0.9190572927529449\n",
      "AUC_micro 0.9153775455648121\n",
      "f1_score_weighted 0.8736038862148576\n",
      "precision_score_weighted 0.88281444928292\n",
      "norm_macro_recall 0.7141495108886413\n",
      "average_precision_score_macro 0.9046786856327598\n",
      "weighted_accuracy 0.88646223100367\n",
      "precision_score_micro 0.8745056497175141\n",
      "recall_score_micro 0.8745056497175141\n",
      "precision_score_macro 0.8633922911986992\n",
      "average_precision_score_weighted 0.9241216781821676\n",
      "accuracy 0.8745056497175141\n",
      "matthews_correlation 0.7200773823638164\n",
      "f1_score_micro 0.8745056497175141\n",
      "log_loss 0.39710782591714905\n",
      "accuracy_table aml://artifactId/ExperimentRun/dcid.AutoML_7e0b1c81-b6af-42a9-ad51-0b9083296104_36/accuracy_table\n",
      "confusion_matrix aml://artifactId/ExperimentRun/dcid.AutoML_7e0b1c81-b6af-42a9-ad51-0b9083296104_36/confusion_matrix\n"
     ]
    }
   ],
   "source": [
    "#get best model and print all the metrics\n",
    "best_run, fitted_model = remote_run.get_output()\n",
    "\n",
    "best_run_metrics = best_run.get_metrics() \n",
    "for metric_name in best_run_metrics:\n",
    "    metric = best_run_metrics[metric_name]\n",
    "    print(metric_name, metric)"
   ]
  },
  {
   "cell_type": "code",
   "execution_count": 15,
   "metadata": {},
   "outputs": [
    {
     "data": {
      "text/plain": [
       "Pipeline(memory=None,\n",
       "         steps=[('datatransformer',\n",
       "                 DataTransformer(enable_dnn=False, enable_feature_sweeping=True, feature_sweeping_config={}, feature_sweeping_timeout=86400, featurization_config=None, force_text_dnn=False, is_cross_validation=True, is_onnx_compatible=False, observer=None, task='classification', working_dir='/mnt/batch/tasks/shared/LS_root/mount...\n",
       "), random_state=0, reg_alpha=0.7291666666666667, reg_lambda=2.3958333333333335, subsample=0.8, tree_method='auto'))], verbose=False)), ('28', Pipeline(memory=None, steps=[('sparsenormalizer', Normalizer(copy=True, norm='l1')), ('xgboostclassifier', XGBoostClassifier(booster='gbtree', colsample_bytree=1, eta=0.4, gamma=0.1, max_depth=10, max_leaves=127, n_estimators=50, n_jobs=1, objective='reg:logistic', problem_info=ProblemInfo(\n",
       "    gpu_training_param_dict={'processing_unit_type': 'cpu'}\n",
       "), random_state=0, reg_alpha=0.8333333333333334, reg_lambda=1.1458333333333335, subsample=0.8, tree_method='auto'))], verbose=False))], flatten_transform=None, weights=[0.125, 0.125, 0.125, 0.125, 0.125, 0.125, 0.25]))],\n",
       "         verbose=False)"
      ]
     },
     "execution_count": 15,
     "metadata": {},
     "output_type": "execute_result"
    }
   ],
   "source": [
    "# Details of best model as well as the parameters of the best run\n",
    "fitted_model"
   ]
  },
  {
   "cell_type": "code",
   "execution_count": 16,
   "metadata": {},
   "outputs": [
    {
     "data": {
      "text/html": [
       "<table style=\"width:100%\"><tr><th>Experiment</th><th>Id</th><th>Type</th><th>Status</th><th>Details Page</th><th>Docs Page</th></tr><tr><td>heart-failure-automl</td><td>AutoML_7e0b1c81-b6af-42a9-ad51-0b9083296104_36</td><td>azureml.scriptrun</td><td>Completed</td><td><a href=\"https://ml.azure.com/runs/AutoML_7e0b1c81-b6af-42a9-ad51-0b9083296104_36?wsid=/subscriptions/81cefad3-d2c9-4f77-a466-99a7f541c7bb/resourcegroups/aml-quickstarts-177051/workspaces/quick-starts-ws-177051&amp;tid=660b3398-b80e-49d2-bc5b-ac1dc93b5254\" target=\"_blank\" rel=\"noopener\">Link to Azure Machine Learning studio</a></td><td><a href=\"https://docs.microsoft.com/en-us/python/api/azureml-core/azureml.core.run.Run?view=azure-ml-py\" target=\"_blank\" rel=\"noopener\">Link to Documentation</a></td></tr></table>"
      ],
      "text/plain": [
       "Run(Experiment: heart-failure-automl,\n",
       "Id: AutoML_7e0b1c81-b6af-42a9-ad51-0b9083296104_36,\n",
       "Type: azureml.scriptrun,\n",
       "Status: Completed)"
      ]
     },
     "execution_count": 16,
     "metadata": {},
     "output_type": "execute_result"
    }
   ],
   "source": [
    "best_run"
   ]
  },
  {
   "cell_type": "code",
   "execution_count": 17,
   "metadata": {
    "gather": {
     "logged": 1598431426111
    },
    "jupyter": {
     "outputs_hidden": false,
     "source_hidden": false
    },
    "nteract": {
     "transient": {
      "deleting": false
     }
    }
   },
   "outputs": [
    {
     "data": {
      "text/plain": [
       "['outputs/automl_model.pkl']"
      ]
     },
     "execution_count": 17,
     "metadata": {},
     "output_type": "execute_result"
    }
   ],
   "source": [
    "#Save the best model\n",
    "best_run.register_model(model_name = 'automl_best_model.pkl', model_path = './outputs/')\n",
    "joblib.dump(fitted_model, filename= \"outputs/automl_model.pkl\")"
   ]
  },
  {
   "cell_type": "markdown",
   "metadata": {},
   "source": [
    "## Model Deployment"
   ]
  },
  {
   "cell_type": "code",
   "execution_count": 18,
   "metadata": {},
   "outputs": [],
   "source": [
    "# Download score.py and env file\n",
    "best_run.download_file('outputs/scoring_file_v_1_0_0.py', 'inference/score.py')\n",
    "best_run.download_file(constants.CONDA_ENV_FILE_PATH,'automl_env.yml')"
   ]
  },
  {
   "cell_type": "code",
   "execution_count": 19,
   "metadata": {},
   "outputs": [
    {
     "name": "stdout",
     "output_type": "stream",
     "text": [
      "AutoML7e0b1c81b36\n"
     ]
    }
   ],
   "source": [
    "# Register the model\n",
    "model_name = best_run.properties['model_name']\n",
    "description = 'AutoML Model trained on heart failure data to predict if death event occurs or not'\n",
    "tags = None\n",
    "model = remote_run.register_model(model_name = model_name, description = description, tags = tags)\n",
    "\n",
    "print(remote_run.model_id) # This will be written to the script file later in the notebook."
   ]
  },
  {
   "cell_type": "code",
   "execution_count": 20,
   "metadata": {},
   "outputs": [
    {
     "name": "stdout",
     "output_type": "stream",
     "text": [
      "automl-heart-failure\n",
      "Tips: You can try get_logs(): https://aka.ms/debugimage#dockerlog or local deployment: https://aka.ms/debugimage#debug-locally to debug if deployment takes longer than 10 minutes.\n",
      "Running\n",
      "2022-01-20 16:21:38+00:00 Creating Container Registry if not exists.\n",
      "2022-01-20 16:21:39+00:00 Use the existing image.\n",
      "2022-01-20 16:21:39+00:00 Generating deployment configuration.\n",
      "2022-01-20 16:21:40+00:00 Submitting deployment to compute.\n",
      "2022-01-20 16:21:43+00:00 Checking the status of deployment automl-heart-failure..\n",
      "2022-01-20 16:24:13+00:00 Checking the status of inference endpoint automl-heart-failure.\n",
      "Succeeded\n",
      "ACI service creation operation finished, operation \"Succeeded\"\n",
      "Healthy\n"
     ]
    }
   ],
   "source": [
    "# Create inference config\n",
    "script_file_name= 'inference/score.py'\n",
    "inference_config = InferenceConfig(entry_script=script_file_name)\n",
    "\n",
    "aciconfig = AciWebservice.deploy_configuration(cpu_cores = 1, \n",
    "                                               memory_gb = 1, \n",
    "                                               tags = {'area': \"hfData\", 'type': \"automl_classification\"}, \n",
    "                                               description = 'Heart Failure Prediction')\n",
    "\n",
    "aci_service_name = 'automl-heart-failure'\n",
    "print(aci_service_name)\n",
    "aci_service = Model.deploy(ws, aci_service_name, [model], inference_config, aciconfig)\n",
    "aci_service.wait_for_deployment(True)\n",
    "print(aci_service.state)"
   ]
  },
  {
   "cell_type": "code",
   "execution_count": 21,
   "metadata": {},
   "outputs": [],
   "source": [
    "# Enable Application Insights\n",
    "aci_service.update(enable_app_insights=True)"
   ]
  },
  {
   "cell_type": "code",
   "execution_count": 22,
   "metadata": {},
   "outputs": [
    {
     "name": "stdout",
     "output_type": "stream",
     "text": [
      "State Healthy\n",
      "Swagger URI http://ce2d5345-0dac-48dc-adb5-ac39fd5a20b8.southcentralus.azurecontainer.io/swagger.json\n",
      "Scoring URI http://ce2d5345-0dac-48dc-adb5-ac39fd5a20b8.southcentralus.azurecontainer.io/score\n"
     ]
    }
   ],
   "source": [
    "print(\"State \"+ aci_service.state)\n",
    "print(\"Swagger URI \" + aci_service.swagger_uri)\n",
    "print(\"Scoring URI \" + aci_service.scoring_uri)"
   ]
  },
  {
   "cell_type": "markdown",
   "metadata": {
    "collapsed": true,
    "gather": {
     "logged": 1598431657736
    },
    "jupyter": {
     "outputs_hidden": false,
     "source_hidden": false
    },
    "nteract": {
     "transient": {
      "deleting": false
     }
    }
   },
   "source": [
    "In the cell below, a request is sent to the web service deployed to test it."
   ]
  },
  {
   "cell_type": "code",
   "execution_count": 23,
   "metadata": {
    "gather": {
     "logged": 1598432707604
    },
    "jupyter": {
     "outputs_hidden": false,
     "source_hidden": false
    },
    "nteract": {
     "transient": {
      "deleting": false
     }
    }
   },
   "outputs": [
    {
     "name": "stdout",
     "output_type": "stream",
     "text": [
      "{\"result\": [1, 1]}\n"
     ]
    }
   ],
   "source": [
    "import requests\n",
    "import json\n",
    "\n",
    "# URL for the web service, should be similar to:\n",
    "# 'http://8530a665-66f3-49c8-a953-b82a2d312917.eastus.azurecontainer.io/score'\n",
    "scoring_uri = aci_service.scoring_uri\n",
    "# If the service is authenticated, set the key or token\n",
    "\n",
    "# Two sets of data to score, so we get two results back\n",
    "data = {\"data\":\n",
    "        [\n",
    "          {\n",
    "            \"age\": 70.0,\n",
    "            \"anaemia\": 1,\n",
    "            \"creatinine_phosphokinase\": 4020,\n",
    "            \"diabetes\": 1,\n",
    "            \"ejection_fraction\": 32,\n",
    "            \"high_blood_pressure\": 1,\n",
    "            \"platelets\": 234558.23,\n",
    "            \"serum_creatinine\": 1.4,\n",
    "            \"serum_sodium\": 125,\n",
    "            \"sex\": 0,\n",
    "            \"smoking\": 1,\n",
    "            \"time\": 12\n",
    "          },\n",
    "          {\n",
    "            \"age\": 75.0,\n",
    "            \"anaemia\": 0,\n",
    "            \"creatinine_phosphokinase\": 4221,\n",
    "            \"diabetes\": 0,\n",
    "            \"ejection_fraction\": 22,\n",
    "            \"high_blood_pressure\": 0,\n",
    "            \"platelets\": 404567.23,\n",
    "            \"serum_creatinine\": 1.1,\n",
    "            \"serum_sodium\": 115,\n",
    "            \"sex\": 1,\n",
    "            \"smoking\": 0,\n",
    "            \"time\": 7\n",
    "          },\n",
    "      ]\n",
    "    }\n",
    "# Convert to JSON string\n",
    "input_data = json.dumps(data)\n",
    "with open(\"data.json\", \"w\") as _f:\n",
    "    _f.write(input_data)\n",
    "\n",
    "# Set the content type\n",
    "headers = {'Content-Type': 'application/json'}\n",
    "# If authentication is enabled, set the authorization header\n",
    "\n",
    "# Make the request and display the response\n",
    "resp = requests.post(scoring_uri, input_data, headers=headers)\n",
    "print(resp.json())"
   ]
  },
  {
   "cell_type": "code",
   "execution_count": 24,
   "metadata": {
    "jupyter": {
     "outputs_hidden": false,
     "source_hidden": false
    },
    "nteract": {
     "transient": {
      "deleting": false
     }
    }
   },
   "outputs": [
    {
     "data": {
      "text/plain": [
       "'2022-01-20T16:24:05,852488200+00:00 - gunicorn/run \\nDynamic Python package installation is disabled.\\nStarting HTTP server\\n2022-01-20T16:24:05,863362400+00:00 - iot-server/run \\n2022-01-20T16:24:05,883075300+00:00 - rsyslog/run \\n2022-01-20T16:24:05,908334300+00:00 - nginx/run \\nrsyslogd: /azureml-envs/azureml_248925b58f9a398a4b0c980c8749f7a2/lib/libuuid.so.1: no version information available (required by rsyslogd)\\nEdgeHubConnectionString and IOTEDGE_IOTHUBHOSTNAME are not set. Exiting...\\n2022-01-20T16:24:06,561624600+00:00 - iot-server/finish 1 0\\n2022-01-20T16:24:06,566801100+00:00 - Exit code 1 is normal. Not restarting iot-server.\\nStarting gunicorn 20.1.0\\nListening at: http://127.0.0.1:31311 (71)\\nUsing worker: sync\\nworker timeout is set to 300\\nBooting worker with pid: 99\\nSPARK_HOME not set. Skipping PySpark Initialization.\\nGenerating new fontManager, this may take some time...\\nInitializing logger\\n2022-01-20 16:24:09,323 | root | INFO | Starting up app insights client\\nlogging socket was found. logging is available.\\nlogging socket was found. logging is available.\\n2022-01-20 16:24:09,324 | root | INFO | Starting up request id generator\\n2022-01-20 16:24:09,324 | root | INFO | Starting up app insight hooks\\n2022-01-20 16:24:09,324 | root | INFO | Invoking user\\'s init function\\n2022-01-20 16:24:16,164 | root | INFO | Users\\'s init has completed successfully\\n2022-01-20 16:24:16,180 | root | INFO | Skipping middleware: dbg_model_info as it\\'s not enabled.\\n2022-01-20 16:24:16,180 | root | INFO | Skipping middleware: dbg_resource_usage as it\\'s not enabled.\\nGenerating swagger file: /tmp/tmp08a3juzw\\n2022-01-20 16:24:16,189 | root | INFO | Scoring timeout is found from os.environ: 60000 ms\\n2022-01-20 16:24:16,305 | root | INFO | 200\\n127.0.0.1 - - [20/Jan/2022:16:24:16 +0000] \"GET /swagger.json HTTP/1.0\" 200 3094 \"-\" \"Go-http-client/1.1\"\\n2022-01-20 16:24:19,985 | root | INFO | 200\\n127.0.0.1 - - [20/Jan/2022:16:24:19 +0000] \"GET /swagger.json HTTP/1.0\" 200 3094 \"-\" \"Go-http-client/1.1\"\\n2022-01-20 16:24:22,013 | root | INFO | 200\\n127.0.0.1 - - [20/Jan/2022:16:24:22 +0000] \"GET /swagger.json HTTP/1.0\" 200 3094 \"-\" \"Go-http-client/1.1\"\\n2022-01-20 16:24:22,254 | root | INFO | Validation Request Content-Type\\n2022-01-20 16:24:22,255 | root | INFO | Scoring Timer is set to 60.0 seconds\\n2022-01-20 16:24:22,427 | root | INFO | 200\\n127.0.0.1 - - [20/Jan/2022:16:24:22 +0000] \"POST /score HTTP/1.0\" 200 22 \"-\" \"python-requests/2.26.0\"\\n'"
      ]
     },
     "execution_count": 24,
     "metadata": {},
     "output_type": "execute_result"
    }
   ],
   "source": [
    "#Print the logs of the deployed service\n",
    "aci_service.get_logs()"
   ]
  },
  {
   "cell_type": "code",
   "execution_count": 30,
   "metadata": {},
   "outputs": [],
   "source": [
    "#Delete the deployed service\n",
    "aci_service.delete()"
   ]
  },
  {
   "cell_type": "code",
   "execution_count": null,
   "metadata": {},
   "outputs": [],
   "source": []
  }
 ],
 "metadata": {
  "kernel_info": {
   "name": "python3-azureml"
  },
  "kernelspec": {
   "display_name": "Python 3",
   "language": "python",
   "name": "python3"
  },
  "language_info": {
   "codemirror_mode": {
    "name": "ipython",
    "version": 3
   },
   "file_extension": ".py",
   "mimetype": "text/x-python",
   "name": "python",
   "nbconvert_exporter": "python",
   "pygments_lexer": "ipython3",
   "version": "3.6.9"
  },
  "nteract": {
   "version": "nteract-front-end@1.0.0"
  }
 },
 "nbformat": 4,
 "nbformat_minor": 2
}
