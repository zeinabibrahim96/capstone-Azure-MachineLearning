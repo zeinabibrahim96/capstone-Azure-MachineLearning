{
 "cells": [
  {
   "cell_type": "markdown",
   "metadata": {},
   "source": [
    "# Automated ML\n",
    "\n",
    "TODO: Import Dependencies. In the cell below, import all the dependencies that you will need to complete the project."
   ]
  },
  {
   "cell_type": "code",
   "execution_count": 1,
   "metadata": {
    "gather": {
     "logged": 1598423888013
    },
    "jupyter": {
     "outputs_hidden": false,
     "source_hidden": false
    },
    "nteract": {
     "transient": {
      "deleting": false
     }
    }
   },
   "outputs": [
    {
     "name": "stdout",
     "output_type": "stream",
     "text": [
      "SDK version: 1.36.0\n"
     ]
    }
   ],
   "source": [
    "import json\n",
    "import azureml.core\n",
    "from azureml.core import Workspace, Experiment, Model\n",
    "from azureml.core.compute import ComputeTarget, AmlCompute\n",
    "from azureml.core.compute_target import ComputeTargetException\n",
    "from azureml.widgets import RunDetails\n",
    "from azureml.train.automl import AutoMLConfig\n",
    "from azureml.core.environment import Environment\n",
    "from azureml.core.model import InferenceConfig\n",
    "from azureml.core.webservice import AciWebservice, Webservice\n",
    "\n",
    "print(\"SDK version:\", azureml.core.VERSION)"
   ]
  },
  {
   "cell_type": "markdown",
   "metadata": {},
   "source": [
    "## Dataset\n",
    "\n",
    "### Overview\n",
    "TODO: In this markdown cell, give an overview of the dataset you are using. Also mention the task you will be performing.\n",
    "\n",
    "\n",
    "TODO: Get data. In the cell below, write code to access the data you will be using in this project. Remember that the dataset needs to be external."
   ]
  },
  {
   "cell_type": "code",
   "execution_count": 2,
   "metadata": {
    "gather": {
     "logged": 1598423890461
    },
    "jupyter": {
     "outputs_hidden": false,
     "source_hidden": false
    },
    "nteract": {
     "transient": {
      "deleting": false
     }
    }
   },
   "outputs": [
    {
     "name": "stdout",
     "output_type": "stream",
     "text": [
      "quick-starts-ws-169400\n",
      "aml-quickstarts-169400\n",
      "southcentralus\n",
      "3e42d11f-d64d-4173-af9b-12ecaa1030b3\n"
     ]
    }
   ],
   "source": [
    "ws = Workspace.from_config()\n",
    "\n",
    "print(ws.name, ws.resource_group, ws.location, ws.subscription_id, sep = '\\n')"
   ]
  },
  {
   "cell_type": "code",
   "execution_count": 3,
   "metadata": {},
   "outputs": [],
   "source": [
    "# choose a name for experiment\n",
    "experiment_name = 'automl-heart-experiment'\n",
    "\n",
    "experiment = Experiment(ws, experiment_name)\n",
    "\n",
    "run = experiment.start_logging()"
   ]
  },
  {
   "cell_type": "code",
   "execution_count": 4,
   "metadata": {},
   "outputs": [
    {
     "name": "stdout",
     "output_type": "stream",
     "text": [
      "InProgress..\n",
      "SucceededProvisioning operation finished, operation \"Succeeded\"\n",
      "Succeeded..................................................................................................................\n",
      "AmlCompute wait for completion finished\n",
      "\n",
      "Wait timeout has been reached\n",
      "Current provisioning state of AmlCompute is \"Succeeded\" and current node count is \"0\"\n"
     ]
    }
   ],
   "source": [
    "amlcompute_cluster_name = \"heart-compute\"\n",
    "\n",
    "# Verify that cluster does not exist already\n",
    "try:\n",
    "    compute_target = ComputeTarget(workspace=ws, name=amlcompute_cluster_name)\n",
    "    print('Found existing cluster, use it.')\n",
    "except ComputeTargetException:\n",
    "    compute_config = AmlCompute.provisioning_configuration(vm_size='STANDARD_D2_V2', max_nodes=4)\n",
    "    compute_target = ComputeTarget.create(ws, amlcompute_cluster_name, compute_config)\n",
    "\n",
    "compute_target.wait_for_completion(show_output=True, min_node_count = 1, timeout_in_minutes = 10)"
   ]
  },
  {
   "cell_type": "code",
   "execution_count": 5,
   "metadata": {},
   "outputs": [
    {
     "data": {
      "text/html": [
       "<div>\n",
       "<style scoped>\n",
       "    .dataframe tbody tr th:only-of-type {\n",
       "        vertical-align: middle;\n",
       "    }\n",
       "\n",
       "    .dataframe tbody tr th {\n",
       "        vertical-align: top;\n",
       "    }\n",
       "\n",
       "    .dataframe thead th {\n",
       "        text-align: right;\n",
       "    }\n",
       "</style>\n",
       "<table border=\"1\" class=\"dataframe\">\n",
       "  <thead>\n",
       "    <tr style=\"text-align: right;\">\n",
       "      <th></th>\n",
       "      <th>age</th>\n",
       "      <th>anaemia</th>\n",
       "      <th>creatinine_phosphokinase</th>\n",
       "      <th>diabetes</th>\n",
       "      <th>ejection_fraction</th>\n",
       "      <th>high_blood_pressure</th>\n",
       "      <th>platelets</th>\n",
       "      <th>serum_creatinine</th>\n",
       "      <th>serum_sodium</th>\n",
       "      <th>sex</th>\n",
       "      <th>smoking</th>\n",
       "      <th>time</th>\n",
       "      <th>DEATH_EVENT</th>\n",
       "    </tr>\n",
       "  </thead>\n",
       "  <tbody>\n",
       "    <tr>\n",
       "      <th>count</th>\n",
       "      <td>299.000000</td>\n",
       "      <td>299.000000</td>\n",
       "      <td>299.000000</td>\n",
       "      <td>299.000000</td>\n",
       "      <td>299.000000</td>\n",
       "      <td>299.000000</td>\n",
       "      <td>299.000000</td>\n",
       "      <td>299.00000</td>\n",
       "      <td>299.000000</td>\n",
       "      <td>299.000000</td>\n",
       "      <td>299.00000</td>\n",
       "      <td>299.000000</td>\n",
       "      <td>299.00000</td>\n",
       "    </tr>\n",
       "    <tr>\n",
       "      <th>mean</th>\n",
       "      <td>60.833893</td>\n",
       "      <td>0.431438</td>\n",
       "      <td>581.839465</td>\n",
       "      <td>0.418060</td>\n",
       "      <td>38.083612</td>\n",
       "      <td>0.351171</td>\n",
       "      <td>263358.029264</td>\n",
       "      <td>1.39388</td>\n",
       "      <td>136.625418</td>\n",
       "      <td>0.648829</td>\n",
       "      <td>0.32107</td>\n",
       "      <td>130.260870</td>\n",
       "      <td>0.32107</td>\n",
       "    </tr>\n",
       "    <tr>\n",
       "      <th>std</th>\n",
       "      <td>11.894809</td>\n",
       "      <td>0.496107</td>\n",
       "      <td>970.287881</td>\n",
       "      <td>0.494067</td>\n",
       "      <td>11.834841</td>\n",
       "      <td>0.478136</td>\n",
       "      <td>97804.236869</td>\n",
       "      <td>1.03451</td>\n",
       "      <td>4.412477</td>\n",
       "      <td>0.478136</td>\n",
       "      <td>0.46767</td>\n",
       "      <td>77.614208</td>\n",
       "      <td>0.46767</td>\n",
       "    </tr>\n",
       "    <tr>\n",
       "      <th>min</th>\n",
       "      <td>40.000000</td>\n",
       "      <td>0.000000</td>\n",
       "      <td>23.000000</td>\n",
       "      <td>0.000000</td>\n",
       "      <td>14.000000</td>\n",
       "      <td>0.000000</td>\n",
       "      <td>25100.000000</td>\n",
       "      <td>0.50000</td>\n",
       "      <td>113.000000</td>\n",
       "      <td>0.000000</td>\n",
       "      <td>0.00000</td>\n",
       "      <td>4.000000</td>\n",
       "      <td>0.00000</td>\n",
       "    </tr>\n",
       "    <tr>\n",
       "      <th>25%</th>\n",
       "      <td>51.000000</td>\n",
       "      <td>0.000000</td>\n",
       "      <td>116.500000</td>\n",
       "      <td>0.000000</td>\n",
       "      <td>30.000000</td>\n",
       "      <td>0.000000</td>\n",
       "      <td>212500.000000</td>\n",
       "      <td>0.90000</td>\n",
       "      <td>134.000000</td>\n",
       "      <td>0.000000</td>\n",
       "      <td>0.00000</td>\n",
       "      <td>73.000000</td>\n",
       "      <td>0.00000</td>\n",
       "    </tr>\n",
       "    <tr>\n",
       "      <th>50%</th>\n",
       "      <td>60.000000</td>\n",
       "      <td>0.000000</td>\n",
       "      <td>250.000000</td>\n",
       "      <td>0.000000</td>\n",
       "      <td>38.000000</td>\n",
       "      <td>0.000000</td>\n",
       "      <td>262000.000000</td>\n",
       "      <td>1.10000</td>\n",
       "      <td>137.000000</td>\n",
       "      <td>1.000000</td>\n",
       "      <td>0.00000</td>\n",
       "      <td>115.000000</td>\n",
       "      <td>0.00000</td>\n",
       "    </tr>\n",
       "    <tr>\n",
       "      <th>75%</th>\n",
       "      <td>70.000000</td>\n",
       "      <td>1.000000</td>\n",
       "      <td>582.000000</td>\n",
       "      <td>1.000000</td>\n",
       "      <td>45.000000</td>\n",
       "      <td>1.000000</td>\n",
       "      <td>303500.000000</td>\n",
       "      <td>1.40000</td>\n",
       "      <td>140.000000</td>\n",
       "      <td>1.000000</td>\n",
       "      <td>1.00000</td>\n",
       "      <td>203.000000</td>\n",
       "      <td>1.00000</td>\n",
       "    </tr>\n",
       "    <tr>\n",
       "      <th>max</th>\n",
       "      <td>95.000000</td>\n",
       "      <td>1.000000</td>\n",
       "      <td>7861.000000</td>\n",
       "      <td>1.000000</td>\n",
       "      <td>80.000000</td>\n",
       "      <td>1.000000</td>\n",
       "      <td>850000.000000</td>\n",
       "      <td>9.40000</td>\n",
       "      <td>148.000000</td>\n",
       "      <td>1.000000</td>\n",
       "      <td>1.00000</td>\n",
       "      <td>285.000000</td>\n",
       "      <td>1.00000</td>\n",
       "    </tr>\n",
       "  </tbody>\n",
       "</table>\n",
       "</div>"
      ],
      "text/plain": [
       "              age     anaemia  creatinine_phosphokinase    diabetes  \\\n",
       "count  299.000000  299.000000                299.000000  299.000000   \n",
       "mean    60.833893    0.431438                581.839465    0.418060   \n",
       "std     11.894809    0.496107                970.287881    0.494067   \n",
       "min     40.000000    0.000000                 23.000000    0.000000   \n",
       "25%     51.000000    0.000000                116.500000    0.000000   \n",
       "50%     60.000000    0.000000                250.000000    0.000000   \n",
       "75%     70.000000    1.000000                582.000000    1.000000   \n",
       "max     95.000000    1.000000               7861.000000    1.000000   \n",
       "\n",
       "       ejection_fraction  high_blood_pressure      platelets  \\\n",
       "count         299.000000           299.000000     299.000000   \n",
       "mean           38.083612             0.351171  263358.029264   \n",
       "std            11.834841             0.478136   97804.236869   \n",
       "min            14.000000             0.000000   25100.000000   \n",
       "25%            30.000000             0.000000  212500.000000   \n",
       "50%            38.000000             0.000000  262000.000000   \n",
       "75%            45.000000             1.000000  303500.000000   \n",
       "max            80.000000             1.000000  850000.000000   \n",
       "\n",
       "       serum_creatinine  serum_sodium         sex    smoking        time  \\\n",
       "count         299.00000    299.000000  299.000000  299.00000  299.000000   \n",
       "mean            1.39388    136.625418    0.648829    0.32107  130.260870   \n",
       "std             1.03451      4.412477    0.478136    0.46767   77.614208   \n",
       "min             0.50000    113.000000    0.000000    0.00000    4.000000   \n",
       "25%             0.90000    134.000000    0.000000    0.00000   73.000000   \n",
       "50%             1.10000    137.000000    1.000000    0.00000  115.000000   \n",
       "75%             1.40000    140.000000    1.000000    1.00000  203.000000   \n",
       "max             9.40000    148.000000    1.000000    1.00000  285.000000   \n",
       "\n",
       "       DEATH_EVENT  \n",
       "count    299.00000  \n",
       "mean       0.32107  \n",
       "std        0.46767  \n",
       "min        0.00000  \n",
       "25%        0.00000  \n",
       "50%        0.00000  \n",
       "75%        1.00000  \n",
       "max        1.00000  "
      ]
     },
     "execution_count": 5,
     "metadata": {},
     "output_type": "execute_result"
    }
   ],
   "source": [
    "key = \"heart-failure\"\n",
    "\n",
    "dataset = ws.datasets[key]\n",
    "\n",
    "df = dataset.to_pandas_dataframe()\n",
    "df.describe()"
   ]
  },
  {
   "cell_type": "code",
   "execution_count": 6,
   "metadata": {},
   "outputs": [
    {
     "data": {
      "text/html": [
       "<div>\n",
       "<style scoped>\n",
       "    .dataframe tbody tr th:only-of-type {\n",
       "        vertical-align: middle;\n",
       "    }\n",
       "\n",
       "    .dataframe tbody tr th {\n",
       "        vertical-align: top;\n",
       "    }\n",
       "\n",
       "    .dataframe thead th {\n",
       "        text-align: right;\n",
       "    }\n",
       "</style>\n",
       "<table border=\"1\" class=\"dataframe\">\n",
       "  <thead>\n",
       "    <tr style=\"text-align: right;\">\n",
       "      <th></th>\n",
       "      <th>age</th>\n",
       "      <th>anaemia</th>\n",
       "      <th>creatinine_phosphokinase</th>\n",
       "      <th>diabetes</th>\n",
       "      <th>ejection_fraction</th>\n",
       "      <th>high_blood_pressure</th>\n",
       "      <th>platelets</th>\n",
       "      <th>serum_creatinine</th>\n",
       "      <th>serum_sodium</th>\n",
       "      <th>sex</th>\n",
       "      <th>smoking</th>\n",
       "      <th>time</th>\n",
       "      <th>DEATH_EVENT</th>\n",
       "    </tr>\n",
       "  </thead>\n",
       "  <tbody>\n",
       "    <tr>\n",
       "      <th>0</th>\n",
       "      <td>75.0</td>\n",
       "      <td>0</td>\n",
       "      <td>582</td>\n",
       "      <td>0</td>\n",
       "      <td>20</td>\n",
       "      <td>1</td>\n",
       "      <td>265000.00</td>\n",
       "      <td>1.9</td>\n",
       "      <td>130</td>\n",
       "      <td>1</td>\n",
       "      <td>0</td>\n",
       "      <td>4</td>\n",
       "      <td>1</td>\n",
       "    </tr>\n",
       "    <tr>\n",
       "      <th>1</th>\n",
       "      <td>55.0</td>\n",
       "      <td>0</td>\n",
       "      <td>7861</td>\n",
       "      <td>0</td>\n",
       "      <td>38</td>\n",
       "      <td>0</td>\n",
       "      <td>263358.03</td>\n",
       "      <td>1.1</td>\n",
       "      <td>136</td>\n",
       "      <td>1</td>\n",
       "      <td>0</td>\n",
       "      <td>6</td>\n",
       "      <td>1</td>\n",
       "    </tr>\n",
       "    <tr>\n",
       "      <th>2</th>\n",
       "      <td>65.0</td>\n",
       "      <td>0</td>\n",
       "      <td>146</td>\n",
       "      <td>0</td>\n",
       "      <td>20</td>\n",
       "      <td>0</td>\n",
       "      <td>162000.00</td>\n",
       "      <td>1.3</td>\n",
       "      <td>129</td>\n",
       "      <td>1</td>\n",
       "      <td>1</td>\n",
       "      <td>7</td>\n",
       "      <td>1</td>\n",
       "    </tr>\n",
       "    <tr>\n",
       "      <th>3</th>\n",
       "      <td>50.0</td>\n",
       "      <td>1</td>\n",
       "      <td>111</td>\n",
       "      <td>0</td>\n",
       "      <td>20</td>\n",
       "      <td>0</td>\n",
       "      <td>210000.00</td>\n",
       "      <td>1.9</td>\n",
       "      <td>137</td>\n",
       "      <td>1</td>\n",
       "      <td>0</td>\n",
       "      <td>7</td>\n",
       "      <td>1</td>\n",
       "    </tr>\n",
       "    <tr>\n",
       "      <th>4</th>\n",
       "      <td>65.0</td>\n",
       "      <td>1</td>\n",
       "      <td>160</td>\n",
       "      <td>1</td>\n",
       "      <td>20</td>\n",
       "      <td>0</td>\n",
       "      <td>327000.00</td>\n",
       "      <td>2.7</td>\n",
       "      <td>116</td>\n",
       "      <td>0</td>\n",
       "      <td>0</td>\n",
       "      <td>8</td>\n",
       "      <td>1</td>\n",
       "    </tr>\n",
       "  </tbody>\n",
       "</table>\n",
       "</div>"
      ],
      "text/plain": [
       "    age  anaemia  creatinine_phosphokinase  diabetes  ejection_fraction  \\\n",
       "0  75.0        0                       582         0                 20   \n",
       "1  55.0        0                      7861         0                 38   \n",
       "2  65.0        0                       146         0                 20   \n",
       "3  50.0        1                       111         0                 20   \n",
       "4  65.0        1                       160         1                 20   \n",
       "\n",
       "   high_blood_pressure  platelets  serum_creatinine  serum_sodium  sex  \\\n",
       "0                    1  265000.00               1.9           130    1   \n",
       "1                    0  263358.03               1.1           136    1   \n",
       "2                    0  162000.00               1.3           129    1   \n",
       "3                    0  210000.00               1.9           137    1   \n",
       "4                    0  327000.00               2.7           116    0   \n",
       "\n",
       "   smoking  time  DEATH_EVENT  \n",
       "0        0     4            1  \n",
       "1        0     6            1  \n",
       "2        1     7            1  \n",
       "3        0     7            1  \n",
       "4        0     8            1  "
      ]
     },
     "execution_count": 6,
     "metadata": {},
     "output_type": "execute_result"
    }
   ],
   "source": [
    "dataset.take(5).to_pandas_dataframe()"
   ]
  },
  {
   "cell_type": "markdown",
   "metadata": {},
   "source": [
    "## AutoML Configuration\n",
    "\n",
    "TODO: Explain why you chose the automl settings and cofiguration you used below."
   ]
  },
  {
   "cell_type": "code",
   "execution_count": 7,
   "metadata": {
    "gather": {
     "logged": 1598429217746
    },
    "jupyter": {
     "outputs_hidden": false,
     "source_hidden": false
    },
    "nteract": {
     "transient": {
      "deleting": false
     }
    }
   },
   "outputs": [],
   "source": [
    "\n",
    "\n",
    "automl_settings = {\n",
    "    \"experiment_timeout_minutes\": 15,\n",
    "    \"iterations\": 40,\n",
    "    \"max_concurrent_iterations\": 4,\n",
    "    \"n_cross_validations\": 3,\n",
    "    \"primary_metric\" : 'accuracy'\n",
    "}\n",
    "automl_config = AutoMLConfig(compute_target=compute_target,\n",
    "                             task = \"classification\",\n",
    "                             training_data=dataset,\n",
    "                             label_column_name=\"DEATH_EVENT\",\n",
    "                             enable_early_stopping= True,\n",
    "                             debug_log = \"automl_errors.log\",\n",
    "                             **automl_settings\n",
    "                            )\n"
   ]
  },
  {
   "cell_type": "code",
   "execution_count": 8,
   "metadata": {
    "gather": {
     "logged": 1598431107951
    },
    "jupyter": {
     "outputs_hidden": false,
     "source_hidden": false
    },
    "nteract": {
     "transient": {
      "deleting": false
     }
    }
   },
   "outputs": [
    {
     "name": "stdout",
     "output_type": "stream",
     "text": [
      "Submitting remote run.\n",
      "No run_configuration provided, running on heart-compute with default configuration\n",
      "Running on remote compute: heart-compute\n"
     ]
    },
    {
     "data": {
      "text/html": [
       "<table style=\"width:100%\"><tr><th>Experiment</th><th>Id</th><th>Type</th><th>Status</th><th>Details Page</th><th>Docs Page</th></tr><tr><td>automl-heart-experiment</td><td>AutoML_3bfa6805-f343-4c31-8548-f97257b3c500</td><td>automl</td><td>NotStarted</td><td><a href=\"https://ml.azure.com/runs/AutoML_3bfa6805-f343-4c31-8548-f97257b3c500?wsid=/subscriptions/3e42d11f-d64d-4173-af9b-12ecaa1030b3/resourcegroups/aml-quickstarts-169400/workspaces/quick-starts-ws-169400&amp;tid=660b3398-b80e-49d2-bc5b-ac1dc93b5254\" target=\"_blank\" rel=\"noopener\">Link to Azure Machine Learning studio</a></td><td><a href=\"https://docs.microsoft.com/en-us/python/api/overview/azure/ml/intro?view=azure-ml-py\" target=\"_blank\" rel=\"noopener\">Link to Documentation</a></td></tr></table>"
      ],
      "text/plain": [
       "<IPython.core.display.HTML object>"
      ]
     },
     "metadata": {},
     "output_type": "display_data"
    },
    {
     "name": "stdout",
     "output_type": "stream",
     "text": [
      "\n",
      "Current status: FeaturesGeneration. Generating features for the dataset.\n",
      "Current status: ModelSelection. Beginning model selection.\n",
      "\n",
      "****************************************************************************************************\n",
      "DATA GUARDRAILS: \n",
      "\n",
      "TYPE:         Class balancing detection\n",
      "STATUS:       PASSED\n",
      "DESCRIPTION:  Your inputs were analyzed, and all classes are balanced in your training data.\n",
      "              Learn more about imbalanced data: https://aka.ms/AutomatedMLImbalancedData\n",
      "\n",
      "****************************************************************************************************\n",
      "\n",
      "TYPE:         Missing feature values imputation\n",
      "STATUS:       PASSED\n",
      "DESCRIPTION:  No feature missing values were detected in the training data.\n",
      "              Learn more about missing value imputation: https://aka.ms/AutomatedMLFeaturization\n",
      "\n",
      "****************************************************************************************************\n",
      "\n",
      "TYPE:         High cardinality feature detection\n",
      "STATUS:       PASSED\n",
      "DESCRIPTION:  Your inputs were analyzed, and no high cardinality features were detected.\n",
      "              Learn more about high cardinality feature handling: https://aka.ms/AutomatedMLFeaturization\n",
      "\n",
      "****************************************************************************************************\n",
      "\n",
      "****************************************************************************************************\n",
      "ITERATION: The iteration being evaluated.\n",
      "PIPELINE: A summary description of the pipeline being evaluated.\n",
      "DURATION: Time taken for the current iteration.\n",
      "METRIC: The result of computing score on the fitted pipeline.\n",
      "BEST: The best observed score thus far.\n",
      "****************************************************************************************************\n",
      "\n",
      " ITERATION   PIPELINE                                       DURATION      METRIC      BEST\n",
      "         0   MaxAbsScaler LightGBM                          0:00:40       0.8025    0.8025\n",
      "         3   SparseNormalizer XGBoostClassifier             0:00:41       0.8128    0.8128\n",
      "         1   MaxAbsScaler XGBoostClassifier                 0:00:41       0.8193    0.8193\n",
      "         2   MaxAbsScaler ExtremeRandomTrees                0:00:40       0.8326    0.8326\n",
      "         7   MaxAbsScaler LightGBM                          0:00:44       0.7925    0.8326\n",
      "         6   RobustScaler LogisticRegression                0:01:47       0.7758    0.8326\n",
      "         8   StandardScalerWrapper KNN                      0:00:39       0.6053    0.8326\n",
      "         4   StandardScalerWrapper KNN                      0:01:59       0.6087    0.8326\n",
      "         5   MaxAbsScaler LightGBM                          0:02:00       0.8428    0.8428\n",
      "        10   StandardScalerWrapper XGBoostClassifier        0:00:37       0.8159    0.8428\n",
      "         9   StandardScalerWrapper SVM                      0:00:38       0.7190    0.8428\n",
      "        11   MinMaxScaler RandomForest                      0:00:42       0.8426    0.8428\n",
      "        12   StandardScalerWrapper LogisticRegression       0:00:42       0.7190    0.8428\n",
      "        13   StandardScalerWrapper KNN                      0:00:35       0.7125    0.8428\n",
      "        14   RobustScaler KNN                               0:00:40       0.7056    0.8428\n",
      "        15   MinMaxScaler KNN                               0:00:43       0.7057    0.8428\n",
      "        16   SparseNormalizer KNN                           0:00:39       0.7425    0.8428\n",
      "        17   MaxAbsScaler LogisticRegression                0:00:45       0.8193    0.8428\n",
      "        18   StandardScalerWrapper XGBoostClassifier        0:00:39       0.8126    0.8428\n",
      "        19   StandardScalerWrapper XGBoostClassifier        0:00:46       0.8127    0.8428\n",
      "        20   MaxAbsScaler LogisticRegression                0:00:40       0.8025    0.8428\n",
      "        21   StandardScalerWrapper XGBoostClassifier        0:00:44       0.8360    0.8428\n",
      "        22   SparseNormalizer RandomForest                  0:00:43       0.8094    0.8428\n",
      "        23   StandardScalerWrapper RandomForest             0:00:40       0.7860    0.8428\n",
      "        24   StandardScalerWrapper XGBoostClassifier        0:00:41       0.8393    0.8428\n",
      "        25   MinMaxScaler LightGBM                          0:00:39       0.8260    0.8428\n",
      "        26   SparseNormalizer XGBoostClassifier             0:00:39       0.8294    0.8428\n",
      "        27   RobustScaler RandomForest                      0:00:45       0.8292    0.8428\n",
      "        28   RobustScaler LightGBM                          0:00:53       0.8227    0.8428\n",
      "        29   StandardScalerWrapper XGBoostClassifier        0:00:42       0.8293    0.8428\n",
      "        30   RobustScaler LightGBM                          0:00:38       0.8194    0.8428\n",
      "        31   StandardScalerWrapper XGBoostClassifier        0:00:41       0.8427    0.8428\n",
      "        32   RobustScaler LightGBM                          0:00:39       0.8193    0.8428\n",
      "        33   SparseNormalizer XGBoostClassifier             0:00:28       0.8294    0.8428\n",
      "        34   SparseNormalizer XGBoostClassifier             0:00:25       0.8027    0.8428\n",
      "        35                                                  0:00:06          nan    0.8428\n",
      "        36    VotingEnsemble                                0:00:56       0.8662    0.8662\n",
      "        37    StackEnsemble                                 0:01:01       0.8327    0.8662\n"
     ]
    }
   ],
   "source": [
    "# TODO: Submit your experiment\n",
    "remote_run = experiment.submit(automl_config, show_output=True)"
   ]
  },
  {
   "cell_type": "markdown",
   "metadata": {},
   "source": [
    "## Run Details\n",
    "\n",
    "OPTIONAL: Write about the different models trained and their performance. Why do you think some models did better than others?\n",
    "\n",
    "TODO: In the cell below, use the `RunDetails` widget to show the different experiments."
   ]
  },
  {
   "cell_type": "code",
   "execution_count": 9,
   "metadata": {
    "gather": {
     "logged": 1598431121770
    },
    "jupyter": {
     "outputs_hidden": false,
     "source_hidden": false
    },
    "nteract": {
     "transient": {
      "deleting": false
     }
    }
   },
   "outputs": [
    {
     "data": {
      "application/vnd.jupyter.widget-view+json": {
       "model_id": "0a71e427615a4f9ebdac2c6cf9fbeda4",
       "version_major": 2,
       "version_minor": 0
      },
      "text/plain": [
       "_AutoMLWidget(widget_settings={'childWidgetDisplay': 'popup', 'send_telemetry': False, 'log_level': 'INFO', 's…"
      ]
     },
     "metadata": {},
     "output_type": "display_data"
    },
    {
     "data": {
      "application/aml.mini.widget.v1": "{\"status\": \"Completed\", \"workbench_run_details_uri\": \"https://ml.azure.com/runs/AutoML_3bfa6805-f343-4c31-8548-f97257b3c500?wsid=/subscriptions/3e42d11f-d64d-4173-af9b-12ecaa1030b3/resourcegroups/aml-quickstarts-169400/workspaces/quick-starts-ws-169400&tid=660b3398-b80e-49d2-bc5b-ac1dc93b5254\", \"run_id\": \"AutoML_3bfa6805-f343-4c31-8548-f97257b3c500\", \"run_properties\": {\"run_id\": \"AutoML_3bfa6805-f343-4c31-8548-f97257b3c500\", \"created_utc\": \"2021-12-27T14:51:16.287824Z\", \"properties\": {\"num_iterations\": \"40\", \"training_type\": \"TrainFull\", \"acquisition_function\": \"EI\", \"primary_metric\": \"accuracy\", \"train_split\": \"0\", \"acquisition_parameter\": \"0\", \"num_cross_validation\": \"3\", \"target\": \"heart-compute\", \"AMLSettingsJsonString\": \"{\\\"path\\\":null,\\\"name\\\":\\\"automl-heart-experiment\\\",\\\"subscription_id\\\":\\\"3e42d11f-d64d-4173-af9b-12ecaa1030b3\\\",\\\"resource_group\\\":\\\"aml-quickstarts-169400\\\",\\\"workspace_name\\\":\\\"quick-starts-ws-169400\\\",\\\"region\\\":\\\"southcentralus\\\",\\\"compute_target\\\":\\\"heart-compute\\\",\\\"spark_service\\\":null,\\\"azure_service\\\":\\\"remote\\\",\\\"many_models\\\":false,\\\"pipeline_fetch_max_batch_size\\\":1,\\\"enable_batch_run\\\":false,\\\"enable_run_restructure\\\":false,\\\"start_auxiliary_runs_before_parent_complete\\\":false,\\\"enable_code_generation\\\":false,\\\"iterations\\\":40,\\\"primary_metric\\\":\\\"accuracy\\\",\\\"task_type\\\":\\\"classification\\\",\\\"positive_label\\\":null,\\\"data_script\\\":null,\\\"test_size\\\":0.0,\\\"test_include_predictions_only\\\":false,\\\"validation_size\\\":0.0,\\\"n_cross_validations\\\":3,\\\"y_min\\\":null,\\\"y_max\\\":null,\\\"num_classes\\\":null,\\\"featurization\\\":\\\"auto\\\",\\\"_ignore_package_version_incompatibilities\\\":false,\\\"is_timeseries\\\":false,\\\"max_cores_per_iteration\\\":1,\\\"max_concurrent_iterations\\\":4,\\\"iteration_timeout_minutes\\\":null,\\\"mem_in_mb\\\":null,\\\"enforce_time_on_windows\\\":false,\\\"experiment_timeout_minutes\\\":15,\\\"experiment_exit_score\\\":null,\\\"whitelist_models\\\":null,\\\"blacklist_algos\\\":[\\\"TensorFlowLinearClassifier\\\",\\\"TensorFlowDNN\\\"],\\\"supported_models\\\":[\\\"TensorFlowLinearClassifier\\\",\\\"BernoulliNaiveBayes\\\",\\\"DecisionTree\\\",\\\"RandomForest\\\",\\\"XGBoostClassifier\\\",\\\"SGD\\\",\\\"TensorFlowDNN\\\",\\\"GradientBoosting\\\",\\\"LogisticRegression\\\",\\\"ExtremeRandomTrees\\\",\\\"LinearSVM\\\",\\\"LightGBM\\\",\\\"KNN\\\",\\\"SVM\\\",\\\"MultinomialNaiveBayes\\\",\\\"AveragedPerceptronClassifier\\\"],\\\"private_models\\\":[\\\"TabnetClassifier\\\"],\\\"auto_blacklist\\\":true,\\\"blacklist_samples_reached\\\":false,\\\"exclude_nan_labels\\\":true,\\\"verbosity\\\":20,\\\"_debug_log\\\":\\\"azureml_automl.log\\\",\\\"show_warnings\\\":false,\\\"model_explainability\\\":true,\\\"service_url\\\":null,\\\"sdk_url\\\":null,\\\"sdk_packages\\\":null,\\\"enable_onnx_compatible_models\\\":false,\\\"enable_split_onnx_featurizer_estimator_models\\\":false,\\\"vm_type\\\":\\\"STANDARD_D2_V2\\\",\\\"telemetry_verbosity\\\":20,\\\"send_telemetry\\\":true,\\\"enable_dnn\\\":false,\\\"scenario\\\":\\\"SDK-1.13.0\\\",\\\"environment_label\\\":null,\\\"save_mlflow\\\":false,\\\"enable_categorical_indicators\\\":false,\\\"force_text_dnn\\\":false,\\\"enable_feature_sweeping\\\":true,\\\"enable_early_stopping\\\":true,\\\"early_stopping_n_iters\\\":10,\\\"arguments\\\":null,\\\"dataset_id\\\":null,\\\"hyperdrive_config\\\":null,\\\"validation_dataset_id\\\":null,\\\"run_source\\\":null,\\\"metrics\\\":null,\\\"enable_metric_confidence\\\":false,\\\"enable_ensembling\\\":true,\\\"enable_stack_ensembling\\\":true,\\\"ensemble_iterations\\\":15,\\\"enable_tf\\\":false,\\\"enable_subsampling\\\":false,\\\"subsample_seed\\\":null,\\\"enable_nimbusml\\\":false,\\\"enable_streaming\\\":false,\\\"force_streaming\\\":false,\\\"track_child_runs\\\":true,\\\"allowed_private_models\\\":[],\\\"label_column_name\\\":\\\"DEATH_EVENT\\\",\\\"weight_column_name\\\":null,\\\"cv_split_column_names\\\":null,\\\"enable_local_managed\\\":false,\\\"_local_managed_run_id\\\":null,\\\"cost_mode\\\":1,\\\"lag_length\\\":0,\\\"metric_operation\\\":\\\"maximize\\\",\\\"preprocess\\\":true}\", \"DataPrepJsonString\": \"{\\\\\\\"training_data\\\\\\\": {\\\\\\\"datasetId\\\\\\\": \\\\\\\"96833596-8a7c-499d-8a15-2f12a19a776d\\\\\\\"}, \\\\\\\"datasets\\\\\\\": 0}\", \"EnableSubsampling\": \"False\", \"runTemplate\": \"AutoML\", \"azureml.runsource\": \"automl\", \"display_task_type\": \"classification\", \"dependencies_versions\": \"{\\\"azureml-widgets\\\": \\\"1.36.0\\\", \\\"azureml-train\\\": \\\"1.36.0\\\", \\\"azureml-train-restclients-hyperdrive\\\": \\\"1.36.0\\\", \\\"azureml-train-core\\\": \\\"1.36.0\\\", \\\"azureml-train-automl\\\": \\\"1.36.0\\\", \\\"azureml-train-automl-runtime\\\": \\\"1.36.0\\\", \\\"azureml-train-automl-client\\\": \\\"1.36.0\\\", \\\"azureml-tensorboard\\\": \\\"1.36.0\\\", \\\"azureml-telemetry\\\": \\\"1.36.0\\\", \\\"azureml-sdk\\\": \\\"1.36.0\\\", \\\"azureml-samples\\\": \\\"0+unknown\\\", \\\"azureml-responsibleai\\\": \\\"1.36.0\\\", \\\"azureml-pipeline\\\": \\\"1.36.0\\\", \\\"azureml-pipeline-steps\\\": \\\"1.36.0\\\", \\\"azureml-pipeline-core\\\": \\\"1.36.0\\\", \\\"azureml-opendatasets\\\": \\\"1.36.0\\\", \\\"azureml-mlflow\\\": \\\"1.36.0\\\", \\\"azureml-interpret\\\": \\\"1.36.0\\\", \\\"azureml-inference-server-http\\\": \\\"0.4.1\\\", \\\"azureml-explain-model\\\": \\\"1.36.0\\\", \\\"azureml-defaults\\\": \\\"1.36.0\\\", \\\"azureml-dataset-runtime\\\": \\\"1.36.0\\\", \\\"azureml-dataprep\\\": \\\"2.24.4\\\", \\\"azureml-dataprep-rslex\\\": \\\"2.0.3\\\", \\\"azureml-dataprep-native\\\": \\\"38.0.0\\\", \\\"azureml-datadrift\\\": \\\"1.36.0\\\", \\\"azureml-core\\\": \\\"1.36.0.post2\\\", \\\"azureml-contrib-services\\\": \\\"1.36.0\\\", \\\"azureml-contrib-server\\\": \\\"1.36.0\\\", \\\"azureml-contrib-reinforcementlearning\\\": \\\"1.36.0\\\", \\\"azureml-contrib-pipeline-steps\\\": \\\"1.36.0\\\", \\\"azureml-contrib-notebook\\\": \\\"1.36.0\\\", \\\"azureml-contrib-fairness\\\": \\\"1.36.0\\\", \\\"azureml-contrib-dataset\\\": \\\"1.36.0\\\", \\\"azureml-contrib-automl-pipeline-steps\\\": \\\"1.36.0\\\", \\\"azureml-cli-common\\\": \\\"1.36.0\\\", \\\"azureml-automl-runtime\\\": \\\"1.36.0\\\", \\\"azureml-automl-dnn-nlp\\\": \\\"1.36.0\\\", \\\"azureml-automl-core\\\": \\\"1.36.0\\\", \\\"azureml-accel-models\\\": \\\"1.36.0\\\"}\", \"_aml_system_scenario_identification\": \"Remote.Parent\", \"ClientType\": \"SDK\", \"environment_cpu_name\": \"AzureML-AutoML\", \"environment_cpu_label\": \"prod\", \"environment_gpu_name\": \"AzureML-AutoML-GPU\", \"environment_gpu_label\": \"prod\", \"root_attribution\": \"automl\", \"attribution\": \"AutoML\", \"Orchestrator\": \"AutoML\", \"CancelUri\": \"https://southcentralus.api.azureml.ms/jasmine/v1.0/subscriptions/3e42d11f-d64d-4173-af9b-12ecaa1030b3/resourceGroups/aml-quickstarts-169400/providers/Microsoft.MachineLearningServices/workspaces/quick-starts-ws-169400/experimentids/80248ba2-9ed2-4419-b5c7-313514ec3d2f/cancel/AutoML_3bfa6805-f343-4c31-8548-f97257b3c500\", \"ClientSdkVersion\": \"1.36.1\", \"snapshotId\": \"00000000-0000-0000-0000-000000000000\", \"SetupRunId\": \"AutoML_3bfa6805-f343-4c31-8548-f97257b3c500_setup\", \"SetupRunContainerId\": \"dcid.AutoML_3bfa6805-f343-4c31-8548-f97257b3c500_setup\", \"FeaturizationRunJsonPath\": \"featurizer_container.json\", \"FeaturizationRunId\": \"AutoML_3bfa6805-f343-4c31-8548-f97257b3c500_featurize\", \"ProblemInfoJsonString\": \"{\\\"dataset_num_categorical\\\": 0, \\\"is_sparse\\\": false, \\\"subsampling\\\": false, \\\"has_extra_col\\\": true, \\\"dataset_classes\\\": 2, \\\"dataset_features\\\": 12, \\\"dataset_samples\\\": 299, \\\"single_frequency_class_detected\\\": false}\", \"ModelExplainRunId\": \"AutoML_3bfa6805-f343-4c31-8548-f97257b3c500_ModelExplain\"}, \"tags\": {\"model_explain_run\": \"best_run\", \"_aml_system_azureml.automlComponent\": \"AutoML\", \"pipeline_id\": \"\", \"score\": \"\", \"predicted_cost\": \"\", \"fit_time\": \"\", \"training_percent\": \"\", \"iteration\": \"\", \"run_preprocessor\": \"\", \"run_algorithm\": \"\", \"dynamic_whitelisting_iterations\": \"<25>;<30>;<35>;\", \"_aml_system_azureml.automl_early_exit_message\": \"No scores improved over last 20 iterations, so experiment stopped early. This early stopping behavior can be disabled by setting enable_early_stopping = False in AutoMLConfig for notebook/python SDK runs.\", \"automl_best_child_run_id\": \"AutoML_3bfa6805-f343-4c31-8548-f97257b3c500_36\", \"model_explain_best_run_child_id\": \"AutoML_3bfa6805-f343-4c31-8548-f97257b3c500_36\"}, \"end_time_utc\": \"2021-12-27T15:08:36.812883Z\", \"status\": \"Completed\", \"log_files\": {}, \"log_groups\": [], \"run_duration\": \"0:17:20\", \"run_number\": \"2\", \"run_queued_details\": {\"status\": \"Completed\", \"details\": null}}, \"child_runs\": [{\"run_id\": \"AutoML_3bfa6805-f343-4c31-8548-f97257b3c500_setup\", \"run_number\": 3, \"metric\": null, \"status\": \"Completed\", \"run_type\": \"azureml.scriptrun\", \"training_percent\": null, \"start_time\": \"2021-12-27T14:54:15.155144Z\", \"end_time\": \"2021-12-27T14:56:20.705526Z\", \"created_time\": \"2021-12-27T14:51:28.666384Z\", \"created_time_dt\": \"2021-12-27T14:51:28.666384Z\", \"duration\": \"0:04:52\", \"iteration\": null, \"goal\": null, \"run_name\": \"Completed\", \"run_properties\": null}, {\"run_id\": \"AutoML_3bfa6805-f343-4c31-8548-f97257b3c500_featurize\", \"run_number\": 4, \"metric\": null, \"status\": \"Completed\", \"run_type\": \"automl.featurization\", \"training_percent\": null, \"start_time\": \"2021-12-27T14:56:21.732147Z\", \"end_time\": \"2021-12-27T14:57:20.381835Z\", \"created_time\": \"2021-12-27T14:56:21.171081Z\", \"created_time_dt\": \"2021-12-27T14:56:21.171081Z\", \"duration\": \"0:00:59\", \"iteration\": null, \"goal\": null, \"run_name\": \"Completed\", \"run_properties\": null}, {\"run_id\": \"AutoML_3bfa6805-f343-4c31-8548-f97257b3c500_0\", \"run_number\": 6, \"metric\": null, \"status\": \"Completed\", \"run_type\": \"azureml.scriptrun\", \"training_percent\": \"100\", \"start_time\": \"2021-12-27T14:57:27.650963Z\", \"end_time\": \"2021-12-27T14:58:08.045756Z\", \"created_time\": \"2021-12-27T14:57:21.314333Z\", \"created_time_dt\": \"2021-12-27T14:57:21.314333Z\", \"duration\": \"0:00:46\", \"iteration\": \"0\", \"goal\": \"accuracy_max\", \"run_name\": \"MaxAbsScaler, LightGBM\", \"run_properties\": \"copy=True\", \"primary_metric\": 0.80252525, \"best_metric\": 0.80252525}, {\"run_id\": \"AutoML_3bfa6805-f343-4c31-8548-f97257b3c500_2\", \"run_number\": 7, \"metric\": null, \"status\": \"Completed\", \"run_type\": \"azureml.scriptrun\", \"training_percent\": \"100\", \"start_time\": \"2021-12-27T14:59:35.075366Z\", \"end_time\": \"2021-12-27T15:00:15.038854Z\", \"created_time\": \"2021-12-27T14:57:21.334305Z\", \"created_time_dt\": \"2021-12-27T14:57:21.334305Z\", \"duration\": \"0:02:53\", \"iteration\": \"2\", \"goal\": \"accuracy_max\", \"run_name\": \"MaxAbsScaler, ExtremeRandomTrees\", \"run_properties\": \"copy=True\", \"primary_metric\": 0.83262626, \"best_metric\": 0.83262626}, {\"run_id\": \"AutoML_3bfa6805-f343-4c31-8548-f97257b3c500_1\", \"run_number\": 8, \"metric\": null, \"status\": \"Completed\", \"run_type\": \"azureml.scriptrun\", \"training_percent\": \"100\", \"start_time\": \"2021-12-27T14:58:52.608179Z\", \"end_time\": \"2021-12-27T14:59:33.144691Z\", \"created_time\": \"2021-12-27T14:57:21.353374Z\", \"created_time_dt\": \"2021-12-27T14:57:21.353374Z\", \"duration\": \"0:02:11\", \"iteration\": \"1\", \"goal\": \"accuracy_max\", \"run_name\": \"MaxAbsScaler, XGBoostClassifier\", \"run_properties\": \"copy=True\", \"primary_metric\": 0.81929293, \"best_metric\": 0.81929293}, {\"run_id\": \"AutoML_3bfa6805-f343-4c31-8548-f97257b3c500_3\", \"run_number\": 9, \"metric\": null, \"status\": \"Completed\", \"run_type\": \"azureml.scriptrun\", \"training_percent\": \"100\", \"start_time\": \"2021-12-27T14:58:10.540727Z\", \"end_time\": \"2021-12-27T14:58:51.637356Z\", \"created_time\": \"2021-12-27T14:57:21.334274Z\", \"created_time_dt\": \"2021-12-27T14:57:21.334274Z\", \"duration\": \"0:01:30\", \"iteration\": \"3\", \"goal\": \"accuracy_max\", \"run_name\": \"SparseNormalizer, XGBoostClassifier\", \"run_properties\": \"copy=True, norm='l2'\", \"primary_metric\": 0.81276094, \"best_metric\": 0.83262626}, {\"run_id\": \"AutoML_3bfa6805-f343-4c31-8548-f97257b3c500_4\", \"run_number\": 10, \"metric\": null, \"status\": \"Completed\", \"run_type\": \"azureml.scriptrun\", \"training_percent\": \"100\", \"start_time\": \"2021-12-27T15:00:07.14608Z\", \"end_time\": \"2021-12-27T15:02:06.529479Z\", \"created_time\": \"2021-12-27T14:58:09.459746Z\", \"created_time_dt\": \"2021-12-27T14:58:09.459746Z\", \"duration\": \"0:03:57\", \"iteration\": \"4\", \"goal\": \"accuracy_max\", \"run_name\": \"StandardScalerWrapper, KNN\", \"run_properties\": \"\\n    copy=True,\\n    with_mean=False,\\n    with_std=False\\n\", \"primary_metric\": 0.60868687, \"best_metric\": 0.83262626}, {\"run_id\": \"AutoML_3bfa6805-f343-4c31-8548-f97257b3c500_5\", \"run_number\": 11, \"metric\": null, \"status\": \"Completed\", \"run_type\": \"azureml.scriptrun\", \"training_percent\": \"100\", \"start_time\": \"2021-12-27T15:00:05.042703Z\", \"end_time\": \"2021-12-27T15:02:04.830601Z\", \"created_time\": \"2021-12-27T14:58:54.320603Z\", \"created_time_dt\": \"2021-12-27T14:58:54.320603Z\", \"duration\": \"0:03:10\", \"iteration\": \"5\", \"goal\": \"accuracy_max\", \"run_name\": \"MaxAbsScaler, LightGBM\", \"run_properties\": \"copy=True\", \"primary_metric\": 0.84276094, \"best_metric\": 0.84276094}, {\"run_id\": \"AutoML_3bfa6805-f343-4c31-8548-f97257b3c500_6\", \"run_number\": 12, \"metric\": null, \"status\": \"Completed\", \"run_type\": \"azureml.scriptrun\", \"training_percent\": \"100\", \"start_time\": \"2021-12-27T15:00:07.457541Z\", \"end_time\": \"2021-12-27T15:01:54.588465Z\", \"created_time\": \"2021-12-27T14:59:35.767056Z\", \"created_time_dt\": \"2021-12-27T14:59:35.767056Z\", \"duration\": \"0:02:18\", \"iteration\": \"6\", \"goal\": \"accuracy_max\", \"run_name\": \"RobustScaler, LogisticRegression\", \"run_properties\": \"copy=True, quantile_range=[10, 90], with_centering=True,\\n             with_scaling=True\", \"primary_metric\": 0.77582492, \"best_metric\": 0.84276094}, {\"run_id\": \"AutoML_3bfa6805-f343-4c31-8548-f97257b3c500_7\", \"run_number\": 13, \"metric\": null, \"status\": \"Completed\", \"run_type\": \"azureml.scriptrun\", \"training_percent\": \"100\", \"start_time\": \"2021-12-27T15:00:24.473889Z\", \"end_time\": \"2021-12-27T15:01:08.548824Z\", \"created_time\": \"2021-12-27T15:00:17.6194Z\", \"created_time_dt\": \"2021-12-27T15:00:17.6194Z\", \"duration\": \"0:00:50\", \"iteration\": \"7\", \"goal\": \"accuracy_max\", \"run_name\": \"MaxAbsScaler, LightGBM\", \"run_properties\": \"copy=True\", \"primary_metric\": 0.79252525, \"best_metric\": 0.84276094}, {\"run_id\": \"AutoML_3bfa6805-f343-4c31-8548-f97257b3c500_8\", \"run_number\": 14, \"metric\": null, \"status\": \"Completed\", \"run_type\": \"azureml.scriptrun\", \"training_percent\": \"100\", \"start_time\": \"2021-12-27T15:01:14.86672Z\", \"end_time\": \"2021-12-27T15:01:53.856175Z\", \"created_time\": \"2021-12-27T15:01:11.11582Z\", \"created_time_dt\": \"2021-12-27T15:01:11.11582Z\", \"duration\": \"0:00:42\", \"iteration\": \"8\", \"goal\": \"accuracy_max\", \"run_name\": \"StandardScalerWrapper, KNN\", \"run_properties\": \"\\n    copy=True,\\n    with_mean=False,\\n    with_std=False\\n\", \"primary_metric\": 0.60531987, \"best_metric\": 0.84276094}, {\"run_id\": \"AutoML_3bfa6805-f343-4c31-8548-f97257b3c500_9\", \"run_number\": 15, \"metric\": null, \"status\": \"Completed\", \"run_type\": \"azureml.scriptrun\", \"training_percent\": \"100\", \"start_time\": \"2021-12-27T15:02:04.590526Z\", \"end_time\": \"2021-12-27T15:02:42.859477Z\", \"created_time\": \"2021-12-27T15:01:56.81019Z\", \"created_time_dt\": \"2021-12-27T15:01:56.81019Z\", \"duration\": \"0:00:46\", \"iteration\": \"9\", \"goal\": \"accuracy_max\", \"run_name\": \"StandardScalerWrapper, SVM\", \"run_properties\": \"\\n    copy=True,\\n    with_mean=True,\\n    with_std=True\\n\", \"primary_metric\": 0.71895623, \"best_metric\": 0.84276094}, {\"run_id\": \"AutoML_3bfa6805-f343-4c31-8548-f97257b3c500_10\", \"run_number\": 16, \"metric\": null, \"status\": \"Completed\", \"run_type\": \"azureml.scriptrun\", \"training_percent\": \"100\", \"start_time\": \"2021-12-27T15:02:04.316151Z\", \"end_time\": \"2021-12-27T15:02:41.815613Z\", \"created_time\": \"2021-12-27T15:02:00.351945Z\", \"created_time_dt\": \"2021-12-27T15:02:00.351945Z\", \"duration\": \"0:00:41\", \"iteration\": \"10\", \"goal\": \"accuracy_max\", \"run_name\": \"StandardScalerWrapper, XGBoostClassifier\", \"run_properties\": \"\\n    copy=True,\\n    with_mean=False,\\n    with_std=False\\n\", \"primary_metric\": 0.81592593, \"best_metric\": 0.84276094}, {\"run_id\": \"AutoML_3bfa6805-f343-4c31-8548-f97257b3c500_11\", \"run_number\": 17, \"metric\": null, \"status\": \"Completed\", \"run_type\": \"azureml.scriptrun\", \"training_percent\": \"100\", \"start_time\": \"2021-12-27T15:02:14.693561Z\", \"end_time\": \"2021-12-27T15:02:56.527087Z\", \"created_time\": \"2021-12-27T15:02:07.253968Z\", \"created_time_dt\": \"2021-12-27T15:02:07.253968Z\", \"duration\": \"0:00:49\", \"iteration\": \"11\", \"goal\": \"accuracy_max\", \"run_name\": \"MinMaxScaler, RandomForest\", \"run_properties\": \"copy=True, feature_range=(0, 1\", \"primary_metric\": 0.84259259, \"best_metric\": 0.84276094}, {\"run_id\": \"AutoML_3bfa6805-f343-4c31-8548-f97257b3c500_12\", \"run_number\": 18, \"metric\": null, \"status\": \"Completed\", \"run_type\": \"azureml.scriptrun\", \"training_percent\": \"100\", \"start_time\": \"2021-12-27T15:02:15.538618Z\", \"end_time\": \"2021-12-27T15:02:57.903214Z\", \"created_time\": \"2021-12-27T15:02:10.586912Z\", \"created_time_dt\": \"2021-12-27T15:02:10.586912Z\", \"duration\": \"0:00:47\", \"iteration\": \"12\", \"goal\": \"accuracy_max\", \"run_name\": \"StandardScalerWrapper, LogisticRegression\", \"run_properties\": \"\\n    copy=True,\\n    with_mean=True,\\n    with_std=False\\n\", \"primary_metric\": 0.7189899, \"best_metric\": 0.84276094}, {\"run_id\": \"AutoML_3bfa6805-f343-4c31-8548-f97257b3c500_13\", \"run_number\": 19, \"metric\": null, \"status\": \"Completed\", \"run_type\": \"azureml.scriptrun\", \"training_percent\": \"100\", \"start_time\": \"2021-12-27T15:02:50.08419Z\", \"end_time\": \"2021-12-27T15:03:25.136392Z\", \"created_time\": \"2021-12-27T15:02:44.381043Z\", \"created_time_dt\": \"2021-12-27T15:02:44.381043Z\", \"duration\": \"0:00:40\", \"iteration\": \"13\", \"goal\": \"accuracy_max\", \"run_name\": \"StandardScalerWrapper, KNN\", \"run_properties\": \"\\n    copy=True,\\n    with_mean=False,\\n    with_std=True\\n\", \"primary_metric\": 0.71245791, \"best_metric\": 0.84276094}, {\"run_id\": \"AutoML_3bfa6805-f343-4c31-8548-f97257b3c500_14\", \"run_number\": 20, \"metric\": null, \"status\": \"Completed\", \"run_type\": \"azureml.scriptrun\", \"training_percent\": \"100\", \"start_time\": \"2021-12-27T15:02:52.873851Z\", \"end_time\": \"2021-12-27T15:03:32.80384Z\", \"created_time\": \"2021-12-27T15:02:47.730269Z\", \"created_time_dt\": \"2021-12-27T15:02:47.730269Z\", \"duration\": \"0:00:45\", \"iteration\": \"14\", \"goal\": \"accuracy_max\", \"run_name\": \"RobustScaler, KNN\", \"run_properties\": \"copy=True, quantile_range=[10, 90], with_centering=False,\\n             with_scaling=True\", \"primary_metric\": 0.70558923, \"best_metric\": 0.84276094}, {\"run_id\": \"AutoML_3bfa6805-f343-4c31-8548-f97257b3c500_15\", \"run_number\": 21, \"metric\": null, \"status\": \"Completed\", \"run_type\": \"azureml.scriptrun\", \"training_percent\": \"100\", \"start_time\": \"2021-12-27T15:03:05.26678Z\", \"end_time\": \"2021-12-27T15:03:47.974578Z\", \"created_time\": \"2021-12-27T15:03:00.335145Z\", \"created_time_dt\": \"2021-12-27T15:03:00.335145Z\", \"duration\": \"0:00:47\", \"iteration\": \"15\", \"goal\": \"accuracy_max\", \"run_name\": \"MinMaxScaler, KNN\", \"run_properties\": \"copy=True, feature_range=(0, 1\", \"primary_metric\": 0.70572391, \"best_metric\": 0.84276094}, {\"run_id\": \"AutoML_3bfa6805-f343-4c31-8548-f97257b3c500_16\", \"run_number\": 22, \"metric\": null, \"status\": \"Completed\", \"run_type\": \"azureml.scriptrun\", \"training_percent\": \"100\", \"start_time\": \"2021-12-27T15:03:10.26724Z\", \"end_time\": \"2021-12-27T15:03:49.708209Z\", \"created_time\": \"2021-12-27T15:03:03.74356Z\", \"created_time_dt\": \"2021-12-27T15:03:03.74356Z\", \"duration\": \"0:00:45\", \"iteration\": \"16\", \"goal\": \"accuracy_max\", \"run_name\": \"SparseNormalizer, KNN\", \"run_properties\": \"copy=True, norm='max'\", \"primary_metric\": 0.74252525, \"best_metric\": 0.84276094}, {\"run_id\": \"AutoML_3bfa6805-f343-4c31-8548-f97257b3c500_17\", \"run_number\": 23, \"metric\": null, \"status\": \"Completed\", \"run_type\": \"azureml.scriptrun\", \"training_percent\": \"100\", \"start_time\": \"2021-12-27T15:03:31.362841Z\", \"end_time\": \"2021-12-27T15:04:16.302708Z\", \"created_time\": \"2021-12-27T15:03:27.645536Z\", \"created_time_dt\": \"2021-12-27T15:03:27.645536Z\", \"duration\": \"0:00:48\", \"iteration\": \"17\", \"goal\": \"accuracy_max\", \"run_name\": \"MaxAbsScaler, LogisticRegression\", \"run_properties\": \"copy=True\", \"primary_metric\": 0.81925926, \"best_metric\": 0.84276094}, {\"run_id\": \"AutoML_3bfa6805-f343-4c31-8548-f97257b3c500_18\", \"run_number\": 24, \"metric\": null, \"status\": \"Completed\", \"run_type\": \"azureml.scriptrun\", \"training_percent\": \"100\", \"start_time\": \"2021-12-27T15:03:41.560851Z\", \"end_time\": \"2021-12-27T15:04:20.163566Z\", \"created_time\": \"2021-12-27T15:03:35.49971Z\", \"created_time_dt\": \"2021-12-27T15:03:35.49971Z\", \"duration\": \"0:00:44\", \"iteration\": \"18\", \"goal\": \"accuracy_max\", \"run_name\": \"StandardScalerWrapper, XGBoostClassifier\", \"run_properties\": \"\\n    copy=True,\\n    with_mean=False,\\n    with_std=False\\n\", \"primary_metric\": 0.81259259, \"best_metric\": 0.84276094}, {\"run_id\": \"AutoML_3bfa6805-f343-4c31-8548-f97257b3c500_19\", \"run_number\": 25, \"metric\": null, \"status\": \"Completed\", \"run_type\": \"azureml.scriptrun\", \"training_percent\": \"100\", \"start_time\": \"2021-12-27T15:03:59.082487Z\", \"end_time\": \"2021-12-27T15:04:45.314747Z\", \"created_time\": \"2021-12-27T15:03:51.438546Z\", \"created_time_dt\": \"2021-12-27T15:03:51.438546Z\", \"duration\": \"0:00:53\", \"iteration\": \"19\", \"goal\": \"accuracy_max\", \"run_name\": \"StandardScalerWrapper, XGBoostClassifier\", \"run_properties\": \"\\n    copy=True,\\n    with_mean=False,\\n    with_std=False\\n\", \"primary_metric\": 0.81265993, \"best_metric\": 0.84276094}, {\"run_id\": \"AutoML_3bfa6805-f343-4c31-8548-f97257b3c500_20\", \"run_number\": 26, \"metric\": null, \"status\": \"Completed\", \"run_type\": \"azureml.scriptrun\", \"training_percent\": \"100\", \"start_time\": \"2021-12-27T15:03:58.642468Z\", \"end_time\": \"2021-12-27T15:04:38.891031Z\", \"created_time\": \"2021-12-27T15:03:54.997241Z\", \"created_time_dt\": \"2021-12-27T15:03:54.997241Z\", \"duration\": \"0:00:43\", \"iteration\": \"20\", \"goal\": \"accuracy_max\", \"run_name\": \"MaxAbsScaler, LogisticRegression\", \"run_properties\": \"copy=True\", \"primary_metric\": 0.80249158, \"best_metric\": 0.84276094}, {\"run_id\": \"AutoML_3bfa6805-f343-4c31-8548-f97257b3c500_21\", \"run_number\": 27, \"metric\": null, \"status\": \"Completed\", \"run_type\": \"azureml.scriptrun\", \"training_percent\": \"100\", \"start_time\": \"2021-12-27T15:04:24.911041Z\", \"end_time\": \"2021-12-27T15:05:09.18242Z\", \"created_time\": \"2021-12-27T15:04:19.527035Z\", \"created_time_dt\": \"2021-12-27T15:04:19.527035Z\", \"duration\": \"0:00:49\", \"iteration\": \"21\", \"goal\": \"accuracy_max\", \"run_name\": \"StandardScalerWrapper, XGBoostClassifier\", \"run_properties\": \"\\n    copy=True,\\n    with_mean=False,\\n    with_std=False\\n\", \"primary_metric\": 0.83602694, \"best_metric\": 0.84276094}, {\"run_id\": \"AutoML_3bfa6805-f343-4c31-8548-f97257b3c500_22\", \"run_number\": 28, \"metric\": null, \"status\": \"Completed\", \"run_type\": \"azureml.scriptrun\", \"training_percent\": \"100\", \"start_time\": \"2021-12-27T15:04:26.931155Z\", \"end_time\": \"2021-12-27T15:05:09.779176Z\", \"created_time\": \"2021-12-27T15:04:23.075203Z\", \"created_time_dt\": \"2021-12-27T15:04:23.075203Z\", \"duration\": \"0:00:46\", \"iteration\": \"22\", \"goal\": \"accuracy_max\", \"run_name\": \"SparseNormalizer, RandomForest\", \"run_properties\": \"copy=True, norm='l2'\", \"primary_metric\": 0.80939394, \"best_metric\": 0.84276094}, {\"run_id\": \"AutoML_3bfa6805-f343-4c31-8548-f97257b3c500_23\", \"run_number\": 29, \"metric\": null, \"status\": \"Completed\", \"run_type\": \"azureml.scriptrun\", \"training_percent\": \"100\", \"start_time\": \"2021-12-27T15:04:47.126682Z\", \"end_time\": \"2021-12-27T15:05:27.576148Z\", \"created_time\": \"2021-12-27T15:04:41.496127Z\", \"created_time_dt\": \"2021-12-27T15:04:41.496127Z\", \"duration\": \"0:00:46\", \"iteration\": \"23\", \"goal\": \"accuracy_max\", \"run_name\": \"StandardScalerWrapper, RandomForest\", \"run_properties\": \"\\n    copy=True,\\n    with_mean=False,\\n    with_std=False\\n\", \"primary_metric\": 0.7859596, \"best_metric\": 0.84276094}, {\"run_id\": \"AutoML_3bfa6805-f343-4c31-8548-f97257b3c500_24\", \"run_number\": 30, \"metric\": null, \"status\": \"Completed\", \"run_type\": \"azureml.scriptrun\", \"training_percent\": \"100\", \"start_time\": \"2021-12-27T15:04:53.339364Z\", \"end_time\": \"2021-12-27T15:05:34.171135Z\", \"created_time\": \"2021-12-27T15:04:48.053114Z\", \"created_time_dt\": \"2021-12-27T15:04:48.053114Z\", \"duration\": \"0:00:46\", \"iteration\": \"24\", \"goal\": \"accuracy_max\", \"run_name\": \"StandardScalerWrapper, XGBoostClassifier\", \"run_properties\": \"\\n    copy=True,\\n    with_mean=False,\\n    with_std=False\\n\", \"primary_metric\": 0.8393266, \"best_metric\": 0.84276094}, {\"run_id\": \"AutoML_3bfa6805-f343-4c31-8548-f97257b3c500_25\", \"run_number\": 31, \"metric\": null, \"status\": \"Completed\", \"run_type\": \"azureml.scriptrun\", \"training_percent\": \"100\", \"start_time\": \"2021-12-27T15:05:19.080574Z\", \"end_time\": \"2021-12-27T15:05:58.351576Z\", \"created_time\": \"2021-12-27T15:05:12.742492Z\", \"created_time_dt\": \"2021-12-27T15:05:12.742492Z\", \"duration\": \"0:00:45\", \"iteration\": \"25\", \"goal\": \"accuracy_max\", \"run_name\": \"MinMaxScaler, LightGBM\", \"run_properties\": \"copy=True, feature_range=(0, 1\", \"primary_metric\": 0.8259596, \"best_metric\": 0.84276094}, {\"run_id\": \"AutoML_3bfa6805-f343-4c31-8548-f97257b3c500_26\", \"run_number\": 32, \"metric\": null, \"status\": \"Completed\", \"run_type\": \"azureml.scriptrun\", \"training_percent\": \"100\", \"start_time\": \"2021-12-27T15:05:20.645111Z\", \"end_time\": \"2021-12-27T15:05:59.797774Z\", \"created_time\": \"2021-12-27T15:05:15.596131Z\", \"created_time_dt\": \"2021-12-27T15:05:15.596131Z\", \"duration\": \"0:00:44\", \"iteration\": \"26\", \"goal\": \"accuracy_max\", \"run_name\": \"SparseNormalizer, XGBoostClassifier\", \"run_properties\": \"copy=True, norm='l1'\", \"primary_metric\": 0.82939394, \"best_metric\": 0.84276094}, {\"run_id\": \"AutoML_3bfa6805-f343-4c31-8548-f97257b3c500_27\", \"run_number\": 33, \"metric\": null, \"status\": \"Completed\", \"run_type\": \"azureml.scriptrun\", \"training_percent\": \"100\", \"start_time\": \"2021-12-27T15:05:38.069833Z\", \"end_time\": \"2021-12-27T15:06:23.240271Z\", \"created_time\": \"2021-12-27T15:05:29.605848Z\", \"created_time_dt\": \"2021-12-27T15:05:29.605848Z\", \"duration\": \"0:00:53\", \"iteration\": \"27\", \"goal\": \"accuracy_max\", \"run_name\": \"RobustScaler, RandomForest\", \"run_properties\": \"copy=True, quantile_range=[25, 75], with_centering=True,\\n             with_scaling=True\", \"primary_metric\": 0.82922559, \"best_metric\": 0.84276094}, {\"run_id\": \"AutoML_3bfa6805-f343-4c31-8548-f97257b3c500_28\", \"run_number\": 34, \"metric\": null, \"status\": \"Completed\", \"run_type\": \"azureml.scriptrun\", \"training_percent\": \"100\", \"start_time\": \"2021-12-27T15:05:40.692431Z\", \"end_time\": \"2021-12-27T15:06:33.839489Z\", \"created_time\": \"2021-12-27T15:05:36.168823Z\", \"created_time_dt\": \"2021-12-27T15:05:36.168823Z\", \"duration\": \"0:00:57\", \"iteration\": \"28\", \"goal\": \"accuracy_max\", \"run_name\": \"RobustScaler, LightGBM\", \"run_properties\": \"copy=True, quantile_range=[25, 75], with_centering=True,\\n             with_scaling=False\", \"primary_metric\": 0.82265993, \"best_metric\": 0.84276094}, {\"run_id\": \"AutoML_3bfa6805-f343-4c31-8548-f97257b3c500_29\", \"run_number\": 35, \"metric\": null, \"status\": \"Completed\", \"run_type\": \"azureml.scriptrun\", \"training_percent\": \"100\", \"start_time\": \"2021-12-27T15:06:04.095955Z\", \"end_time\": \"2021-12-27T15:06:45.75091Z\", \"created_time\": \"2021-12-27T15:06:00.319017Z\", \"created_time_dt\": \"2021-12-27T15:06:00.319017Z\", \"duration\": \"0:00:45\", \"iteration\": \"29\", \"goal\": \"accuracy_max\", \"run_name\": \"StandardScalerWrapper, XGBoostClassifier\", \"run_properties\": \"\\n    copy=True,\\n    with_mean=False,\\n    with_std=False\\n\", \"primary_metric\": 0.82929293, \"best_metric\": 0.84276094}, {\"run_id\": \"AutoML_3bfa6805-f343-4c31-8548-f97257b3c500_30\", \"run_number\": 36, \"metric\": null, \"status\": \"Completed\", \"run_type\": \"azureml.scriptrun\", \"training_percent\": \"100\", \"start_time\": \"2021-12-27T15:06:09.33563Z\", \"end_time\": \"2021-12-27T15:06:47.050372Z\", \"created_time\": \"2021-12-27T15:06:04.118542Z\", \"created_time_dt\": \"2021-12-27T15:06:04.118542Z\", \"duration\": \"0:00:42\", \"iteration\": \"30\", \"goal\": \"accuracy_max\", \"run_name\": \"RobustScaler, LightGBM\", \"run_properties\": \"copy=True, quantile_range=[25, 75], with_centering=False,\\n             with_scaling=False\", \"primary_metric\": 0.81939394, \"best_metric\": 0.84276094}, {\"run_id\": \"AutoML_3bfa6805-f343-4c31-8548-f97257b3c500_31\", \"run_number\": 37, \"metric\": null, \"status\": \"Completed\", \"run_type\": \"azureml.scriptrun\", \"training_percent\": \"100\", \"start_time\": \"2021-12-27T15:06:31.340628Z\", \"end_time\": \"2021-12-27T15:07:12.175445Z\", \"created_time\": \"2021-12-27T15:06:25.483771Z\", \"created_time_dt\": \"2021-12-27T15:06:25.483771Z\", \"duration\": \"0:00:46\", \"iteration\": \"31\", \"goal\": \"accuracy_max\", \"run_name\": \"StandardScalerWrapper, XGBoostClassifier\", \"run_properties\": \"\\n    copy=True,\\n    with_mean=False,\\n    with_std=False\\n\", \"primary_metric\": 0.84272727, \"best_metric\": 0.84276094}, {\"run_id\": \"AutoML_3bfa6805-f343-4c31-8548-f97257b3c500_32\", \"run_number\": 38, \"metric\": null, \"status\": \"Completed\", \"run_type\": \"azureml.scriptrun\", \"training_percent\": \"100\", \"start_time\": \"2021-12-27T15:06:40.59638Z\", \"end_time\": \"2021-12-27T15:07:19.585246Z\", \"created_time\": \"2021-12-27T15:06:35.947788Z\", \"created_time_dt\": \"2021-12-27T15:06:35.947788Z\", \"duration\": \"0:00:43\", \"iteration\": \"32\", \"goal\": \"accuracy_max\", \"run_name\": \"RobustScaler, LightGBM\", \"run_properties\": \"copy=True, quantile_range=[25, 75], with_centering=True,\\n             with_scaling=False\", \"primary_metric\": 0.81929293, \"best_metric\": 0.84276094}, {\"run_id\": \"AutoML_3bfa6805-f343-4c31-8548-f97257b3c500_33\", \"run_number\": 39, \"metric\": null, \"status\": \"Canceled\", \"run_type\": \"azureml.scriptrun\", \"training_percent\": \"100\", \"start_time\": \"2021-12-27T15:06:52.698794Z\", \"end_time\": \"2021-12-27T15:07:20.837019Z\", \"created_time\": \"2021-12-27T15:06:47.709971Z\", \"created_time_dt\": \"2021-12-27T15:06:47.709971Z\", \"duration\": \"0:00:33\", \"iteration\": \"33\", \"goal\": \"accuracy_max\", \"run_name\": \"SparseNormalizer, XGBoostClassifier\", \"run_properties\": \"copy=True, norm='l1'\", \"primary_metric\": 0.82939394, \"best_metric\": 0.84276094}, {\"run_id\": \"AutoML_3bfa6805-f343-4c31-8548-f97257b3c500_34\", \"run_number\": 40, \"metric\": null, \"status\": \"Canceled\", \"run_type\": \"azureml.scriptrun\", \"training_percent\": \"100\", \"start_time\": \"2021-12-27T15:06:55.765709Z\", \"end_time\": \"2021-12-27T15:07:20.816793Z\", \"created_time\": \"2021-12-27T15:06:50.613817Z\", \"created_time_dt\": \"2021-12-27T15:06:50.613817Z\", \"duration\": \"0:00:30\", \"iteration\": \"34\", \"goal\": \"accuracy_max\", \"run_name\": \"SparseNormalizer, XGBoostClassifier\", \"run_properties\": \"copy=True, norm='l1'\", \"primary_metric\": 0.80265993, \"best_metric\": 0.84276094}, {\"run_id\": \"AutoML_3bfa6805-f343-4c31-8548-f97257b3c500_35\", \"run_number\": 41, \"metric\": null, \"status\": \"Canceled\", \"run_type\": \"azureml.scriptrun\", \"training_percent\": \"100\", \"start_time\": \"2021-12-27T15:07:15.047548Z\", \"end_time\": \"2021-12-27T15:07:20.858582Z\", \"created_time\": \"2021-12-27T15:07:15.047548Z\", \"created_time_dt\": \"2021-12-27T15:07:15.047548Z\", \"duration\": \"0:00:05\", \"iteration\": \"35\", \"goal\": null, \"run_name\": \"Canceled\", \"run_properties\": null}, {\"run_id\": \"AutoML_3bfa6805-f343-4c31-8548-f97257b3c500_36\", \"run_number\": 42, \"metric\": null, \"status\": \"Completed\", \"run_type\": \"azureml.scriptrun\", \"training_percent\": \"100\", \"start_time\": \"2021-12-27T15:07:25.79189Z\", \"end_time\": \"2021-12-27T15:08:21.601837Z\", \"created_time\": \"2021-12-27T15:07:21.885673Z\", \"created_time_dt\": \"2021-12-27T15:07:21.885673Z\", \"duration\": \"0:00:59\", \"iteration\": \"36\", \"goal\": \"accuracy_max\", \"run_name\": \"VotingEnsemble\", \"run_properties\": \"\\n    estimators=[('5', Pipeline(\\n        memory=None,\\n        steps=[('maxabsscaler', MaxAbsScaler(\\n            copy=True\\n        \", \"primary_metric\": 0.86619529, \"best_metric\": 0.86619529}, {\"run_id\": \"AutoML_3bfa6805-f343-4c31-8548-f97257b3c500_37\", \"run_number\": 43, \"metric\": null, \"status\": \"Completed\", \"run_type\": \"azureml.scriptrun\", \"training_percent\": \"100\", \"start_time\": \"2021-12-27T15:07:33.902228Z\", \"end_time\": \"2021-12-27T15:08:35.036253Z\", \"created_time\": \"2021-12-27T15:07:21.907676Z\", \"created_time_dt\": \"2021-12-27T15:07:21.907676Z\", \"duration\": \"0:01:13\", \"iteration\": \"37\", \"goal\": \"accuracy_max\", \"run_name\": \"StackEnsemble\", \"run_properties\": \"\\n    base_learners=[('5', Pipeline(\\n        memory=None,\\n        steps=[('maxabsscaler', MaxAbsScaler(\\n            copy=True\\n        \", \"primary_metric\": 0.83265993, \"best_metric\": 0.86619529}], \"children_metrics\": {\"categories\": [0], \"series\": {\"recall_score_macro\": [{\"categories\": [\"0\", \"1\", \"2\", \"3\", \"4\", \"5\", \"6\", \"7\", \"8\", \"9\", \"10\", \"11\", \"12\", \"13\", \"14\", \"15\", \"16\", \"17\", \"18\", \"19\", \"20\", \"21\", \"22\", \"23\", \"24\", \"25\", \"26\", \"27\", \"28\", \"29\", \"30\", \"31\", \"32\", \"33\", \"34\", \"36\", \"37\"], \"mode\": \"markers\", \"name\": \"recall_score_macro\", \"stepped\": false, \"type\": \"scatter\", \"data\": [0.7665542389680322, 0.7899604037535072, 0.825161121712846, 0.7560622198553233, 0.5202197271162788, 0.8031006375833961, 0.7810470569091259, 0.7041536610502129, 0.5088297657263174, 0.6397663673525743, 0.7912101756929344, 0.837323283875008, 0.749433916675296, 0.5542411869998077, 0.6177773832946247, 0.5911465652844963, 0.6383634866393487, 0.7757405188439671, 0.7774464119291705, 0.763748477541581, 0.7664812595847078, 0.8013217651148685, 0.7779683624511211, 0.7136429532981258, 0.807588130001923, 0.7812889243923727, 0.7922612267439854, 0.8020495865323451, 0.7912903050834087, 0.7942661873696357, 0.7541132265270196, 0.7930021154159085, 0.7839487270521753, 0.7773206704241186, 0.7584431722362757, 0.8285046129873717, 0.7964139015863153]}, {\"categories\": [\"0\", \"1\", \"2\", \"3\", \"4\", \"5\", \"6\", \"7\", \"8\", \"9\", \"10\", \"11\", \"12\", \"13\", \"14\", \"15\", \"16\", \"17\", \"18\", \"19\", \"20\", \"21\", \"22\", \"23\", \"24\", \"25\", \"26\", \"27\", \"28\", \"29\", \"30\", \"31\", \"32\", \"33\", \"34\", \"36\", \"37\"], \"mode\": \"lines\", \"name\": \"recall_score_macro_max\", \"stepped\": true, \"type\": \"scatter\", \"data\": [0.7665542389680322, 0.7899604037535072, 0.825161121712846, 0.825161121712846, 0.825161121712846, 0.825161121712846, 0.825161121712846, 0.825161121712846, 0.825161121712846, 0.825161121712846, 0.825161121712846, 0.837323283875008, 0.837323283875008, 0.837323283875008, 0.837323283875008, 0.837323283875008, 0.837323283875008, 0.837323283875008, 0.837323283875008, 0.837323283875008, 0.837323283875008, 0.837323283875008, 0.837323283875008, 0.837323283875008, 0.837323283875008, 0.837323283875008, 0.837323283875008, 0.837323283875008, 0.837323283875008, 0.837323283875008, 0.837323283875008, 0.837323283875008, 0.837323283875008, 0.837323283875008, 0.837323283875008, 0.837323283875008, 0.837323283875008]}], \"AUC_weighted\": [{\"categories\": [\"0\", \"1\", \"2\", \"3\", \"4\", \"5\", \"6\", \"7\", \"8\", \"9\", \"10\", \"11\", \"12\", \"13\", \"14\", \"15\", \"16\", \"17\", \"18\", \"19\", \"20\", \"21\", \"22\", \"23\", \"24\", \"25\", \"26\", \"27\", \"28\", \"29\", \"30\", \"31\", \"32\", \"33\", \"34\", \"36\", \"37\"], \"mode\": \"markers\", \"name\": \"AUC_weighted\", \"stepped\": false, \"type\": \"scatter\", \"data\": [0.854207705242188, 0.875938401455643, 0.8481118063876685, 0.8468990912094361, 0.5133572981848844, 0.8786008915319261, 0.8444876896601036, 0.8717097639511434, 0.5240911354704457, 0.7624788581685134, 0.8796919579678201, 0.9093583238410824, 0.8494052673363018, 0.8204269787028408, 0.7083008377835963, 0.6769016800051282, 0.7425737067116378, 0.8484837546906513, 0.8918632672080947, 0.8767685419409558, 0.8466784025404716, 0.8881159977711701, 0.867212532729774, 0.8617692569416707, 0.8945186072772279, 0.8792711430642465, 0.872782486920418, 0.9036125287849425, 0.8763844139706208, 0.8898986178296523, 0.8675749887818852, 0.8637536797881625, 0.8716101322997875, 0.8597952139331451, 0.8645044058837162, 0.8926262715917889, 0.8818654615206339]}, {\"categories\": [\"0\", \"1\", \"2\", \"3\", \"4\", \"5\", \"6\", \"7\", \"8\", \"9\", \"10\", \"11\", \"12\", \"13\", \"14\", \"15\", \"16\", \"17\", \"18\", \"19\", \"20\", \"21\", \"22\", \"23\", \"24\", \"25\", \"26\", \"27\", \"28\", \"29\", \"30\", \"31\", \"32\", \"33\", \"34\", \"36\", \"37\"], \"mode\": \"lines\", \"name\": \"AUC_weighted_max\", \"stepped\": true, \"type\": \"scatter\", \"data\": [0.854207705242188, 0.875938401455643, 0.875938401455643, 0.875938401455643, 0.875938401455643, 0.8786008915319261, 0.8786008915319261, 0.8786008915319261, 0.8786008915319261, 0.8786008915319261, 0.8796919579678201, 0.9093583238410824, 0.9093583238410824, 0.9093583238410824, 0.9093583238410824, 0.9093583238410824, 0.9093583238410824, 0.9093583238410824, 0.9093583238410824, 0.9093583238410824, 0.9093583238410824, 0.9093583238410824, 0.9093583238410824, 0.9093583238410824, 0.9093583238410824, 0.9093583238410824, 0.9093583238410824, 0.9093583238410824, 0.9093583238410824, 0.9093583238410824, 0.9093583238410824, 0.9093583238410824, 0.9093583238410824, 0.9093583238410824, 0.9093583238410824, 0.9093583238410824, 0.9093583238410824]}], \"average_precision_score_macro\": [{\"categories\": [\"0\", \"1\", \"2\", \"3\", \"4\", \"5\", \"6\", \"7\", \"8\", \"9\", \"10\", \"11\", \"12\", \"13\", \"14\", \"15\", \"16\", \"17\", \"18\", \"19\", \"20\", \"21\", \"22\", \"23\", \"24\", \"25\", \"26\", \"27\", \"28\", \"29\", \"30\", \"31\", \"32\", \"33\", \"34\", \"36\", \"37\"], \"mode\": \"markers\", \"name\": \"average_precision_score_macro\", \"stepped\": false, \"type\": \"scatter\", \"data\": [0.8310169664920529, 0.8521645844042397, 0.8320267026212435, 0.8253994124626494, 0.5486341759091734, 0.8590626465748405, 0.8312994119162388, 0.844653716805638, 0.5561596837658254, 0.738035587609263, 0.8583561054589214, 0.89521332175249, 0.841152873340496, 0.8015937015623545, 0.6603801098662968, 0.6476065571830389, 0.7429084121107014, 0.8412228375207578, 0.8684620703292119, 0.8530847131456482, 0.8349509526139521, 0.8591062244921259, 0.8393556586173495, 0.8419981826297418, 0.8727654350564943, 0.8531645704183397, 0.8583047884731979, 0.8840584123426231, 0.8472746925958329, 0.8647234403202947, 0.8447136814875421, 0.8408453247123605, 0.846818308766429, 0.843761180167698, 0.8506967823253451, 0.8743104897314934, 0.8627969265591157]}, {\"categories\": [\"0\", \"1\", \"2\", \"3\", \"4\", \"5\", \"6\", \"7\", \"8\", \"9\", \"10\", \"11\", \"12\", \"13\", \"14\", \"15\", \"16\", \"17\", \"18\", \"19\", \"20\", \"21\", \"22\", \"23\", \"24\", \"25\", \"26\", \"27\", \"28\", \"29\", \"30\", \"31\", \"32\", \"33\", \"34\", \"36\", \"37\"], \"mode\": \"lines\", \"name\": \"average_precision_score_macro_max\", \"stepped\": true, \"type\": \"scatter\", \"data\": [0.8310169664920529, 0.8521645844042397, 0.8521645844042397, 0.8521645844042397, 0.8521645844042397, 0.8590626465748405, 0.8590626465748405, 0.8590626465748405, 0.8590626465748405, 0.8590626465748405, 0.8590626465748405, 0.89521332175249, 0.89521332175249, 0.89521332175249, 0.89521332175249, 0.89521332175249, 0.89521332175249, 0.89521332175249, 0.89521332175249, 0.89521332175249, 0.89521332175249, 0.89521332175249, 0.89521332175249, 0.89521332175249, 0.89521332175249, 0.89521332175249, 0.89521332175249, 0.89521332175249, 0.89521332175249, 0.89521332175249, 0.89521332175249, 0.89521332175249, 0.89521332175249, 0.89521332175249, 0.89521332175249, 0.89521332175249, 0.89521332175249]}], \"precision_score_weighted\": [{\"categories\": [\"0\", \"1\", \"2\", \"3\", \"4\", \"5\", \"6\", \"7\", \"8\", \"9\", \"10\", \"11\", \"12\", \"13\", \"14\", \"15\", \"16\", \"17\", \"18\", \"19\", \"20\", \"21\", \"22\", \"23\", \"24\", \"25\", \"26\", \"27\", \"28\", \"29\", \"30\", \"31\", \"32\", \"33\", \"34\", \"36\", \"37\"], \"mode\": \"markers\", \"name\": \"precision_score_weighted\", \"stepped\": false, \"type\": \"scatter\", \"data\": [0.8103076903348296, 0.8235687391092353, 0.8447268107294278, 0.8175829787065162, 0.5838686674115953, 0.8478117529864603, 0.8024086161706919, 0.7963904394825448, 0.5748612359042249, 0.71413516613493, 0.8252927885823409, 0.8585569734515959, 0.7805543562412999, 0.7803842983775796, 0.6921288764841397, 0.6858809150407721, 0.7411765322907335, 0.826471696346537, 0.8216763912416086, 0.8208387088787944, 0.8094385367703031, 0.8417747735442921, 0.8095794315162564, 0.7867042981446711, 0.8426722804491629, 0.8311492718014457, 0.8327023957359522, 0.8402691976121929, 0.8252974619851382, 0.8341492814391795, 0.8243703018849219, 0.8457339507339507, 0.8248240974151257, 0.8329226576253866, 0.8098110138215787, 0.8716420104178454, 0.844749277581556]}, {\"categories\": [\"0\", \"1\", \"2\", \"3\", \"4\", \"5\", \"6\", \"7\", \"8\", \"9\", \"10\", \"11\", \"12\", \"13\", \"14\", \"15\", \"16\", \"17\", \"18\", \"19\", \"20\", \"21\", \"22\", \"23\", \"24\", \"25\", \"26\", \"27\", \"28\", \"29\", \"30\", \"31\", \"32\", \"33\", \"34\", \"36\", \"37\"], \"mode\": \"lines\", \"name\": \"precision_score_weighted_max\", \"stepped\": true, \"type\": \"scatter\", \"data\": [0.8103076903348296, 0.8235687391092353, 0.8447268107294278, 0.8447268107294278, 0.8447268107294278, 0.8478117529864603, 0.8478117529864603, 0.8478117529864603, 0.8478117529864603, 0.8478117529864603, 0.8478117529864603, 0.8585569734515959, 0.8585569734515959, 0.8585569734515959, 0.8585569734515959, 0.8585569734515959, 0.8585569734515959, 0.8585569734515959, 0.8585569734515959, 0.8585569734515959, 0.8585569734515959, 0.8585569734515959, 0.8585569734515959, 0.8585569734515959, 0.8585569734515959, 0.8585569734515959, 0.8585569734515959, 0.8585569734515959, 0.8585569734515959, 0.8585569734515959, 0.8585569734515959, 0.8585569734515959, 0.8585569734515959, 0.8585569734515959, 0.8585569734515959, 0.8716420104178454, 0.8716420104178454]}], \"f1_score_weighted\": [{\"categories\": [\"0\", \"1\", \"2\", \"3\", \"4\", \"5\", \"6\", \"7\", \"8\", \"9\", \"10\", \"11\", \"12\", \"13\", \"14\", \"15\", \"16\", \"17\", \"18\", \"19\", \"20\", \"21\", \"22\", \"23\", \"24\", \"25\", \"26\", \"27\", \"28\", \"29\", \"30\", \"31\", \"32\", \"33\", \"34\", \"36\", \"37\"], \"mode\": \"markers\", \"name\": \"f1_score_weighted\", \"stepped\": false, \"type\": \"scatter\", \"data\": [0.7994850745596541, 0.8173118768300475, 0.835064728778148, 0.8024932676887785, 0.5898048126254727, 0.8373904344289049, 0.7816332012363009, 0.7725845795618523, 0.5768108134484945, 0.7025900321523949, 0.8147440046538584, 0.8447248964829889, 0.7285346321879597, 0.6250774352639943, 0.6871586762814833, 0.6631027020145941, 0.7119486284973049, 0.8145891999537497, 0.8094860363741704, 0.8056058799755372, 0.799873863320251, 0.831302048842575, 0.8065796231853635, 0.7719575611973205, 0.8370542063033778, 0.8204020523853145, 0.8253712659217752, 0.8269131258604943, 0.8207362586290302, 0.8260194485549249, 0.809025067649949, 0.8355674432462507, 0.8162653205120853, 0.8221632863119632, 0.7951907289069732, 0.8608884425043768, 0.8281418378868235]}, {\"categories\": [\"0\", \"1\", \"2\", \"3\", \"4\", \"5\", \"6\", \"7\", \"8\", \"9\", \"10\", \"11\", \"12\", \"13\", \"14\", \"15\", \"16\", \"17\", \"18\", \"19\", \"20\", \"21\", \"22\", \"23\", \"24\", \"25\", \"26\", \"27\", \"28\", \"29\", \"30\", \"31\", \"32\", \"33\", \"34\", \"36\", \"37\"], \"mode\": \"lines\", \"name\": \"f1_score_weighted_max\", \"stepped\": true, \"type\": \"scatter\", \"data\": [0.7994850745596541, 0.8173118768300475, 0.835064728778148, 0.835064728778148, 0.835064728778148, 0.8373904344289049, 0.8373904344289049, 0.8373904344289049, 0.8373904344289049, 0.8373904344289049, 0.8373904344289049, 0.8447248964829889, 0.8447248964829889, 0.8447248964829889, 0.8447248964829889, 0.8447248964829889, 0.8447248964829889, 0.8447248964829889, 0.8447248964829889, 0.8447248964829889, 0.8447248964829889, 0.8447248964829889, 0.8447248964829889, 0.8447248964829889, 0.8447248964829889, 0.8447248964829889, 0.8447248964829889, 0.8447248964829889, 0.8447248964829889, 0.8447248964829889, 0.8447248964829889, 0.8447248964829889, 0.8447248964829889, 0.8447248964829889, 0.8447248964829889, 0.8608884425043768, 0.8608884425043768]}], \"AUC_macro\": [{\"categories\": [\"0\", \"1\", \"2\", \"3\", \"4\", \"5\", \"6\", \"7\", \"8\", \"9\", \"10\", \"11\", \"12\", \"13\", \"14\", \"15\", \"16\", \"17\", \"18\", \"19\", \"20\", \"21\", \"22\", \"23\", \"24\", \"25\", \"26\", \"27\", \"28\", \"29\", \"30\", \"31\", \"32\", \"33\", \"34\", \"36\", \"37\"], \"mode\": \"markers\", \"name\": \"AUC_macro\", \"stepped\": false, \"type\": \"scatter\", \"data\": [0.8542077052421879, 0.875938401455643, 0.8481118063876685, 0.8468990912094361, 0.5133572981848844, 0.8786008915319261, 0.8444876896601033, 0.8717097639511433, 0.5240911354704457, 0.7624788581685134, 0.8796919579678201, 0.9093583238410824, 0.8494052673363018, 0.8204269787028409, 0.7083008377835963, 0.6769016800051283, 0.7425737067116378, 0.8484837546906512, 0.8918632672080947, 0.8767685419409558, 0.8466784025404716, 0.8881159977711701, 0.867212532729774, 0.8617692569416707, 0.8945186072772281, 0.8792711430642465, 0.872782486920418, 0.9036125287849425, 0.8763844139706208, 0.8898986178296523, 0.8675749887818854, 0.8637536797881625, 0.8716101322997876, 0.8597952139331451, 0.8645044058837162, 0.8926262715917889, 0.881865461520634]}, {\"categories\": [\"0\", \"1\", \"2\", \"3\", \"4\", \"5\", \"6\", \"7\", \"8\", \"9\", \"10\", \"11\", \"12\", \"13\", \"14\", \"15\", \"16\", \"17\", \"18\", \"19\", \"20\", \"21\", \"22\", \"23\", \"24\", \"25\", \"26\", \"27\", \"28\", \"29\", \"30\", \"31\", \"32\", \"33\", \"34\", \"36\", \"37\"], \"mode\": \"lines\", \"name\": \"AUC_macro_max\", \"stepped\": true, \"type\": \"scatter\", \"data\": [0.8542077052421879, 0.875938401455643, 0.875938401455643, 0.875938401455643, 0.875938401455643, 0.8786008915319261, 0.8786008915319261, 0.8786008915319261, 0.8786008915319261, 0.8786008915319261, 0.8796919579678201, 0.9093583238410824, 0.9093583238410824, 0.9093583238410824, 0.9093583238410824, 0.9093583238410824, 0.9093583238410824, 0.9093583238410824, 0.9093583238410824, 0.9093583238410824, 0.9093583238410824, 0.9093583238410824, 0.9093583238410824, 0.9093583238410824, 0.9093583238410824, 0.9093583238410824, 0.9093583238410824, 0.9093583238410824, 0.9093583238410824, 0.9093583238410824, 0.9093583238410824, 0.9093583238410824, 0.9093583238410824, 0.9093583238410824, 0.9093583238410824, 0.9093583238410824, 0.9093583238410824]}], \"accuracy\": [{\"categories\": [\"0\", \"1\", \"2\", \"3\", \"4\", \"5\", \"6\", \"7\", \"8\", \"9\", \"10\", \"11\", \"12\", \"13\", \"14\", \"15\", \"16\", \"17\", \"18\", \"19\", \"20\", \"21\", \"22\", \"23\", \"24\", \"25\", \"26\", \"27\", \"28\", \"29\", \"30\", \"31\", \"32\", \"33\", \"34\", \"36\", \"37\"], \"mode\": \"markers\", \"name\": \"accuracy\", \"stepped\": false, \"type\": \"scatter\", \"data\": [0.8025252525252524, 0.8192929292929293, 0.8326262626262627, 0.8127609427609427, 0.6086868686868687, 0.8427609427609428, 0.7758249158249159, 0.7925252525252526, 0.6053198653198653, 0.7189562289562289, 0.8159259259259258, 0.8425925925925926, 0.7189898989898991, 0.7124579124579125, 0.7055892255892257, 0.7057239057239056, 0.7425252525252525, 0.8192592592592592, 0.8125925925925926, 0.8126599326599327, 0.8024915824915825, 0.836026936026936, 0.8093939393939394, 0.785959595959596, 0.8393265993265994, 0.8259595959595959, 0.8293939393939395, 0.8292255892255893, 0.8226599326599326, 0.8292929292929294, 0.8193939393939395, 0.8427272727272728, 0.8192929292929293, 0.8293939393939395, 0.8026599326599326, 0.8661952861952863, 0.8326599326599328]}, {\"categories\": [\"0\", \"1\", \"2\", \"3\", \"4\", \"5\", \"6\", \"7\", \"8\", \"9\", \"10\", \"11\", \"12\", \"13\", \"14\", \"15\", \"16\", \"17\", \"18\", \"19\", \"20\", \"21\", \"22\", \"23\", \"24\", \"25\", \"26\", \"27\", \"28\", \"29\", \"30\", \"31\", \"32\", \"33\", \"34\", \"36\", \"37\"], \"mode\": \"lines\", \"name\": \"accuracy_max\", \"stepped\": true, \"type\": \"scatter\", \"data\": [0.8025252525252524, 0.8192929292929293, 0.8326262626262627, 0.8326262626262627, 0.8326262626262627, 0.8427609427609428, 0.8427609427609428, 0.8427609427609428, 0.8427609427609428, 0.8427609427609428, 0.8427609427609428, 0.8427609427609428, 0.8427609427609428, 0.8427609427609428, 0.8427609427609428, 0.8427609427609428, 0.8427609427609428, 0.8427609427609428, 0.8427609427609428, 0.8427609427609428, 0.8427609427609428, 0.8427609427609428, 0.8427609427609428, 0.8427609427609428, 0.8427609427609428, 0.8427609427609428, 0.8427609427609428, 0.8427609427609428, 0.8427609427609428, 0.8427609427609428, 0.8427609427609428, 0.8427609427609428, 0.8427609427609428, 0.8427609427609428, 0.8427609427609428, 0.8661952861952863, 0.8661952861952863]}], \"log_loss\": [{\"categories\": [\"0\", \"1\", \"2\", \"3\", \"4\", \"5\", \"6\", \"7\", \"8\", \"9\", \"10\", \"11\", \"12\", \"13\", \"14\", \"15\", \"16\", \"17\", \"18\", \"19\", \"20\", \"21\", \"22\", \"23\", \"24\", \"25\", \"26\", \"27\", \"28\", \"29\", \"30\", \"31\", \"32\", \"33\", \"34\", \"36\", \"37\"], \"mode\": \"markers\", \"name\": \"log_loss\", \"stepped\": false, \"type\": \"scatter\", \"data\": [0.5793114868850613, 0.4649911805096085, 0.5491428062828643, 0.5203512296469266, 2.388876380429194, 0.42028158059962006, 0.5171128589213557, 0.49047251965116995, 1.3947670462514445, 0.5712216790236447, 0.47139242956067856, 0.46469791460682597, 0.5384246960731985, 0.5252851513645979, 2.394798839217603, 2.097684330833495, 0.658877554951693, 0.45167056130637134, 0.4889936054982396, 0.5054418107451889, 0.4794849874705885, 0.47618281842481963, 0.43869087434790427, 0.4552410245598926, 0.40044131224865337, 0.4343563303091944, 0.4316152765488017, 0.38865057097974914, 0.4188531668939582, 0.40745657680760544, 0.4752247994901473, 0.4405521436625968, 0.42741892479727744, 0.4438188820202773, 0.5070383473147052, 0.43032743447102967, 0.47648083862437823]}, {\"categories\": [\"0\", \"1\", \"2\", \"3\", \"4\", \"5\", \"6\", \"7\", \"8\", \"9\", \"10\", \"11\", \"12\", \"13\", \"14\", \"15\", \"16\", \"17\", \"18\", \"19\", \"20\", \"21\", \"22\", \"23\", \"24\", \"25\", \"26\", \"27\", \"28\", \"29\", \"30\", \"31\", \"32\", \"33\", \"34\", \"36\", \"37\"], \"mode\": \"lines\", \"name\": \"log_loss_min\", \"stepped\": true, \"type\": \"scatter\", \"data\": [0.5793114868850613, 0.4649911805096085, 0.4649911805096085, 0.4649911805096085, 0.4649911805096085, 0.42028158059962006, 0.42028158059962006, 0.42028158059962006, 0.42028158059962006, 0.42028158059962006, 0.42028158059962006, 0.42028158059962006, 0.42028158059962006, 0.42028158059962006, 0.42028158059962006, 0.42028158059962006, 0.42028158059962006, 0.42028158059962006, 0.42028158059962006, 0.42028158059962006, 0.42028158059962006, 0.42028158059962006, 0.42028158059962006, 0.42028158059962006, 0.40044131224865337, 0.40044131224865337, 0.40044131224865337, 0.38865057097974914, 0.38865057097974914, 0.38865057097974914, 0.38865057097974914, 0.38865057097974914, 0.38865057097974914, 0.38865057097974914, 0.38865057097974914, 0.38865057097974914, 0.38865057097974914]}], \"recall_score_micro\": [{\"categories\": [\"0\", \"1\", \"2\", \"3\", \"4\", \"5\", \"6\", \"7\", \"8\", \"9\", \"10\", \"11\", \"12\", \"13\", \"14\", \"15\", \"16\", \"17\", \"18\", \"19\", \"20\", \"21\", \"22\", \"23\", \"24\", \"25\", \"26\", \"27\", \"28\", \"29\", \"30\", \"31\", \"32\", \"33\", \"34\", \"36\", \"37\"], \"mode\": \"markers\", \"name\": \"recall_score_micro\", \"stepped\": false, \"type\": \"scatter\", \"data\": [0.8025252525252524, 0.8192929292929293, 0.8326262626262627, 0.8127609427609427, 0.6086868686868687, 0.8427609427609428, 0.7758249158249159, 0.7925252525252526, 0.6053198653198653, 0.7189562289562289, 0.8159259259259258, 0.8425925925925926, 0.7189898989898991, 0.7124579124579125, 0.7055892255892257, 0.7057239057239056, 0.7425252525252525, 0.8192592592592592, 0.8125925925925926, 0.8126599326599327, 0.8024915824915825, 0.836026936026936, 0.8093939393939394, 0.785959595959596, 0.8393265993265994, 0.8259595959595959, 0.8293939393939395, 0.8292255892255893, 0.8226599326599326, 0.8292929292929294, 0.8193939393939395, 0.8427272727272728, 0.8192929292929293, 0.8293939393939395, 0.8026599326599326, 0.8661952861952863, 0.8326599326599328]}, {\"categories\": [\"0\", \"1\", \"2\", \"3\", \"4\", \"5\", \"6\", \"7\", \"8\", \"9\", \"10\", \"11\", \"12\", \"13\", \"14\", \"15\", \"16\", \"17\", \"18\", \"19\", \"20\", \"21\", \"22\", \"23\", \"24\", \"25\", \"26\", \"27\", \"28\", \"29\", \"30\", \"31\", \"32\", \"33\", \"34\", \"36\", \"37\"], \"mode\": \"lines\", \"name\": \"recall_score_micro_max\", \"stepped\": true, \"type\": \"scatter\", \"data\": [0.8025252525252524, 0.8192929292929293, 0.8326262626262627, 0.8326262626262627, 0.8326262626262627, 0.8427609427609428, 0.8427609427609428, 0.8427609427609428, 0.8427609427609428, 0.8427609427609428, 0.8427609427609428, 0.8427609427609428, 0.8427609427609428, 0.8427609427609428, 0.8427609427609428, 0.8427609427609428, 0.8427609427609428, 0.8427609427609428, 0.8427609427609428, 0.8427609427609428, 0.8427609427609428, 0.8427609427609428, 0.8427609427609428, 0.8427609427609428, 0.8427609427609428, 0.8427609427609428, 0.8427609427609428, 0.8427609427609428, 0.8427609427609428, 0.8427609427609428, 0.8427609427609428, 0.8427609427609428, 0.8427609427609428, 0.8427609427609428, 0.8427609427609428, 0.8661952861952863, 0.8661952861952863]}], \"balanced_accuracy\": [{\"categories\": [\"0\", \"1\", \"2\", \"3\", \"4\", \"5\", \"6\", \"7\", \"8\", \"9\", \"10\", \"11\", \"12\", \"13\", \"14\", \"15\", \"16\", \"17\", \"18\", \"19\", \"20\", \"21\", \"22\", \"23\", \"24\", \"25\", \"26\", \"27\", \"28\", \"29\", \"30\", \"31\", \"32\", \"33\", \"34\", \"36\", \"37\"], \"mode\": \"markers\", \"name\": \"balanced_accuracy\", \"stepped\": false, \"type\": \"scatter\", \"data\": [0.7665542389680322, 0.7899604037535072, 0.825161121712846, 0.7560622198553233, 0.5202197271162788, 0.8031006375833961, 0.7810470569091259, 0.7041536610502129, 0.5088297657263174, 0.6397663673525743, 0.7912101756929344, 0.837323283875008, 0.749433916675296, 0.5542411869998077, 0.6177773832946247, 0.5911465652844963, 0.6383634866393487, 0.7757405188439671, 0.7774464119291705, 0.763748477541581, 0.7664812595847078, 0.8013217651148685, 0.7779683624511211, 0.7136429532981258, 0.807588130001923, 0.7812889243923727, 0.7922612267439854, 0.8020495865323451, 0.7912903050834087, 0.7942661873696357, 0.7541132265270196, 0.7930021154159085, 0.7839487270521753, 0.7773206704241186, 0.7584431722362757, 0.8285046129873717, 0.7964139015863153]}, {\"categories\": [\"0\", \"1\", \"2\", \"3\", \"4\", \"5\", \"6\", \"7\", \"8\", \"9\", \"10\", \"11\", \"12\", \"13\", \"14\", \"15\", \"16\", \"17\", \"18\", \"19\", \"20\", \"21\", \"22\", \"23\", \"24\", \"25\", \"26\", \"27\", \"28\", \"29\", \"30\", \"31\", \"32\", \"33\", \"34\", \"36\", \"37\"], \"mode\": \"lines\", \"name\": \"balanced_accuracy_max\", \"stepped\": true, \"type\": \"scatter\", \"data\": [0.7665542389680322, 0.7899604037535072, 0.825161121712846, 0.825161121712846, 0.825161121712846, 0.825161121712846, 0.825161121712846, 0.825161121712846, 0.825161121712846, 0.825161121712846, 0.825161121712846, 0.837323283875008, 0.837323283875008, 0.837323283875008, 0.837323283875008, 0.837323283875008, 0.837323283875008, 0.837323283875008, 0.837323283875008, 0.837323283875008, 0.837323283875008, 0.837323283875008, 0.837323283875008, 0.837323283875008, 0.837323283875008, 0.837323283875008, 0.837323283875008, 0.837323283875008, 0.837323283875008, 0.837323283875008, 0.837323283875008, 0.837323283875008, 0.837323283875008, 0.837323283875008, 0.837323283875008, 0.837323283875008, 0.837323283875008]}], \"f1_score_macro\": [{\"categories\": [\"0\", \"1\", \"2\", \"3\", \"4\", \"5\", \"6\", \"7\", \"8\", \"9\", \"10\", \"11\", \"12\", \"13\", \"14\", \"15\", \"16\", \"17\", \"18\", \"19\", \"20\", \"21\", \"22\", \"23\", \"24\", \"25\", \"26\", \"27\", \"28\", \"29\", \"30\", \"31\", \"32\", \"33\", \"34\", \"36\", \"37\"], \"mode\": \"markers\", \"name\": \"f1_score_macro\", \"stepped\": false, \"type\": \"scatter\", \"data\": [0.7670520318568558, 0.7892216866138503, 0.8135228336579962, 0.7668148717648723, 0.5138768333379492, 0.8106436791874193, 0.757579634677994, 0.7210666185666187, 0.49391304347826087, 0.644007108014856, 0.7872204994718505, 0.8245662203412395, 0.7082474951728406, 0.5117757430233594, 0.6217053122316281, 0.5829056554889332, 0.6455558824305396, 0.7830246842959738, 0.7793182599485515, 0.7717148970601192, 0.7683517369342786, 0.8040196492608164, 0.7775831354747655, 0.7264603084436457, 0.8097716199155718, 0.7900174022168421, 0.7971366986068383, 0.8010924747766852, 0.7925900621584825, 0.7975596738502503, 0.7718896826233511, 0.806397599108562, 0.7862611459377034, 0.7904214147574017, 0.7609801280562817, 0.8377222202469939, 0.8007596231685685]}, {\"categories\": [\"0\", \"1\", \"2\", \"3\", \"4\", \"5\", \"6\", \"7\", \"8\", \"9\", \"10\", \"11\", \"12\", \"13\", \"14\", \"15\", \"16\", \"17\", \"18\", \"19\", \"20\", \"21\", \"22\", \"23\", \"24\", \"25\", \"26\", \"27\", \"28\", \"29\", \"30\", \"31\", \"32\", \"33\", \"34\", \"36\", \"37\"], \"mode\": \"lines\", \"name\": \"f1_score_macro_max\", \"stepped\": true, \"type\": \"scatter\", \"data\": [0.7670520318568558, 0.7892216866138503, 0.8135228336579962, 0.8135228336579962, 0.8135228336579962, 0.8135228336579962, 0.8135228336579962, 0.8135228336579962, 0.8135228336579962, 0.8135228336579962, 0.8135228336579962, 0.8245662203412395, 0.8245662203412395, 0.8245662203412395, 0.8245662203412395, 0.8245662203412395, 0.8245662203412395, 0.8245662203412395, 0.8245662203412395, 0.8245662203412395, 0.8245662203412395, 0.8245662203412395, 0.8245662203412395, 0.8245662203412395, 0.8245662203412395, 0.8245662203412395, 0.8245662203412395, 0.8245662203412395, 0.8245662203412395, 0.8245662203412395, 0.8245662203412395, 0.8245662203412395, 0.8245662203412395, 0.8245662203412395, 0.8245662203412395, 0.8377222202469939, 0.8377222202469939]}], \"average_precision_score_weighted\": [{\"categories\": [\"0\", \"1\", \"2\", \"3\", \"4\", \"5\", \"6\", \"7\", \"8\", \"9\", \"10\", \"11\", \"12\", \"13\", \"14\", \"15\", \"16\", \"17\", \"18\", \"19\", \"20\", \"21\", \"22\", \"23\", \"24\", \"25\", \"26\", \"27\", \"28\", \"29\", \"30\", \"31\", \"32\", \"33\", \"34\", \"36\", \"37\"], \"mode\": \"markers\", \"name\": \"average_precision_score_weighted\", \"stepped\": false, \"type\": \"scatter\", \"data\": [0.8640246741941712, 0.8836277505100775, 0.8633447367802477, 0.8569184462724052, 0.5975436831326811, 0.8859248212532913, 0.8623541738523839, 0.8748358255478476, 0.6093647093859988, 0.783749769311547, 0.8869608101735901, 0.9158843338500849, 0.8677234822158537, 0.8374970588662048, 0.7206110086750547, 0.6983538801663315, 0.7822909096120321, 0.866809649292072, 0.8968964142954202, 0.8853602163946309, 0.8648440460321166, 0.8863428226405161, 0.8727217448436652, 0.8738413245236822, 0.901978369816157, 0.8820942490086332, 0.8851307329353143, 0.9079974806720132, 0.8783216009344522, 0.8950890645732944, 0.8732068520990947, 0.8650265858561478, 0.878500124725647, 0.8725979428620799, 0.8771515066976123, 0.9001450148681682, 0.8908659102123817]}, {\"categories\": [\"0\", \"1\", \"2\", \"3\", \"4\", \"5\", \"6\", \"7\", \"8\", \"9\", \"10\", \"11\", \"12\", \"13\", \"14\", \"15\", \"16\", \"17\", \"18\", \"19\", \"20\", \"21\", \"22\", \"23\", \"24\", \"25\", \"26\", \"27\", \"28\", \"29\", \"30\", \"31\", \"32\", \"33\", \"34\", \"36\", \"37\"], \"mode\": \"lines\", \"name\": \"average_precision_score_weighted_max\", \"stepped\": true, \"type\": \"scatter\", \"data\": [0.8640246741941712, 0.8836277505100775, 0.8836277505100775, 0.8836277505100775, 0.8836277505100775, 0.8859248212532913, 0.8859248212532913, 0.8859248212532913, 0.8859248212532913, 0.8859248212532913, 0.8869608101735901, 0.9158843338500849, 0.9158843338500849, 0.9158843338500849, 0.9158843338500849, 0.9158843338500849, 0.9158843338500849, 0.9158843338500849, 0.9158843338500849, 0.9158843338500849, 0.9158843338500849, 0.9158843338500849, 0.9158843338500849, 0.9158843338500849, 0.9158843338500849, 0.9158843338500849, 0.9158843338500849, 0.9158843338500849, 0.9158843338500849, 0.9158843338500849, 0.9158843338500849, 0.9158843338500849, 0.9158843338500849, 0.9158843338500849, 0.9158843338500849, 0.9158843338500849, 0.9158843338500849]}], \"weighted_accuracy\": [{\"categories\": [\"0\", \"1\", \"2\", \"3\", \"4\", \"5\", \"6\", \"7\", \"8\", \"9\", \"10\", \"11\", \"12\", \"13\", \"14\", \"15\", \"16\", \"17\", \"18\", \"19\", \"20\", \"21\", \"22\", \"23\", \"24\", \"25\", \"26\", \"27\", \"28\", \"29\", \"30\", \"31\", \"32\", \"33\", \"34\", \"36\", \"37\"], \"mode\": \"markers\", \"name\": \"weighted_accuracy\", \"stepped\": false, \"type\": \"scatter\", \"data\": [0.8310099034285422, 0.8426543037328149, 0.8391269077099959, 0.8569514957196901, 0.6761231905583026, 0.8741460712218515, 0.772809578105052, 0.8591257928760226, 0.6795479946403685, 0.7795757030460188, 0.8361205026949136, 0.848002545760615, 0.6967374039384658, 0.831629625611025, 0.7718456295167487, 0.792682082276927, 0.8212400378713788, 0.853335766792894, 0.8406176452813575, 0.8510146617718242, 0.8309758030835693, 0.863800242568507, 0.8343194961227695, 0.8411842878761289, 0.8639804114363132, 0.8609256782829785, 0.8586880443327409, 0.8514958414384609, 0.847304976711769, 0.8569259452907261, 0.8691773745912431, 0.8812463401084845, 0.8471558303481973, 0.8696704001564957, 0.837861946259966, 0.8960318808504794, 0.8617824556016055]}, {\"categories\": [\"0\", \"1\", \"2\", \"3\", \"4\", \"5\", \"6\", \"7\", \"8\", \"9\", \"10\", \"11\", \"12\", \"13\", \"14\", \"15\", \"16\", \"17\", \"18\", \"19\", \"20\", \"21\", \"22\", \"23\", \"24\", \"25\", \"26\", \"27\", \"28\", \"29\", \"30\", \"31\", \"32\", \"33\", \"34\", \"36\", \"37\"], \"mode\": \"lines\", \"name\": \"weighted_accuracy_max\", \"stepped\": true, \"type\": \"scatter\", \"data\": [0.8310099034285422, 0.8426543037328149, 0.8426543037328149, 0.8569514957196901, 0.8569514957196901, 0.8741460712218515, 0.8741460712218515, 0.8741460712218515, 0.8741460712218515, 0.8741460712218515, 0.8741460712218515, 0.8741460712218515, 0.8741460712218515, 0.8741460712218515, 0.8741460712218515, 0.8741460712218515, 0.8741460712218515, 0.8741460712218515, 0.8741460712218515, 0.8741460712218515, 0.8741460712218515, 0.8741460712218515, 0.8741460712218515, 0.8741460712218515, 0.8741460712218515, 0.8741460712218515, 0.8741460712218515, 0.8741460712218515, 0.8741460712218515, 0.8741460712218515, 0.8741460712218515, 0.8812463401084845, 0.8812463401084845, 0.8812463401084845, 0.8812463401084845, 0.8960318808504794, 0.8960318808504794]}], \"precision_score_micro\": [{\"categories\": [\"0\", \"1\", \"2\", \"3\", \"4\", \"5\", \"6\", \"7\", \"8\", \"9\", \"10\", \"11\", \"12\", \"13\", \"14\", \"15\", \"16\", \"17\", \"18\", \"19\", \"20\", \"21\", \"22\", \"23\", \"24\", \"25\", \"26\", \"27\", \"28\", \"29\", \"30\", \"31\", \"32\", \"33\", \"34\", \"36\", \"37\"], \"mode\": \"markers\", \"name\": \"precision_score_micro\", \"stepped\": false, \"type\": \"scatter\", \"data\": [0.8025252525252524, 0.8192929292929293, 0.8326262626262627, 0.8127609427609427, 0.6086868686868687, 0.8427609427609428, 0.7758249158249159, 0.7925252525252526, 0.6053198653198653, 0.7189562289562289, 0.8159259259259258, 0.8425925925925926, 0.7189898989898991, 0.7124579124579125, 0.7055892255892257, 0.7057239057239056, 0.7425252525252525, 0.8192592592592592, 0.8125925925925926, 0.8126599326599327, 0.8024915824915825, 0.836026936026936, 0.8093939393939394, 0.785959595959596, 0.8393265993265994, 0.8259595959595959, 0.8293939393939395, 0.8292255892255893, 0.8226599326599326, 0.8292929292929294, 0.8193939393939395, 0.8427272727272728, 0.8192929292929293, 0.8293939393939395, 0.8026599326599326, 0.8661952861952863, 0.8326599326599328]}, {\"categories\": [\"0\", \"1\", \"2\", \"3\", \"4\", \"5\", \"6\", \"7\", \"8\", \"9\", \"10\", \"11\", \"12\", \"13\", \"14\", \"15\", \"16\", \"17\", \"18\", \"19\", \"20\", \"21\", \"22\", \"23\", \"24\", \"25\", \"26\", \"27\", \"28\", \"29\", \"30\", \"31\", \"32\", \"33\", \"34\", \"36\", \"37\"], \"mode\": \"lines\", \"name\": \"precision_score_micro_max\", \"stepped\": true, \"type\": \"scatter\", \"data\": [0.8025252525252524, 0.8192929292929293, 0.8326262626262627, 0.8326262626262627, 0.8326262626262627, 0.8427609427609428, 0.8427609427609428, 0.8427609427609428, 0.8427609427609428, 0.8427609427609428, 0.8427609427609428, 0.8427609427609428, 0.8427609427609428, 0.8427609427609428, 0.8427609427609428, 0.8427609427609428, 0.8427609427609428, 0.8427609427609428, 0.8427609427609428, 0.8427609427609428, 0.8427609427609428, 0.8427609427609428, 0.8427609427609428, 0.8427609427609428, 0.8427609427609428, 0.8427609427609428, 0.8427609427609428, 0.8427609427609428, 0.8427609427609428, 0.8427609427609428, 0.8427609427609428, 0.8427609427609428, 0.8427609427609428, 0.8427609427609428, 0.8427609427609428, 0.8661952861952863, 0.8661952861952863]}], \"matthews_correlation\": [{\"categories\": [\"0\", \"1\", \"2\", \"3\", \"4\", \"5\", \"6\", \"7\", \"8\", \"9\", \"10\", \"11\", \"12\", \"13\", \"14\", \"15\", \"16\", \"17\", \"18\", \"19\", \"20\", \"21\", \"22\", \"23\", \"24\", \"25\", \"26\", \"27\", \"28\", \"29\", \"30\", \"31\", \"32\", \"33\", \"34\", \"36\", \"37\"], \"mode\": \"markers\", \"name\": \"matthews_correlation\", \"stepped\": false, \"type\": \"scatter\", \"data\": [0.5489062305154261, 0.5873460381369527, 0.6354892864279177, 0.5608122139725129, 0.04283082999590893, 0.6381039196140609, 0.5325759455847078, 0.4911699348717075, 0.018564058481995185, 0.3178485514792576, 0.5872562764922754, 0.6625362246726777, 0.4638721240715053, 0.2581812494806124, 0.26930198599562705, 0.23915339956101653, 0.3583389725951234, 0.5836440197009813, 0.5751489950255402, 0.5671282951831352, 0.5498460219699872, 0.6241481617546013, 0.5614545486950028, 0.4842624392387788, 0.6281144802191004, 0.5974617685099206, 0.60642939257564, 0.6191307977025471, 0.5921556220682583, 0.6072506880632881, 0.5723322871623834, 0.6314577046958393, 0.5848710136966706, 0.6002772662770454, 0.5452549324230239, 0.6924546051394648, 0.6242154414463272]}, {\"categories\": [\"0\", \"1\", \"2\", \"3\", \"4\", \"5\", \"6\", \"7\", \"8\", \"9\", \"10\", \"11\", \"12\", \"13\", \"14\", \"15\", \"16\", \"17\", \"18\", \"19\", \"20\", \"21\", \"22\", \"23\", \"24\", \"25\", \"26\", \"27\", \"28\", \"29\", \"30\", \"31\", \"32\", \"33\", \"34\", \"36\", \"37\"], \"mode\": \"lines\", \"name\": \"matthews_correlation_max\", \"stepped\": true, \"type\": \"scatter\", \"data\": [0.5489062305154261, 0.5873460381369527, 0.6354892864279177, 0.6354892864279177, 0.6354892864279177, 0.6381039196140609, 0.6381039196140609, 0.6381039196140609, 0.6381039196140609, 0.6381039196140609, 0.6381039196140609, 0.6625362246726777, 0.6625362246726777, 0.6625362246726777, 0.6625362246726777, 0.6625362246726777, 0.6625362246726777, 0.6625362246726777, 0.6625362246726777, 0.6625362246726777, 0.6625362246726777, 0.6625362246726777, 0.6625362246726777, 0.6625362246726777, 0.6625362246726777, 0.6625362246726777, 0.6625362246726777, 0.6625362246726777, 0.6625362246726777, 0.6625362246726777, 0.6625362246726777, 0.6625362246726777, 0.6625362246726777, 0.6625362246726777, 0.6625362246726777, 0.6924546051394648, 0.6924546051394648]}], \"average_precision_score_micro\": [{\"categories\": [\"0\", \"1\", \"2\", \"3\", \"4\", \"5\", \"6\", \"7\", \"8\", \"9\", \"10\", \"11\", \"12\", \"13\", \"14\", \"15\", \"16\", \"17\", \"18\", \"19\", \"20\", \"21\", \"22\", \"23\", \"24\", \"25\", \"26\", \"27\", \"28\", \"29\", \"30\", \"31\", \"32\", \"33\", \"34\", \"36\", \"37\"], \"mode\": \"markers\", \"name\": \"average_precision_score_micro\", \"stepped\": false, \"type\": \"scatter\", \"data\": [0.8704078136362977, 0.8886385174313017, 0.8585542308566421, 0.865895148766028, 0.6172023105614443, 0.8886020541955958, 0.8461984295116137, 0.8666785153330024, 0.6405314493701254, 0.7998701264415843, 0.8895545585388481, 0.9049495320078916, 0.8063384737825383, 0.8242330691877807, 0.7501462056591205, 0.7340947651855058, 0.7996509217195085, 0.8714048206298438, 0.8996901115205435, 0.8879439983487675, 0.869663552919974, 0.8921865976203006, 0.882681474385822, 0.8752284926958952, 0.9080469256884536, 0.8859097927582603, 0.8894533985611729, 0.9098545946352559, 0.886985555206651, 0.9014494949390081, 0.8732533305841602, 0.8711589614761884, 0.8859074586421891, 0.8735000655966183, 0.8792322954996887, 0.9033527361098, 0.8899368260870494]}, {\"categories\": [\"0\", \"1\", \"2\", \"3\", \"4\", \"5\", \"6\", \"7\", \"8\", \"9\", \"10\", \"11\", \"12\", \"13\", \"14\", \"15\", \"16\", \"17\", \"18\", \"19\", \"20\", \"21\", \"22\", \"23\", \"24\", \"25\", \"26\", \"27\", \"28\", \"29\", \"30\", \"31\", \"32\", \"33\", \"34\", \"36\", \"37\"], \"mode\": \"lines\", \"name\": \"average_precision_score_micro_max\", \"stepped\": true, \"type\": \"scatter\", \"data\": [0.8704078136362977, 0.8886385174313017, 0.8886385174313017, 0.8886385174313017, 0.8886385174313017, 0.8886385174313017, 0.8886385174313017, 0.8886385174313017, 0.8886385174313017, 0.8886385174313017, 0.8895545585388481, 0.9049495320078916, 0.9049495320078916, 0.9049495320078916, 0.9049495320078916, 0.9049495320078916, 0.9049495320078916, 0.9049495320078916, 0.9049495320078916, 0.9049495320078916, 0.9049495320078916, 0.9049495320078916, 0.9049495320078916, 0.9049495320078916, 0.9080469256884536, 0.9080469256884536, 0.9080469256884536, 0.9098545946352559, 0.9098545946352559, 0.9098545946352559, 0.9098545946352559, 0.9098545946352559, 0.9098545946352559, 0.9098545946352559, 0.9098545946352559, 0.9098545946352559, 0.9098545946352559]}], \"precision_score_macro\": [{\"categories\": [\"0\", \"1\", \"2\", \"3\", \"4\", \"5\", \"6\", \"7\", \"8\", \"9\", \"10\", \"11\", \"12\", \"13\", \"14\", \"15\", \"16\", \"17\", \"18\", \"19\", \"20\", \"21\", \"22\", \"23\", \"24\", \"25\", \"26\", \"27\", \"28\", \"29\", \"30\", \"31\", \"32\", \"33\", \"34\", \"36\", \"37\"], \"mode\": \"markers\", \"name\": \"precision_score_macro\", \"stepped\": false, \"type\": \"scatter\", \"data\": [0.7842311567478019, 0.7983113869170717, 0.8109295535111837, 0.8089334947447773, 0.5227595853971748, 0.8372703686580995, 0.752582798749219, 0.79596657538909, 0.5099946955194615, 0.682313764863375, 0.7974359264284638, 0.8262243113724833, 0.7158064911004907, 0.8185810270356743, 0.6544809941520469, 0.659729315628192, 0.7343305405057553, 0.8103687278563593, 0.7997315285358764, 0.8069958359687961, 0.7848563995587859, 0.8249729466419509, 0.7840229473168495, 0.7754954310295195, 0.8214659012906393, 0.818548953331562, 0.8156046280047579, 0.8191098354141833, 0.8015634564256827, 0.8144778876832098, 0.8230769165272088, 0.8410357210357211, 0.8024406978657214, 0.8257101491750615, 0.7902664977269817, 0.8663370922962957, 0.8310218370147168]}, {\"categories\": [\"0\", \"1\", \"2\", \"3\", \"4\", \"5\", \"6\", \"7\", \"8\", \"9\", \"10\", \"11\", \"12\", \"13\", \"14\", \"15\", \"16\", \"17\", \"18\", \"19\", \"20\", \"21\", \"22\", \"23\", \"24\", \"25\", \"26\", \"27\", \"28\", \"29\", \"30\", \"31\", \"32\", \"33\", \"34\", \"36\", \"37\"], \"mode\": \"lines\", \"name\": \"precision_score_macro_max\", \"stepped\": true, \"type\": \"scatter\", \"data\": [0.7842311567478019, 0.7983113869170717, 0.8109295535111837, 0.8109295535111837, 0.8109295535111837, 0.8372703686580995, 0.8372703686580995, 0.8372703686580995, 0.8372703686580995, 0.8372703686580995, 0.8372703686580995, 0.8372703686580995, 0.8372703686580995, 0.8372703686580995, 0.8372703686580995, 0.8372703686580995, 0.8372703686580995, 0.8372703686580995, 0.8372703686580995, 0.8372703686580995, 0.8372703686580995, 0.8372703686580995, 0.8372703686580995, 0.8372703686580995, 0.8372703686580995, 0.8372703686580995, 0.8372703686580995, 0.8372703686580995, 0.8372703686580995, 0.8372703686580995, 0.8372703686580995, 0.8410357210357211, 0.8410357210357211, 0.8410357210357211, 0.8410357210357211, 0.8663370922962957, 0.8663370922962957]}], \"AUC_micro\": [{\"categories\": [\"0\", \"1\", \"2\", \"3\", \"4\", \"5\", \"6\", \"7\", \"8\", \"9\", \"10\", \"11\", \"12\", \"13\", \"14\", \"15\", \"16\", \"17\", \"18\", \"19\", \"20\", \"21\", \"22\", \"23\", \"24\", \"25\", \"26\", \"27\", \"28\", \"29\", \"30\", \"31\", \"32\", \"33\", \"34\", \"36\", \"37\"], \"mode\": \"markers\", \"name\": \"AUC_micro\", \"stepped\": false, \"type\": \"scatter\", \"data\": [0.8765203312587152, 0.8907238819168114, 0.864210859436112, 0.8682047580178893, 0.6351816209230351, 0.8926122028364452, 0.8457646702717408, 0.8698473999251778, 0.6532108900452335, 0.806897588681427, 0.8928030711151923, 0.9072272659252456, 0.8048139169472502, 0.8226710947862462, 0.7674271128796382, 0.7593817637656022, 0.8038174574023059, 0.8754656735707241, 0.8994406319083087, 0.8857052681699146, 0.8694759990477161, 0.8973252321191715, 0.8830973131993334, 0.8743265891235588, 0.9056303098323301, 0.8907071285243003, 0.8886878379757167, 0.90797311838928, 0.8926078053259872, 0.9000110192837466, 0.877899173553719, 0.8832978199503452, 0.8893005305581063, 0.8759108492330715, 0.8815886848280788, 0.9023028942624903, 0.8896457096214672]}, {\"categories\": [\"0\", \"1\", \"2\", \"3\", \"4\", \"5\", \"6\", \"7\", \"8\", \"9\", \"10\", \"11\", \"12\", \"13\", \"14\", \"15\", \"16\", \"17\", \"18\", \"19\", \"20\", \"21\", \"22\", \"23\", \"24\", \"25\", \"26\", \"27\", \"28\", \"29\", \"30\", \"31\", \"32\", \"33\", \"34\", \"36\", \"37\"], \"mode\": \"lines\", \"name\": \"AUC_micro_max\", \"stepped\": true, \"type\": \"scatter\", \"data\": [0.8765203312587152, 0.8907238819168114, 0.8907238819168114, 0.8907238819168114, 0.8907238819168114, 0.8926122028364452, 0.8926122028364452, 0.8926122028364452, 0.8926122028364452, 0.8926122028364452, 0.8928030711151923, 0.9072272659252456, 0.9072272659252456, 0.9072272659252456, 0.9072272659252456, 0.9072272659252456, 0.9072272659252456, 0.9072272659252456, 0.9072272659252456, 0.9072272659252456, 0.9072272659252456, 0.9072272659252456, 0.9072272659252456, 0.9072272659252456, 0.9072272659252456, 0.9072272659252456, 0.9072272659252456, 0.90797311838928, 0.90797311838928, 0.90797311838928, 0.90797311838928, 0.90797311838928, 0.90797311838928, 0.90797311838928, 0.90797311838928, 0.90797311838928, 0.90797311838928]}], \"norm_macro_recall\": [{\"categories\": [\"0\", \"1\", \"2\", \"3\", \"4\", \"5\", \"6\", \"7\", \"8\", \"9\", \"10\", \"11\", \"12\", \"13\", \"14\", \"15\", \"16\", \"17\", \"18\", \"19\", \"20\", \"21\", \"22\", \"23\", \"24\", \"25\", \"26\", \"27\", \"28\", \"29\", \"30\", \"31\", \"32\", \"33\", \"34\", \"36\", \"37\"], \"mode\": \"markers\", \"name\": \"norm_macro_recall\", \"stepped\": false, \"type\": \"scatter\", \"data\": [0.5331084779360642, 0.5799208075070145, 0.6503222434256918, 0.5121244397106466, 0.0514504652435687, 0.6062012751667923, 0.5620941138182518, 0.4083073221004256, 0.01765953145263488, 0.27953273470514844, 0.5824203513858687, 0.674646567750016, 0.498867833350592, 0.1084823739996154, 0.23555476658924931, 0.18229313056899263, 0.27672697327869744, 0.5514810376879341, 0.5548928238583412, 0.5274969550831621, 0.5329625191694157, 0.6026435302297372, 0.5559367249022422, 0.4272859065962514, 0.6151762600038462, 0.5625778487847453, 0.5845224534879708, 0.6040991730646903, 0.5825806101668172, 0.5885323747392712, 0.5082264530540391, 0.586004230831817, 0.5678974541043506, 0.5546413408482372, 0.5168863444725514, 0.6570092259747432, 0.5928278031726307]}, {\"categories\": [\"0\", \"1\", \"2\", \"3\", \"4\", \"5\", \"6\", \"7\", \"8\", \"9\", \"10\", \"11\", \"12\", \"13\", \"14\", \"15\", \"16\", \"17\", \"18\", \"19\", \"20\", \"21\", \"22\", \"23\", \"24\", \"25\", \"26\", \"27\", \"28\", \"29\", \"30\", \"31\", \"32\", \"33\", \"34\", \"36\", \"37\"], \"mode\": \"lines\", \"name\": \"norm_macro_recall_max\", \"stepped\": true, \"type\": \"scatter\", \"data\": [0.5331084779360642, 0.5799208075070145, 0.6503222434256918, 0.6503222434256918, 0.6503222434256918, 0.6503222434256918, 0.6503222434256918, 0.6503222434256918, 0.6503222434256918, 0.6503222434256918, 0.6503222434256918, 0.674646567750016, 0.674646567750016, 0.674646567750016, 0.674646567750016, 0.674646567750016, 0.674646567750016, 0.674646567750016, 0.674646567750016, 0.674646567750016, 0.674646567750016, 0.674646567750016, 0.674646567750016, 0.674646567750016, 0.674646567750016, 0.674646567750016, 0.674646567750016, 0.674646567750016, 0.674646567750016, 0.674646567750016, 0.674646567750016, 0.674646567750016, 0.674646567750016, 0.674646567750016, 0.674646567750016, 0.674646567750016, 0.674646567750016]}], \"f1_score_micro\": [{\"categories\": [\"0\", \"1\", \"2\", \"3\", \"4\", \"5\", \"6\", \"7\", \"8\", \"9\", \"10\", \"11\", \"12\", \"13\", \"14\", \"15\", \"16\", \"17\", \"18\", \"19\", \"20\", \"21\", \"22\", \"23\", \"24\", \"25\", \"26\", \"27\", \"28\", \"29\", \"30\", \"31\", \"32\", \"33\", \"34\", \"36\", \"37\"], \"mode\": \"markers\", \"name\": \"f1_score_micro\", \"stepped\": false, \"type\": \"scatter\", \"data\": [0.8025252525252525, 0.8192929292929293, 0.8326262626262627, 0.8127609427609427, 0.6086868686868687, 0.8427609427609428, 0.7758249158249159, 0.7925252525252525, 0.6053198653198653, 0.7189562289562289, 0.815925925925926, 0.8425925925925926, 0.7189898989898991, 0.7124579124579125, 0.7055892255892257, 0.7057239057239056, 0.7425252525252525, 0.8192592592592592, 0.8125925925925926, 0.8126599326599327, 0.8024915824915825, 0.836026936026936, 0.8093939393939394, 0.785959595959596, 0.8393265993265993, 0.8259595959595959, 0.8293939393939395, 0.8292255892255893, 0.8226599326599326, 0.8292929292929294, 0.8193939393939395, 0.8427272727272728, 0.8192929292929293, 0.8293939393939395, 0.8026599326599326, 0.8661952861952863, 0.8326599326599328]}, {\"categories\": [\"0\", \"1\", \"2\", \"3\", \"4\", \"5\", \"6\", \"7\", \"8\", \"9\", \"10\", \"11\", \"12\", \"13\", \"14\", \"15\", \"16\", \"17\", \"18\", \"19\", \"20\", \"21\", \"22\", \"23\", \"24\", \"25\", \"26\", \"27\", \"28\", \"29\", \"30\", \"31\", \"32\", \"33\", \"34\", \"36\", \"37\"], \"mode\": \"lines\", \"name\": \"f1_score_micro_max\", \"stepped\": true, \"type\": \"scatter\", \"data\": [0.8025252525252525, 0.8192929292929293, 0.8326262626262627, 0.8326262626262627, 0.8326262626262627, 0.8427609427609428, 0.8427609427609428, 0.8427609427609428, 0.8427609427609428, 0.8427609427609428, 0.8427609427609428, 0.8427609427609428, 0.8427609427609428, 0.8427609427609428, 0.8427609427609428, 0.8427609427609428, 0.8427609427609428, 0.8427609427609428, 0.8427609427609428, 0.8427609427609428, 0.8427609427609428, 0.8427609427609428, 0.8427609427609428, 0.8427609427609428, 0.8427609427609428, 0.8427609427609428, 0.8427609427609428, 0.8427609427609428, 0.8427609427609428, 0.8427609427609428, 0.8427609427609428, 0.8427609427609428, 0.8427609427609428, 0.8427609427609428, 0.8427609427609428, 0.8661952861952863, 0.8661952861952863]}], \"recall_score_weighted\": [{\"categories\": [\"0\", \"1\", \"2\", \"3\", \"4\", \"5\", \"6\", \"7\", \"8\", \"9\", \"10\", \"11\", \"12\", \"13\", \"14\", \"15\", \"16\", \"17\", \"18\", \"19\", \"20\", \"21\", \"22\", \"23\", \"24\", \"25\", \"26\", \"27\", \"28\", \"29\", \"30\", \"31\", \"32\", \"33\", \"34\", \"36\", \"37\"], \"mode\": \"markers\", \"name\": \"recall_score_weighted\", \"stepped\": false, \"type\": \"scatter\", \"data\": [0.8025252525252524, 0.8192929292929293, 0.8326262626262627, 0.8127609427609427, 0.6086868686868687, 0.8427609427609428, 0.7758249158249159, 0.7925252525252526, 0.6053198653198653, 0.7189562289562289, 0.8159259259259258, 0.8425925925925926, 0.7189898989898991, 0.7124579124579125, 0.7055892255892257, 0.7057239057239056, 0.7425252525252525, 0.8192592592592592, 0.8125925925925926, 0.8126599326599327, 0.8024915824915825, 0.836026936026936, 0.8093939393939394, 0.785959595959596, 0.8393265993265994, 0.8259595959595959, 0.8293939393939395, 0.8292255892255893, 0.8226599326599326, 0.8292929292929294, 0.8193939393939395, 0.8427272727272728, 0.8192929292929293, 0.8293939393939395, 0.8026599326599326, 0.8661952861952863, 0.8326599326599328]}, {\"categories\": [\"0\", \"1\", \"2\", \"3\", \"4\", \"5\", \"6\", \"7\", \"8\", \"9\", \"10\", \"11\", \"12\", \"13\", \"14\", \"15\", \"16\", \"17\", \"18\", \"19\", \"20\", \"21\", \"22\", \"23\", \"24\", \"25\", \"26\", \"27\", \"28\", \"29\", \"30\", \"31\", \"32\", \"33\", \"34\", \"36\", \"37\"], \"mode\": \"lines\", \"name\": \"recall_score_weighted_max\", \"stepped\": true, \"type\": \"scatter\", \"data\": [0.8025252525252524, 0.8192929292929293, 0.8326262626262627, 0.8326262626262627, 0.8326262626262627, 0.8427609427609428, 0.8427609427609428, 0.8427609427609428, 0.8427609427609428, 0.8427609427609428, 0.8427609427609428, 0.8427609427609428, 0.8427609427609428, 0.8427609427609428, 0.8427609427609428, 0.8427609427609428, 0.8427609427609428, 0.8427609427609428, 0.8427609427609428, 0.8427609427609428, 0.8427609427609428, 0.8427609427609428, 0.8427609427609428, 0.8427609427609428, 0.8427609427609428, 0.8427609427609428, 0.8427609427609428, 0.8427609427609428, 0.8427609427609428, 0.8427609427609428, 0.8427609427609428, 0.8427609427609428, 0.8427609427609428, 0.8427609427609428, 0.8427609427609428, 0.8661952861952863, 0.8661952861952863]}]}, \"metricName\": null, \"primaryMetricName\": \"accuracy\", \"showLegend\": false}, \"run_metrics\": [{\"name\": \"experiment_status\", \"run_id\": \"AutoML_3bfa6805-f343-4c31-8548-f97257b3c500\", \"categories\": [0, 1, 2, 3, 4, 5, 6, 7, 8, 9, 10, 11, 12, 13], \"series\": [{\"data\": [\"DatasetEvaluation\", \"FeaturesGeneration\", \"DatasetFeaturization\", \"DatasetFeaturizationCompleted\", \"DatasetCrossValidationSplit\", \"ModelSelection\", \"BestRunExplainModel\", \"ModelExplanationDataSetSetup\", \"PickSurrogateModel\", \"EngineeredFeatureExplanations\", \"EngineeredFeatureExplanations\", \"RawFeaturesExplanations\", \"RawFeaturesExplanations\", \"BestRunExplainModel\"]}]}, {\"name\": \"experiment_status_description\", \"run_id\": \"AutoML_3bfa6805-f343-4c31-8548-f97257b3c500\", \"categories\": [0, 1, 2, 3, 4, 5, 6, 7, 8, 9, 10, 11, 12, 13], \"series\": [{\"data\": [\"Gathering dataset statistics.\", \"Generating features for the dataset.\", \"Beginning to fit featurizers and featurize the dataset.\", \"Completed fit featurizers and featurizing the dataset.\", \"Generating individually featurized CV splits.\", \"Beginning model selection.\", \"Best run model explanations started\", \"Model explanations data setup completed\", \"Choosing LightGBM as the surrogate model for explanations\", \"Computation of engineered features started\", \"Computation of engineered features completed\", \"Computation of raw features started\", \"Computation of raw features completed\", \"Best run model explanations completed\"]}]}, {\"name\": \"precision_score_macro\", \"run_id\": \"AutoML_3bfa6805-f343-4c31-8548-f97257b3c500\", \"categories\": [0], \"series\": [{\"data\": [0.8663370922962957]}]}, {\"name\": \"recall_score_micro\", \"run_id\": \"AutoML_3bfa6805-f343-4c31-8548-f97257b3c500\", \"categories\": [0], \"series\": [{\"data\": [0.8661952861952863]}]}, {\"name\": \"AUC_weighted\", \"run_id\": \"AutoML_3bfa6805-f343-4c31-8548-f97257b3c500\", \"categories\": [0], \"series\": [{\"data\": [0.8926262715917889]}]}, {\"name\": \"recall_score_weighted\", \"run_id\": \"AutoML_3bfa6805-f343-4c31-8548-f97257b3c500\", \"categories\": [0], \"series\": [{\"data\": [0.8661952861952863]}]}, {\"name\": \"recall_score_macro\", \"run_id\": \"AutoML_3bfa6805-f343-4c31-8548-f97257b3c500\", \"categories\": [0], \"series\": [{\"data\": [0.8285046129873717]}]}, {\"name\": \"AUC_micro\", \"run_id\": \"AutoML_3bfa6805-f343-4c31-8548-f97257b3c500\", \"categories\": [0], \"series\": [{\"data\": [0.9023028942624903]}]}, {\"name\": \"average_precision_score_weighted\", \"run_id\": \"AutoML_3bfa6805-f343-4c31-8548-f97257b3c500\", \"categories\": [0], \"series\": [{\"data\": [0.9001450148681682]}]}, {\"name\": \"AUC_macro\", \"run_id\": \"AutoML_3bfa6805-f343-4c31-8548-f97257b3c500\", \"categories\": [0], \"series\": [{\"data\": [0.8926262715917889]}]}, {\"name\": \"log_loss\", \"run_id\": \"AutoML_3bfa6805-f343-4c31-8548-f97257b3c500\", \"categories\": [0], \"series\": [{\"data\": [0.43032743447102967]}]}, {\"name\": \"average_precision_score_macro\", \"run_id\": \"AutoML_3bfa6805-f343-4c31-8548-f97257b3c500\", \"categories\": [0], \"series\": [{\"data\": [0.8743104897314934]}]}, {\"name\": \"matthews_correlation\", \"run_id\": \"AutoML_3bfa6805-f343-4c31-8548-f97257b3c500\", \"categories\": [0], \"series\": [{\"data\": [0.6924546051394648]}]}, {\"name\": \"f1_score_macro\", \"run_id\": \"AutoML_3bfa6805-f343-4c31-8548-f97257b3c500\", \"categories\": [0], \"series\": [{\"data\": [0.8377222202469939]}]}, {\"name\": \"precision_score_weighted\", \"run_id\": \"AutoML_3bfa6805-f343-4c31-8548-f97257b3c500\", \"categories\": [0], \"series\": [{\"data\": [0.8716420104178454]}]}, {\"name\": \"f1_score_micro\", \"run_id\": \"AutoML_3bfa6805-f343-4c31-8548-f97257b3c500\", \"categories\": [0], \"series\": [{\"data\": [0.8661952861952863]}]}, {\"name\": \"average_precision_score_micro\", \"run_id\": \"AutoML_3bfa6805-f343-4c31-8548-f97257b3c500\", \"categories\": [0], \"series\": [{\"data\": [0.9033527361098]}]}, {\"name\": \"accuracy\", \"run_id\": \"AutoML_3bfa6805-f343-4c31-8548-f97257b3c500\", \"categories\": [0], \"series\": [{\"data\": [0.8661952861952863]}]}, {\"name\": \"weighted_accuracy\", \"run_id\": \"AutoML_3bfa6805-f343-4c31-8548-f97257b3c500\", \"categories\": [0], \"series\": [{\"data\": [0.8960318808504794]}]}, {\"name\": \"norm_macro_recall\", \"run_id\": \"AutoML_3bfa6805-f343-4c31-8548-f97257b3c500\", \"categories\": [0], \"series\": [{\"data\": [0.6570092259747432]}]}, {\"name\": \"balanced_accuracy\", \"run_id\": \"AutoML_3bfa6805-f343-4c31-8548-f97257b3c500\", \"categories\": [0], \"series\": [{\"data\": [0.8285046129873717]}]}, {\"name\": \"precision_score_micro\", \"run_id\": \"AutoML_3bfa6805-f343-4c31-8548-f97257b3c500\", \"categories\": [0], \"series\": [{\"data\": [0.8661952861952863]}]}, {\"name\": \"f1_score_weighted\", \"run_id\": \"AutoML_3bfa6805-f343-4c31-8548-f97257b3c500\", \"categories\": [0], \"series\": [{\"data\": [0.8608884425043768]}]}], \"run_logs\": \"\\nRun is completed.\", \"graph\": {}, \"widget_settings\": {\"childWidgetDisplay\": \"popup\", \"send_telemetry\": false, \"log_level\": \"INFO\", \"sdk_version\": \"1.36.0\"}, \"loading\": false}"
     },
     "metadata": {},
     "output_type": "display_data"
    }
   ],
   "source": [
    "RunDetails(remote_run).show()"
   ]
  },
  {
   "cell_type": "markdown",
   "metadata": {},
   "source": [
    "## Best Model\n",
    "\n",
    "TODO: In the cell below, get the best model from the automl experiments and display all the properties of the model.\n",
    "\n"
   ]
  },
  {
   "cell_type": "code",
   "execution_count": null,
   "metadata": {
    "gather": {
     "logged": 1598431425670
    },
    "jupyter": {
     "outputs_hidden": false,
     "source_hidden": false
    },
    "nteract": {
     "transient": {
      "deleting": false
     }
    }
   },
   "outputs": [],
   "source": []
  },
  {
   "cell_type": "code",
   "execution_count": 10,
   "metadata": {
    "gather": {
     "logged": 1598431426111
    },
    "jupyter": {
     "outputs_hidden": false,
     "source_hidden": false
    },
    "nteract": {
     "transient": {
      "deleting": false
     }
    }
   },
   "outputs": [
    {
     "data": {
      "text/html": [
       "<table style=\"width:100%\"><tr><th>Experiment</th><th>Id</th><th>Type</th><th>Status</th><th>Details Page</th><th>Docs Page</th></tr><tr><td>automl-heart-experiment</td><td>AutoML_3bfa6805-f343-4c31-8548-f97257b3c500</td><td>automl</td><td>Completed</td><td><a href=\"https://ml.azure.com/runs/AutoML_3bfa6805-f343-4c31-8548-f97257b3c500?wsid=/subscriptions/3e42d11f-d64d-4173-af9b-12ecaa1030b3/resourcegroups/aml-quickstarts-169400/workspaces/quick-starts-ws-169400&amp;tid=660b3398-b80e-49d2-bc5b-ac1dc93b5254\" target=\"_blank\" rel=\"noopener\">Link to Azure Machine Learning studio</a></td><td><a href=\"https://docs.microsoft.com/en-us/python/api/overview/azure/ml/intro?view=azure-ml-py\" target=\"_blank\" rel=\"noopener\">Link to Documentation</a></td></tr></table>"
      ],
      "text/plain": [
       "<IPython.core.display.HTML object>"
      ]
     },
     "metadata": {},
     "output_type": "display_data"
    },
    {
     "name": "stdout",
     "output_type": "stream",
     "text": [
      "\n",
      "\n",
      "****************************************************************************************************\n",
      "DATA GUARDRAILS: \n",
      "\n",
      "TYPE:         Class balancing detection\n",
      "STATUS:       PASSED\n",
      "DESCRIPTION:  Your inputs were analyzed, and all classes are balanced in your training data.\n",
      "              Learn more about imbalanced data: https://aka.ms/AutomatedMLImbalancedData\n",
      "\n",
      "****************************************************************************************************\n",
      "\n",
      "TYPE:         Missing feature values imputation\n",
      "STATUS:       PASSED\n",
      "DESCRIPTION:  No feature missing values were detected in the training data.\n",
      "              Learn more about missing value imputation: https://aka.ms/AutomatedMLFeaturization\n",
      "\n",
      "****************************************************************************************************\n",
      "\n",
      "TYPE:         High cardinality feature detection\n",
      "STATUS:       PASSED\n",
      "DESCRIPTION:  Your inputs were analyzed, and no high cardinality features were detected.\n",
      "              Learn more about high cardinality feature handling: https://aka.ms/AutomatedMLFeaturization\n",
      "\n",
      "****************************************************************************************************\n",
      "\n",
      "****************************************************************************************************\n",
      "ITERATION: The iteration being evaluated.\n",
      "PIPELINE: A summary description of the pipeline being evaluated.\n",
      "DURATION: Time taken for the current iteration.\n",
      "METRIC: The result of computing score on the fitted pipeline.\n",
      "BEST: The best observed score thus far.\n",
      "****************************************************************************************************\n",
      "\n",
      " ITERATION   PIPELINE                                       DURATION      METRIC      BEST\n",
      "         0   MaxAbsScaler LightGBM                          0:00:40       0.8025    0.8025\n",
      "         1   MaxAbsScaler XGBoostClassifier                 0:00:41       0.8193    0.8193\n",
      "         2   MaxAbsScaler ExtremeRandomTrees                0:00:40       0.8326    0.8326\n",
      "         3   SparseNormalizer XGBoostClassifier             0:00:41       0.8128    0.8326\n",
      "         4   StandardScalerWrapper KNN                      0:01:59       0.6087    0.8326\n",
      "         5   MaxAbsScaler LightGBM                          0:02:00       0.8428    0.8428\n",
      "         6   RobustScaler LogisticRegression                0:01:47       0.7758    0.8428\n",
      "         7   MaxAbsScaler LightGBM                          0:00:44       0.7925    0.8428\n",
      "        10   StandardScalerWrapper XGBoostClassifier        0:00:37       0.8159    0.8428\n",
      "        11   MinMaxScaler RandomForest                      0:00:42       0.8426    0.8428\n",
      "         8   StandardScalerWrapper KNN                      0:00:39       0.6053    0.8428\n",
      "         9   StandardScalerWrapper SVM                      0:00:38       0.7190    0.8428\n",
      "        12   StandardScalerWrapper LogisticRegression       0:00:42       0.7190    0.8428\n",
      "        13   StandardScalerWrapper KNN                      0:00:35       0.7125    0.8428\n",
      "        14   RobustScaler KNN                               0:00:40       0.7056    0.8428\n",
      "        15   MinMaxScaler KNN                               0:00:43       0.7057    0.8428\n",
      "        16   SparseNormalizer KNN                           0:00:39       0.7425    0.8428\n",
      "        17   MaxAbsScaler LogisticRegression                0:00:45       0.8193    0.8428\n",
      "        18   StandardScalerWrapper XGBoostClassifier        0:00:39       0.8126    0.8428\n",
      "        19   StandardScalerWrapper XGBoostClassifier        0:00:46       0.8127    0.8428\n",
      "        20   MaxAbsScaler LogisticRegression                0:00:40       0.8025    0.8428\n",
      "        21   StandardScalerWrapper XGBoostClassifier        0:00:44       0.8360    0.8428\n",
      "        22   SparseNormalizer RandomForest                  0:00:43       0.8094    0.8428\n",
      "        23   StandardScalerWrapper RandomForest             0:00:40       0.7860    0.8428\n",
      "        24   StandardScalerWrapper XGBoostClassifier        0:00:41       0.8393    0.8428\n",
      "        25   MinMaxScaler LightGBM                          0:00:39       0.8260    0.8428\n",
      "        26   SparseNormalizer XGBoostClassifier             0:00:39       0.8294    0.8428\n",
      "        27   RobustScaler RandomForest                      0:00:45       0.8292    0.8428\n",
      "        28   RobustScaler LightGBM                          0:00:53       0.8227    0.8428\n",
      "        29   StandardScalerWrapper XGBoostClassifier        0:00:42       0.8293    0.8428\n",
      "        30   RobustScaler LightGBM                          0:00:38       0.8194    0.8428\n",
      "        31   StandardScalerWrapper XGBoostClassifier        0:00:41       0.8427    0.8428\n",
      "        32   RobustScaler LightGBM                          0:00:39       0.8193    0.8428\n",
      "        33   SparseNormalizer XGBoostClassifier             0:00:28       0.8294    0.8428\n",
      "        34   SparseNormalizer XGBoostClassifier             0:00:25       0.8027    0.8428\n",
      "        35                                                  0:00:06          nan    0.8428\n",
      "        36    VotingEnsemble                                0:00:56       0.8662    0.8662\n",
      "        37    StackEnsemble                                 0:01:01       0.8327    0.8662\n"
     ]
    },
    {
     "data": {
      "text/plain": [
       "{'runId': 'AutoML_3bfa6805-f343-4c31-8548-f97257b3c500',\n",
       " 'target': 'heart-compute',\n",
       " 'status': 'Completed',\n",
       " 'startTimeUtc': '2021-12-27T14:51:30.107816Z',\n",
       " 'endTimeUtc': '2021-12-27T15:08:36.812883Z',\n",
       " 'services': {},\n",
       " 'warnings': [{'source': 'JasmineService',\n",
       "   'message': 'No scores improved over last 20 iterations, so experiment stopped early. This early stopping behavior can be disabled by setting enable_early_stopping = False in AutoMLConfig for notebook/python SDK runs.'}],\n",
       " 'properties': {'num_iterations': '40',\n",
       "  'training_type': 'TrainFull',\n",
       "  'acquisition_function': 'EI',\n",
       "  'primary_metric': 'accuracy',\n",
       "  'train_split': '0',\n",
       "  'acquisition_parameter': '0',\n",
       "  'num_cross_validation': '3',\n",
       "  'target': 'heart-compute',\n",
       "  'AMLSettingsJsonString': '{\"path\":null,\"name\":\"automl-heart-experiment\",\"subscription_id\":\"3e42d11f-d64d-4173-af9b-12ecaa1030b3\",\"resource_group\":\"aml-quickstarts-169400\",\"workspace_name\":\"quick-starts-ws-169400\",\"region\":\"southcentralus\",\"compute_target\":\"heart-compute\",\"spark_service\":null,\"azure_service\":\"remote\",\"many_models\":false,\"pipeline_fetch_max_batch_size\":1,\"enable_batch_run\":false,\"enable_run_restructure\":false,\"start_auxiliary_runs_before_parent_complete\":false,\"enable_code_generation\":false,\"iterations\":40,\"primary_metric\":\"accuracy\",\"task_type\":\"classification\",\"positive_label\":null,\"data_script\":null,\"test_size\":0.0,\"test_include_predictions_only\":false,\"validation_size\":0.0,\"n_cross_validations\":3,\"y_min\":null,\"y_max\":null,\"num_classes\":null,\"featurization\":\"auto\",\"_ignore_package_version_incompatibilities\":false,\"is_timeseries\":false,\"max_cores_per_iteration\":1,\"max_concurrent_iterations\":4,\"iteration_timeout_minutes\":null,\"mem_in_mb\":null,\"enforce_time_on_windows\":false,\"experiment_timeout_minutes\":15,\"experiment_exit_score\":null,\"whitelist_models\":null,\"blacklist_algos\":[\"TensorFlowLinearClassifier\",\"TensorFlowDNN\"],\"supported_models\":[\"TensorFlowLinearClassifier\",\"BernoulliNaiveBayes\",\"DecisionTree\",\"RandomForest\",\"XGBoostClassifier\",\"SGD\",\"TensorFlowDNN\",\"GradientBoosting\",\"LogisticRegression\",\"ExtremeRandomTrees\",\"LinearSVM\",\"LightGBM\",\"KNN\",\"SVM\",\"MultinomialNaiveBayes\",\"AveragedPerceptronClassifier\"],\"private_models\":[\"TabnetClassifier\"],\"auto_blacklist\":true,\"blacklist_samples_reached\":false,\"exclude_nan_labels\":true,\"verbosity\":20,\"_debug_log\":\"azureml_automl.log\",\"show_warnings\":false,\"model_explainability\":true,\"service_url\":null,\"sdk_url\":null,\"sdk_packages\":null,\"enable_onnx_compatible_models\":false,\"enable_split_onnx_featurizer_estimator_models\":false,\"vm_type\":\"STANDARD_D2_V2\",\"telemetry_verbosity\":20,\"send_telemetry\":true,\"enable_dnn\":false,\"scenario\":\"SDK-1.13.0\",\"environment_label\":null,\"save_mlflow\":false,\"enable_categorical_indicators\":false,\"force_text_dnn\":false,\"enable_feature_sweeping\":true,\"enable_early_stopping\":true,\"early_stopping_n_iters\":10,\"arguments\":null,\"dataset_id\":null,\"hyperdrive_config\":null,\"validation_dataset_id\":null,\"run_source\":null,\"metrics\":null,\"enable_metric_confidence\":false,\"enable_ensembling\":true,\"enable_stack_ensembling\":true,\"ensemble_iterations\":15,\"enable_tf\":false,\"enable_subsampling\":false,\"subsample_seed\":null,\"enable_nimbusml\":false,\"enable_streaming\":false,\"force_streaming\":false,\"track_child_runs\":true,\"allowed_private_models\":[],\"label_column_name\":\"DEATH_EVENT\",\"weight_column_name\":null,\"cv_split_column_names\":null,\"enable_local_managed\":false,\"_local_managed_run_id\":null,\"cost_mode\":1,\"lag_length\":0,\"metric_operation\":\"maximize\",\"preprocess\":true}',\n",
       "  'DataPrepJsonString': '{\\\\\"training_data\\\\\": {\\\\\"datasetId\\\\\": \\\\\"96833596-8a7c-499d-8a15-2f12a19a776d\\\\\"}, \\\\\"datasets\\\\\": 0}',\n",
       "  'EnableSubsampling': 'False',\n",
       "  'runTemplate': 'AutoML',\n",
       "  'azureml.runsource': 'automl',\n",
       "  'display_task_type': 'classification',\n",
       "  'dependencies_versions': '{\"azureml-widgets\": \"1.36.0\", \"azureml-train\": \"1.36.0\", \"azureml-train-restclients-hyperdrive\": \"1.36.0\", \"azureml-train-core\": \"1.36.0\", \"azureml-train-automl\": \"1.36.0\", \"azureml-train-automl-runtime\": \"1.36.0\", \"azureml-train-automl-client\": \"1.36.0\", \"azureml-tensorboard\": \"1.36.0\", \"azureml-telemetry\": \"1.36.0\", \"azureml-sdk\": \"1.36.0\", \"azureml-samples\": \"0+unknown\", \"azureml-responsibleai\": \"1.36.0\", \"azureml-pipeline\": \"1.36.0\", \"azureml-pipeline-steps\": \"1.36.0\", \"azureml-pipeline-core\": \"1.36.0\", \"azureml-opendatasets\": \"1.36.0\", \"azureml-mlflow\": \"1.36.0\", \"azureml-interpret\": \"1.36.0\", \"azureml-inference-server-http\": \"0.4.1\", \"azureml-explain-model\": \"1.36.0\", \"azureml-defaults\": \"1.36.0\", \"azureml-dataset-runtime\": \"1.36.0\", \"azureml-dataprep\": \"2.24.4\", \"azureml-dataprep-rslex\": \"2.0.3\", \"azureml-dataprep-native\": \"38.0.0\", \"azureml-datadrift\": \"1.36.0\", \"azureml-core\": \"1.36.0.post2\", \"azureml-contrib-services\": \"1.36.0\", \"azureml-contrib-server\": \"1.36.0\", \"azureml-contrib-reinforcementlearning\": \"1.36.0\", \"azureml-contrib-pipeline-steps\": \"1.36.0\", \"azureml-contrib-notebook\": \"1.36.0\", \"azureml-contrib-fairness\": \"1.36.0\", \"azureml-contrib-dataset\": \"1.36.0\", \"azureml-contrib-automl-pipeline-steps\": \"1.36.0\", \"azureml-cli-common\": \"1.36.0\", \"azureml-automl-runtime\": \"1.36.0\", \"azureml-automl-dnn-nlp\": \"1.36.0\", \"azureml-automl-core\": \"1.36.0\", \"azureml-accel-models\": \"1.36.0\"}',\n",
       "  '_aml_system_scenario_identification': 'Remote.Parent',\n",
       "  'ClientType': 'SDK',\n",
       "  'environment_cpu_name': 'AzureML-AutoML',\n",
       "  'environment_cpu_label': 'prod',\n",
       "  'environment_gpu_name': 'AzureML-AutoML-GPU',\n",
       "  'environment_gpu_label': 'prod',\n",
       "  'root_attribution': 'automl',\n",
       "  'attribution': 'AutoML',\n",
       "  'Orchestrator': 'AutoML',\n",
       "  'CancelUri': 'https://southcentralus.api.azureml.ms/jasmine/v1.0/subscriptions/3e42d11f-d64d-4173-af9b-12ecaa1030b3/resourceGroups/aml-quickstarts-169400/providers/Microsoft.MachineLearningServices/workspaces/quick-starts-ws-169400/experimentids/80248ba2-9ed2-4419-b5c7-313514ec3d2f/cancel/AutoML_3bfa6805-f343-4c31-8548-f97257b3c500',\n",
       "  'ClientSdkVersion': '1.36.1',\n",
       "  'snapshotId': '00000000-0000-0000-0000-000000000000',\n",
       "  'SetupRunId': 'AutoML_3bfa6805-f343-4c31-8548-f97257b3c500_setup',\n",
       "  'SetupRunContainerId': 'dcid.AutoML_3bfa6805-f343-4c31-8548-f97257b3c500_setup',\n",
       "  'FeaturizationRunJsonPath': 'featurizer_container.json',\n",
       "  'FeaturizationRunId': 'AutoML_3bfa6805-f343-4c31-8548-f97257b3c500_featurize',\n",
       "  'ProblemInfoJsonString': '{\"dataset_num_categorical\": 0, \"is_sparse\": false, \"subsampling\": false, \"has_extra_col\": true, \"dataset_classes\": 2, \"dataset_features\": 12, \"dataset_samples\": 299, \"single_frequency_class_detected\": false}',\n",
       "  'ModelExplainRunId': 'AutoML_3bfa6805-f343-4c31-8548-f97257b3c500_ModelExplain'},\n",
       " 'inputDatasets': [{'dataset': {'id': '96833596-8a7c-499d-8a15-2f12a19a776d'}, 'consumptionDetails': {'type': 'RunInput', 'inputName': 'training_data', 'mechanism': 'Direct'}}],\n",
       " 'outputDatasets': [],\n",
       " 'logFiles': {},\n",
       " 'submittedBy': 'ODL_User 169400'}"
      ]
     },
     "execution_count": 10,
     "metadata": {},
     "output_type": "execute_result"
    }
   ],
   "source": [
    "remote_run.wait_for_completion(show_output=True)"
   ]
  },
  {
   "cell_type": "code",
   "execution_count": 11,
   "metadata": {},
   "outputs": [],
   "source": [
    "best_run, fitted_model = remote_run.get_output()"
   ]
  },
  {
   "cell_type": "code",
   "execution_count": 12,
   "metadata": {},
   "outputs": [
    {
     "name": "stdout",
     "output_type": "stream",
     "text": [
      "Best Run Id : AutoML_3bfa6805-f343-4c31-8548-f97257b3c500_36\n",
      "Accuracy : 0.8661952861952863\n",
      "Best metrics : {'f1_score_weighted': 0.8608884425043768, 'precision_score_micro': 0.8661952861952863, 'matthews_correlation': 0.6924546051394648, 'average_precision_score_weighted': 0.9001450148681682, 'recall_score_macro': 0.8285046129873717, 'AUC_weighted': 0.8926262715917889, 'f1_score_macro': 0.8377222202469939, 'f1_score_micro': 0.8661952861952863, 'recall_score_micro': 0.8661952861952863, 'log_loss': 0.43032743447102967, 'weighted_accuracy': 0.8960318808504794, 'AUC_macro': 0.8926262715917889, 'precision_score_macro': 0.8663370922962957, 'accuracy': 0.8661952861952863, 'precision_score_weighted': 0.8716420104178454, 'average_precision_score_micro': 0.9033527361098, 'balanced_accuracy': 0.8285046129873717, 'recall_score_weighted': 0.8661952861952863, 'average_precision_score_macro': 0.8743104897314934, 'norm_macro_recall': 0.6570092259747432, 'AUC_micro': 0.9023028942624903, 'accuracy_table': 'aml://artifactId/ExperimentRun/dcid.AutoML_3bfa6805-f343-4c31-8548-f97257b3c500_36/accuracy_table', 'confusion_matrix': 'aml://artifactId/ExperimentRun/dcid.AutoML_3bfa6805-f343-4c31-8548-f97257b3c500_36/confusion_matrix'}\n",
      "Best model : Pipeline(memory=None,\n",
      "         steps=[('datatransformer',\n",
      "                 DataTransformer(enable_dnn=False, enable_feature_sweeping=True, feature_sweeping_config={}, feature_sweeping_timeout=86400, featurization_config=None, force_text_dnn=False, is_cross_validation=True, is_onnx_compatible=False, observer=None, task='classification', working_dir='/mnt/batch/tasks/shared/LS_root/mount...\n",
      ")), ('logisticregression', LogisticRegression(C=16.768329368110066, class_weight=None, dual=False, fit_intercept=True, intercept_scaling=1, l1_ratio=None, max_iter=100, multi_class='multinomial', n_jobs=1, penalty='l2', random_state=None, solver='lbfgs', tol=0.0001, verbose=0, warm_start=False))], verbose=False))], flatten_transform=None, weights=[0.07692307692307693, 0.15384615384615385, 0.07692307692307693, 0.07692307692307693, 0.07692307692307693, 0.07692307692307693, 0.07692307692307693, 0.07692307692307693, 0.07692307692307693, 0.07692307692307693, 0.07692307692307693, 0.07692307692307693]))],\n",
      "         verbose=False)\n"
     ]
    }
   ],
   "source": [
    "best_metrics = best_run.get_metrics()\n",
    "\n",
    "print(\"Best Run Id : {}\".format(best_run.id), \n",
    "      \"Accuracy : {}\".format(best_metrics['accuracy']), \n",
    "      \"Best metrics : {}\".format(best_metrics), \n",
    "      \"Best model : {}\".format(fitted_model), sep = '\\n')"
   ]
  },
  {
   "cell_type": "code",
   "execution_count": 13,
   "metadata": {},
   "outputs": [
    {
     "name": "stdout",
     "output_type": "stream",
     "text": [
      "PreFittedSoftVotingClassifier(\n",
      "    estimators=[('5', Pipeline(\n",
      "        memory=None,\n",
      "        steps=[('maxabsscaler', MaxAbsScaler(\n",
      "            copy=True\n",
      "        )), ('lightgbmclassifier', LightGBMClassifier(\n",
      "            boosting_type='gbdt',\n",
      "            colsample_bytree=0.6933333333333332,\n",
      "            learning_rate=0.09473736842105263,\n",
      "            max_bin=110,\n",
      "            max_depth=8,\n",
      "            min_child_weight=6,\n",
      "            min_data_in_leaf=0.003457931034482759,\n",
      "            min_split_gain=1,\n",
      "            n_estimators=25,\n",
      "            num_leaves=227,\n",
      "            reg_alpha=0.9473684210526315,\n",
      "            reg_lambda=0.42105263157894735,\n",
      "            subsample=0.49526315789473685,\n",
      "            random_state=None,\n",
      "            n_jobs=1,\n",
      "            problem_info=ProblemInfo(\n",
      "                gpu_training_param_dict={'processing_unit_type': 'cpu'}\n",
      "            )\n",
      "        ))],\n",
      "        verbose=False\n",
      "    )), ('31', Pipeline(\n",
      "        memory=None,\n",
      "        steps=[('standardscalerwrapper', StandardScalerWrapper(\n",
      "            copy=True,\n",
      "            with_mean=False,\n",
      "            with_std=False\n",
      "        )), ('xgboostclassifier', XGBoostClassifier(\n",
      "            random_state=0,\n",
      "            n_jobs=1,\n",
      "            problem_info=ProblemInfo(\n",
      "                gpu_training_param_dict={'processing_unit_type': 'cpu'}\n",
      "            ),\n",
      "            booster='gbtree',\n",
      "            colsample_bytree=0.9,\n",
      "            eta=0.3,\n",
      "            gamma=10,\n",
      "            max_depth=8,\n",
      "            max_leaves=127,\n",
      "            n_estimators=100,\n",
      "            objective='reg:logistic',\n",
      "            reg_alpha=0,\n",
      "            reg_lambda=2.3958333333333335,\n",
      "            subsample=0.5,\n",
      "            tree_method='auto'\n",
      "        ))],\n",
      "        verbose=False\n",
      "    )), ('11', Pipeline(\n",
      "        memory=None,\n",
      "        steps=[('minmaxscaler', MinMaxScaler(\n",
      "            copy=True,\n",
      "            feature_range=(0, 1)\n",
      "        )), ('randomforestclassifier', RandomForestClassifier(\n",
      "            bootstrap=True,\n",
      "            ccp_alpha=0.0,\n",
      "            class_weight='balanced',\n",
      "            criterion='gini',\n",
      "            max_depth=None,\n",
      "            max_features='sqrt',\n",
      "            max_leaf_nodes=None,\n",
      "            max_samples=None,\n",
      "            min_impurity_decrease=0.0,\n",
      "            min_impurity_split=None,\n",
      "            min_samples_leaf=0.01,\n",
      "            min_samples_split=0.33789473684210525,\n",
      "            min_weight_fraction_leaf=0.0,\n",
      "            n_estimators=200,\n",
      "            n_jobs=1,\n",
      "            oob_score=False,\n",
      "            random_state=None,\n",
      "            verbose=0,\n",
      "            warm_start=False\n",
      "        ))],\n",
      "        verbose=False\n",
      "    )), ('24', Pipeline(\n",
      "        memory=None,\n",
      "        steps=[('standardscalerwrapper', StandardScalerWrapper(\n",
      "            copy=True,\n",
      "            with_mean=False,\n",
      "            with_std=False\n",
      "        )), ('xgboostclassifier', XGBoostClassifier(\n",
      "            random_state=0,\n",
      "            n_jobs=1,\n",
      "            problem_info=ProblemInfo(\n",
      "                gpu_training_param_dict={'processing_unit_type': 'cpu'}\n",
      "            ),\n",
      "            booster='gbtree',\n",
      "            colsample_bytree=0.7,\n",
      "            eta=0.1,\n",
      "            gamma=0.1,\n",
      "            max_depth=9,\n",
      "            max_leaves=511,\n",
      "            n_estimators=25,\n",
      "            objective='reg:logistic',\n",
      "            reg_alpha=0,\n",
      "            reg_lambda=1.7708333333333335,\n",
      "            subsample=0.9,\n",
      "            tree_method='auto'\n",
      "        ))],\n",
      "        verbose=False\n",
      "    )), ('21', Pipeline(\n",
      "        memory=None,\n",
      "        steps=[('standardscalerwrapper', StandardScalerWrapper(\n",
      "            copy=True,\n",
      "            with_mean=False,\n",
      "            with_std=False\n",
      "        )), ('xgboostclassifier', XGBoostClassifier(\n",
      "            random_state=0,\n",
      "            n_jobs=1,\n",
      "            problem_info=ProblemInfo(\n",
      "                gpu_training_param_dict={'processing_unit_type': 'cpu'}\n",
      "            ),\n",
      "            booster='gbtree',\n",
      "            colsample_bytree=1,\n",
      "            eta=0.3,\n",
      "            gamma=0,\n",
      "            max_depth=10,\n",
      "            max_leaves=511,\n",
      "            n_estimators=10,\n",
      "            objective='reg:logistic',\n",
      "            reg_alpha=2.1875,\n",
      "            reg_lambda=0.4166666666666667,\n",
      "            subsample=0.5,\n",
      "            tree_method='auto'\n",
      "        ))],\n",
      "        verbose=False\n",
      "    )), ('4', Pipeline(\n",
      "        memory=None,\n",
      "        steps=[('standardscalerwrapper', StandardScalerWrapper(\n",
      "            copy=True,\n",
      "            with_mean=False,\n",
      "            with_std=False\n",
      "        )), ('kneighborsclassifier', KNeighborsClassifier(\n",
      "            algorithm='auto',\n",
      "            leaf_size=30,\n",
      "            metric='manhattan',\n",
      "            metric_params=None,\n",
      "            n_jobs=1,\n",
      "            n_neighbors=5,\n",
      "            p=2,\n",
      "            weights='distance'\n",
      "        ))],\n",
      "        verbose=False\n",
      "    )), ('33', Pipeline(\n",
      "        memory=None,\n",
      "        steps=[('sparsenormalizer', Normalizer(\n",
      "            copy=True,\n",
      "            norm='l1'\n",
      "        )), ('xgboostclassifier', XGBoostClassifier(\n",
      "            random_state=0,\n",
      "            n_jobs=1,\n",
      "            problem_info=ProblemInfo(\n",
      "                gpu_training_param_dict={'processing_unit_type': 'cpu'}\n",
      "            ),\n",
      "            booster='gbtree',\n",
      "            colsample_bytree=0.5,\n",
      "            eta=0.05,\n",
      "            gamma=0.1,\n",
      "            max_depth=9,\n",
      "            max_leaves=31,\n",
      "            n_estimators=50,\n",
      "            objective='reg:logistic',\n",
      "            reg_alpha=1.7708333333333335,\n",
      "            reg_lambda=2.3958333333333335,\n",
      "            subsample=0.6,\n",
      "            tree_method='auto'\n",
      "        ))],\n",
      "        verbose=False\n",
      "    )), ('3', Pipeline(\n",
      "        memory=None,\n",
      "        steps=[('sparsenormalizer', Normalizer(\n",
      "            copy=True,\n",
      "            norm='l2'\n",
      "        )), ('xgboostclassifier', XGBoostClassifier(\n",
      "            random_state=0,\n",
      "            n_jobs=1,\n",
      "            problem_info=ProblemInfo(\n",
      "                gpu_training_param_dict={'processing_unit_type': 'cpu'}\n",
      "            ),\n",
      "            booster='gbtree',\n",
      "            colsample_bytree=0.7,\n",
      "            eta=0.01,\n",
      "            gamma=0.01,\n",
      "            max_depth=7,\n",
      "            max_leaves=31,\n",
      "            n_estimators=10,\n",
      "            objective='reg:logistic',\n",
      "            reg_alpha=2.1875,\n",
      "            reg_lambda=1.0416666666666667,\n",
      "            subsample=1,\n",
      "            tree_method='auto'\n",
      "        ))],\n",
      "        verbose=False\n",
      "    )), ('22', Pipeline(\n",
      "        memory=None,\n",
      "        steps=[('sparsenormalizer', Normalizer(\n",
      "            copy=True,\n",
      "            norm='l2'\n",
      "        )), ('randomforestclassifier', RandomForestClassifier(\n",
      "            bootstrap=True,\n",
      "            ccp_alpha=0.0,\n",
      "            class_weight='balanced',\n",
      "            criterion='gini',\n",
      "            max_depth=None,\n",
      "            max_features='sqrt',\n",
      "            max_leaf_nodes=None,\n",
      "            max_samples=None,\n",
      "            min_impurity_decrease=0.0,\n",
      "            min_impurity_split=None,\n",
      "            min_samples_leaf=0.01,\n",
      "            min_samples_split=0.01,\n",
      "            min_weight_fraction_leaf=0.0,\n",
      "            n_estimators=100,\n",
      "            n_jobs=1,\n",
      "            oob_score=True,\n",
      "            random_state=None,\n",
      "            verbose=0,\n",
      "            warm_start=False\n",
      "        ))],\n",
      "        verbose=False\n",
      "    )), ('34', Pipeline(\n",
      "        memory=None,\n",
      "        steps=[('sparsenormalizer', Normalizer(\n",
      "            copy=True,\n",
      "            norm='l1'\n",
      "        )), ('xgboostclassifier', XGBoostClassifier(\n",
      "            random_state=0,\n",
      "            n_jobs=1,\n",
      "            problem_info=ProblemInfo(\n",
      "                gpu_training_param_dict={'processing_unit_type': 'cpu'}\n",
      "            ),\n",
      "            booster='gbtree',\n",
      "            colsample_bytree=0.7,\n",
      "            eta=0.01,\n",
      "            gamma=0,\n",
      "            max_depth=6,\n",
      "            max_leaves=3,\n",
      "            n_estimators=100,\n",
      "            objective='reg:logistic',\n",
      "            reg_alpha=0,\n",
      "            reg_lambda=0.625,\n",
      "            subsample=1,\n",
      "            tree_method='auto'\n",
      "        ))],\n",
      "        verbose=False\n",
      "    )), ('0', Pipeline(\n",
      "        memory=None,\n",
      "        steps=[('maxabsscaler', MaxAbsScaler(\n",
      "            copy=True\n",
      "        )), ('lightgbmclassifier', LightGBMClassifier(\n",
      "            min_data_in_leaf=20,\n",
      "            random_state=None,\n",
      "            n_jobs=1,\n",
      "            problem_info=ProblemInfo(\n",
      "                gpu_training_param_dict={'processing_unit_type': 'cpu'}\n",
      "            )\n",
      "        ))],\n",
      "        verbose=False\n",
      "    )), ('12', Pipeline(\n",
      "        memory=None,\n",
      "        steps=[('standardscalerwrapper', StandardScalerWrapper(\n",
      "            copy=True,\n",
      "            with_mean=True,\n",
      "            with_std=False\n",
      "        )), ('logisticregression', LogisticRegression(\n",
      "            C=16.768329368110066,\n",
      "            class_weight=None,\n",
      "            dual=False,\n",
      "            fit_intercept=True,\n",
      "            intercept_scaling=1,\n",
      "            l1_ratio=None,\n",
      "            max_iter=100,\n",
      "            multi_class='multinomial',\n",
      "            n_jobs=1,\n",
      "            penalty='l2',\n",
      "            random_state=None,\n",
      "            solver='lbfgs',\n",
      "            tol=0.0001,\n",
      "            verbose=0,\n",
      "            warm_start=False\n",
      "        ))],\n",
      "        verbose=False\n",
      "    ))],\n",
      "    weights=[0.07692307692307693, 0.15384615384615385, 0.07692307692307693, 0.07692307692307693, 0.07692307692307693, 0.07692307692307693, 0.07692307692307693, 0.07692307692307693, 0.07692307692307693, 0.07692307692307693, 0.07692307692307693, 0.07692307692307693],\n",
      "    flatten_transform=None,\n",
      "    classification_labels=array([0, 1])\n",
      ")\n"
     ]
    }
   ],
   "source": [
    "print(fitted_model._final_estimator)"
   ]
  },
  {
   "cell_type": "code",
   "execution_count": 14,
   "metadata": {},
   "outputs": [],
   "source": [
    "for model in Model.list(ws):\n",
    "    print(model.name, 'version:', model.version)"
   ]
  },
  {
   "cell_type": "markdown",
   "metadata": {},
   "source": [
    "## Model Deployment\n",
    "\n",
    "Remember you have to deploy only one of the two models you trained but you still need to register both the models. Perform the steps in the rest of this notebook only if you wish to deploy this model.\n",
    "\n",
    "TODO: In the cell below, register the model, create an inference config and deploy the model as a web service."
   ]
  },
  {
   "cell_type": "code",
   "execution_count": 15,
   "metadata": {
    "gather": {
     "logged": 1598431435189
    },
    "jupyter": {
     "outputs_hidden": false,
     "source_hidden": false
    },
    "nteract": {
     "transient": {
      "deleting": false
     }
    }
   },
   "outputs": [
    {
     "name": "stdout",
     "output_type": "stream",
     "text": [
      "Downloading from outputs/conda_env_v_1_0_0.yml to ./aml-model/conda_env_v_1_0_0.yml ...\n",
      "Downloading from outputs/engineered_feature_names.json to ./aml-model/engineered_feature_names.json ...\n",
      "Downloading from outputs/env_dependencies.json to ./aml-model/env_dependencies.json ...\n",
      "Downloading from outputs/featurization_summary.json to ./aml-model/featurization_summary.json ...\n",
      "Downloading from outputs/internal_cross_validated_models.pkl to ./aml-model/internal_cross_validated_models.pkl ...\n",
      "Downloading from outputs/model.pkl to ./aml-model/model.pkl ...\n",
      "Downloading from outputs/pipeline_graph.json to ./aml-model/pipeline_graph.json ...\n",
      "Downloading from outputs/scoring_file_v_1_0_0.py to ./aml-model/scoring_file_v_1_0_0.py ...\n",
      "Downloading from outputs/scoring_file_v_2_0_0.py to ./aml-model/scoring_file_v_2_0_0.py ...\n"
     ]
    }
   ],
   "source": [
    "#Save the best model for the deployement\n",
    "import os\n",
    "os.makedirs('./aml-model', exist_ok=True)\n",
    "\n",
    "best_run.download_file('/outputs/model.pkl',os.path.join('./aml-model','heart-failure-best-model-automl.pkl'))\n",
    "\n",
    "for f in best_run.get_file_names():\n",
    "    if f.startswith('outputs'):\n",
    "        output_file_path = os.path.join('./aml-model', f.split('/')[-1])\n",
    "        print(f'Downloading from {f} to {output_file_path} ...')\n",
    "        best_run.download_file(name=f, output_file_path=output_file_path)"
   ]
  },
  {
   "cell_type": "markdown",
   "metadata": {
    "collapsed": true,
    "gather": {
     "logged": 1598431657736
    },
    "jupyter": {
     "outputs_hidden": false,
     "source_hidden": false
    },
    "nteract": {
     "transient": {
      "deleting": false
     }
    }
   },
   "source": [
    "TODO: In the cell below, send a request to the web service you deployed to test it."
   ]
  },
  {
   "cell_type": "code",
   "execution_count": 17,
   "metadata": {
    "gather": {
     "logged": 1598432707604
    },
    "jupyter": {
     "outputs_hidden": false,
     "source_hidden": false
    },
    "nteract": {
     "transient": {
      "deleting": false
     }
    }
   },
   "outputs": [],
   "source": [
    "model=best_run.register_model(\n",
    "            model_name = 'heart-failure-best-model-automl', \n",
    "            model_path = './outputs/model.pkl'\n",
    ")"
   ]
  },
  {
   "cell_type": "markdown",
   "metadata": {
    "collapsed": true,
    "gather": {
     "logged": 1598432765711
    },
    "jupyter": {
     "outputs_hidden": false,
     "source_hidden": false
    },
    "nteract": {
     "transient": {
      "deleting": false
     }
    }
   },
   "source": [
    "TODO: In the cell below, print the logs of the web service and delete the service"
   ]
  },
  {
   "cell_type": "code",
   "execution_count": 18,
   "metadata": {
    "jupyter": {
     "outputs_hidden": false,
     "source_hidden": false
    },
    "nteract": {
     "transient": {
      "deleting": false
     }
    }
   },
   "outputs": [],
   "source": [
    "best_run.download_file('outputs/conda_env_v_1_0_0.yml', 'conda_env.yml')\n",
    "environment = Environment.from_conda_specification(name = 'heart-failure-env', file_path = 'conda_env.yml')"
   ]
  },
  {
   "cell_type": "code",
   "execution_count": 19,
   "metadata": {},
   "outputs": [],
   "source": [
    "best_run.download_file('outputs/scoring_file_v_1_0_0.py', 'score.py')"
   ]
  },
  {
   "cell_type": "code",
   "execution_count": 20,
   "metadata": {},
   "outputs": [],
   "source": [
    "inference_config = InferenceConfig(entry_script= 'score.py', environment=environment)"
   ]
  },
  {
   "cell_type": "code",
   "execution_count": 21,
   "metadata": {},
   "outputs": [],
   "source": [
    "aci_config = AciWebservice.deploy_configuration(cpu_cores=1, memory_gb=1, auth_enabled=True, enable_app_insights=True)"
   ]
  },
  {
   "cell_type": "code",
   "execution_count": 22,
   "metadata": {},
   "outputs": [],
   "source": [
    "webservice = Model.deploy(workspace=ws, \n",
    "                        name='heart-failure-ws', \n",
    "                        models=[model], \n",
    "                        inference_config=inference_config,\n",
    "                        deployment_config=aci_config,\n",
    "                        overwrite=True)"
   ]
  },
  {
   "cell_type": "code",
   "execution_count": 23,
   "metadata": {},
   "outputs": [
    {
     "data": {
      "text/plain": [
       "AciWebservice(workspace=Workspace.create(name='quick-starts-ws-169400', subscription_id='3e42d11f-d64d-4173-af9b-12ecaa1030b3', resource_group='aml-quickstarts-169400'), name=heart-failure-ws, image_id=None, compute_type=None, state=ACI, scoring_uri=Unhealthy, tags=None, properties={}, created_by={})"
      ]
     },
     "execution_count": 23,
     "metadata": {},
     "output_type": "execute_result"
    }
   ],
   "source": [
    "webservice"
   ]
  },
  {
   "cell_type": "code",
   "execution_count": 24,
   "metadata": {},
   "outputs": [
    {
     "name": "stdout",
     "output_type": "stream",
     "text": [
      "Tips: You can try get_logs(): https://aka.ms/debugimage#dockerlog or local deployment: https://aka.ms/debugimage#debug-locally to debug if deployment takes longer than 10 minutes.\n",
      "Running\n",
      "2021-12-27 15:32:00+00:00 Creating Container Registry if not exists..\n",
      "2021-12-27 15:42:01+00:00 Registering the environment..\n",
      "2021-12-27 15:42:02+00:00 Building image..\n",
      "2021-12-27 15:53:16+00:00 Generating deployment configuration.\n",
      "2021-12-27 15:53:17+00:00 Submitting deployment to compute..\n",
      "2021-12-27 15:53:21+00:00 Checking the status of deployment heart-failure-ws..\n",
      "2021-12-27 15:55:51+00:00 Checking the status of inference endpoint heart-failure-ws.\n",
      "Succeeded\n",
      "ACI service creation operation finished, operation \"Succeeded\"\n",
      "Status : Healthy\n",
      "scoring_uri : http://e433f074-f50b-4751-ba6a-35ba6d05febf.southcentralus.azurecontainer.io/score\n",
      "swagger_uri : http://e433f074-f50b-4751-ba6a-35ba6d05febf.southcentralus.azurecontainer.io/swagger.json\n"
     ]
    }
   ],
   "source": [
    "# wait for deployment to finish and display the scoring uri and swagger uri\n",
    "webservice.wait_for_deployment(show_output=True)\n",
    "\n",
    "print(\"Status : {}\".format(webservice.state), \n",
    "      \"scoring_uri : {}\".format(webservice.scoring_uri), \n",
    "      \"swagger_uri : {}\".format(webservice.swagger_uri), sep = '\\n')"
   ]
  },
  {
   "cell_type": "code",
   "execution_count": 25,
   "metadata": {},
   "outputs": [
    {
     "name": "stdout",
     "output_type": "stream",
     "text": [
      "('{\"data\": [{\"age\": 66.0, \"anaemia\": 1, \"creatinine_phosphokinase\": 68, '\n",
      " '\"diabetes\": 1, \"ejection_fraction\": 38, \"high_blood_pressure\": 1, '\n",
      " '\"platelets\": 162000.0, \"serum_creatinine\": 1.0, \"serum_sodium\": 136, \"sex\": '\n",
      " '0, \"smoking\": 0, \"time\": 95}, {\"age\": 58.0, \"anaemia\": 1, '\n",
      " '\"creatinine_phosphokinase\": 60, \"diabetes\": 0, \"ejection_fraction\": 38, '\n",
      " '\"high_blood_pressure\": 0, \"platelets\": 153000.0, \"serum_creatinine\": 5.8, '\n",
      " '\"serum_sodium\": 134, \"sex\": 1, \"smoking\": 0, \"time\": 26}, {\"age\": 56.0, '\n",
      " '\"anaemia\": 1, \"creatinine_phosphokinase\": 135, \"diabetes\": 1, '\n",
      " '\"ejection_fraction\": 38, \"high_blood_pressure\": 0, \"platelets\": 133000.0, '\n",
      " '\"serum_creatinine\": 1.7, \"serum_sodium\": 140, \"sex\": 1, \"smoking\": 0, '\n",
      " '\"time\": 244}, {\"age\": 50.0, \"anaemia\": 1, \"creatinine_phosphokinase\": 298, '\n",
      " '\"diabetes\": 0, \"ejection_fraction\": 35, \"high_blood_pressure\": 0, '\n",
      " '\"platelets\": 362000.0, \"serum_creatinine\": 0.9, \"serum_sodium\": 140, \"sex\": '\n",
      " '1, \"smoking\": 1, \"time\": 240}, {\"age\": 65.0, \"anaemia\": 1, '\n",
      " '\"creatinine_phosphokinase\": 113, \"diabetes\": 1, \"ejection_fraction\": 60, '\n",
      " '\"high_blood_pressure\": 1, \"platelets\": 203000.0, \"serum_creatinine\": 0.9, '\n",
      " '\"serum_sodium\": 140, \"sex\": 0, \"smoking\": 0, \"time\": 94}]}')\n"
     ]
    }
   ],
   "source": [
    "from pprint import pprint\n",
    "\n",
    "# select samples from the dataframe\n",
    "test_data = df.sample(5)\n",
    "test_label = test_data.pop('DEATH_EVENT')\n",
    "\n",
    "# convert the records to a json data file\n",
    "data_json = test_data.to_dict(orient='records')\n",
    "\n",
    "data = json.dumps({'data': data_json})\n",
    "pprint(data)"
   ]
  },
  {
   "cell_type": "code",
   "execution_count": 26,
   "metadata": {},
   "outputs": [
    {
     "name": "stdout",
     "output_type": "stream",
     "text": [
      "{\"result\": [0, 1, 0, 0, 0]}\n"
     ]
    }
   ],
   "source": [
    "# get inference\n",
    "output = webservice.run(data)\n",
    "print(output)"
   ]
  },
  {
   "cell_type": "code",
   "execution_count": 27,
   "metadata": {},
   "outputs": [
    {
     "data": {
      "text/plain": [
       "'2021-12-27T15:55:40,467535500+00:00 - gunicorn/run \\nDynamic Python package installation is disabled.\\nStarting HTTP server\\n2021-12-27T15:55:40,466551400+00:00 - iot-server/run \\n2021-12-27T15:55:40,479013700+00:00 - rsyslog/run \\n2021-12-27T15:55:40,516845800+00:00 - nginx/run \\nrsyslogd: /azureml-envs/azureml_bec455c772c2d018a0dc9c15319d853a/lib/libuuid.so.1: no version information available (required by rsyslogd)\\nEdgeHubConnectionString and IOTEDGE_IOTHUBHOSTNAME are not set. Exiting...\\n2021-12-27T15:55:40,839288800+00:00 - iot-server/finish 1 0\\n2021-12-27T15:55:40,841773400+00:00 - Exit code 1 is normal. Not restarting iot-server.\\nStarting gunicorn 20.1.0\\nListening at: http://127.0.0.1:31311 (72)\\nUsing worker: sync\\nworker timeout is set to 300\\nBooting worker with pid: 100\\nSPARK_HOME not set. Skipping PySpark Initialization.\\nGenerating new fontManager, this may take some time...\\nInitializing logger\\n2021-12-27 15:55:44,053 | root | INFO | Starting up app insights client\\nlogging socket was found. logging is available.\\nlogging socket was found. logging is available.\\n2021-12-27 15:55:44,060 | root | INFO | Starting up request id generator\\n2021-12-27 15:55:44,060 | root | INFO | Starting up app insight hooks\\n2021-12-27 15:55:44,061 | root | INFO | Invoking user\\'s init function\\n2021-12-27 15:55:48,997 | azureml.core | WARNING | Failure while loading azureml_run_type_providers. Failed to load entrypoint automl = azureml.train.automl.run:AutoMLRun._from_run_dto with exception (cloudpickle 2.0.0 (/azureml-envs/azureml_bec455c772c2d018a0dc9c15319d853a/lib/python3.6/site-packages), Requirement.parse(\\'cloudpickle<2.0.0,>=1.1.0\\'), {\\'azureml-dataprep\\'}).\\nFailure while loading azureml_run_type_providers. Failed to load entrypoint automl = azureml.train.automl.run:AutoMLRun._from_run_dto with exception (cloudpickle 2.0.0 (/azureml-envs/azureml_bec455c772c2d018a0dc9c15319d853a/lib/python3.6/site-packages), Requirement.parse(\\'cloudpickle<2.0.0,>=1.1.0\\'), {\\'azureml-dataprep\\'}).\\n2021-12-27 15:55:50,166 | root | INFO | Users\\'s init has completed successfully\\n2021-12-27 15:55:50,170 | root | INFO | Skipping middleware: dbg_model_info as it\\'s not enabled.\\n2021-12-27 15:55:50,170 | root | INFO | Skipping middleware: dbg_resource_usage as it\\'s not enabled.\\nGenerating swagger file: /tmp/tmp5cpm34g1\\n2021-12-27 15:55:50,204 | root | INFO | Scoring timeout is found from os.environ: 60000 ms\\n2021-12-27 15:55:51,658 | root | INFO | 200\\n127.0.0.1 - - [27/Dec/2021:15:55:51 +0000] \"GET /swagger.json HTTP/1.0\" 200 3086 \"-\" \"Go-http-client/1.1\"\\n2021-12-27 15:55:54,012 | root | INFO | 200\\n127.0.0.1 - - [27/Dec/2021:15:55:54 +0000] \"GET /swagger.json HTTP/1.0\" 200 3086 \"-\" \"Go-http-client/1.1\"\\n2021-12-27 15:55:55,378 | root | INFO | Validation Request Content-Type\\n2021-12-27 15:55:55,379 | root | INFO | Scoring Timer is set to 60.0 seconds\\n2021-12-27 15:55:55,680 | root | INFO | 200\\n127.0.0.1 - - [27/Dec/2021:15:55:55 +0000] \"POST /score HTTP/1.0\" 200 31 \"-\" \"python-requests/2.26.0\"\\n'"
      ]
     },
     "execution_count": 27,
     "metadata": {},
     "output_type": "execute_result"
    }
   ],
   "source": [
    "webservice.get_logs()"
   ]
  },
  {
   "cell_type": "code",
   "execution_count": 28,
   "metadata": {},
   "outputs": [
    {
     "name": "stdout",
     "output_type": "stream",
     "text": [
      "{\"result\": [1, 1, 1, 0, 1, 0, 0, 0, 0, 0]}\n"
     ]
    }
   ],
   "source": [
    "# select samples from the dataframe\n",
    "test_data = df.sample(10)\n",
    "test_label = test_data.pop('DEATH_EVENT')\n",
    "\n",
    "# convert the records to a json data file\n",
    "data_json = test_data.to_dict(orient='records')\n",
    "\n",
    "data = json.dumps({'data': data_json})\n",
    "\n",
    "# get inference\n",
    "output = webservice.run(data)\n",
    "print(output)"
   ]
  },
  {
   "cell_type": "code",
   "execution_count": 29,
   "metadata": {},
   "outputs": [
    {
     "data": {
      "text/plain": [
       "'2021-12-27T15:55:40,467535500+00:00 - gunicorn/run \\nDynamic Python package installation is disabled.\\nStarting HTTP server\\n2021-12-27T15:55:40,466551400+00:00 - iot-server/run \\n2021-12-27T15:55:40,479013700+00:00 - rsyslog/run \\n2021-12-27T15:55:40,516845800+00:00 - nginx/run \\nrsyslogd: /azureml-envs/azureml_bec455c772c2d018a0dc9c15319d853a/lib/libuuid.so.1: no version information available (required by rsyslogd)\\nEdgeHubConnectionString and IOTEDGE_IOTHUBHOSTNAME are not set. Exiting...\\n2021-12-27T15:55:40,839288800+00:00 - iot-server/finish 1 0\\n2021-12-27T15:55:40,841773400+00:00 - Exit code 1 is normal. Not restarting iot-server.\\nStarting gunicorn 20.1.0\\nListening at: http://127.0.0.1:31311 (72)\\nUsing worker: sync\\nworker timeout is set to 300\\nBooting worker with pid: 100\\nSPARK_HOME not set. Skipping PySpark Initialization.\\nGenerating new fontManager, this may take some time...\\nInitializing logger\\n2021-12-27 15:55:44,053 | root | INFO | Starting up app insights client\\nlogging socket was found. logging is available.\\nlogging socket was found. logging is available.\\n2021-12-27 15:55:44,060 | root | INFO | Starting up request id generator\\n2021-12-27 15:55:44,060 | root | INFO | Starting up app insight hooks\\n2021-12-27 15:55:44,061 | root | INFO | Invoking user\\'s init function\\n2021-12-27 15:55:48,997 | azureml.core | WARNING | Failure while loading azureml_run_type_providers. Failed to load entrypoint automl = azureml.train.automl.run:AutoMLRun._from_run_dto with exception (cloudpickle 2.0.0 (/azureml-envs/azureml_bec455c772c2d018a0dc9c15319d853a/lib/python3.6/site-packages), Requirement.parse(\\'cloudpickle<2.0.0,>=1.1.0\\'), {\\'azureml-dataprep\\'}).\\nFailure while loading azureml_run_type_providers. Failed to load entrypoint automl = azureml.train.automl.run:AutoMLRun._from_run_dto with exception (cloudpickle 2.0.0 (/azureml-envs/azureml_bec455c772c2d018a0dc9c15319d853a/lib/python3.6/site-packages), Requirement.parse(\\'cloudpickle<2.0.0,>=1.1.0\\'), {\\'azureml-dataprep\\'}).\\n2021-12-27 15:55:50,166 | root | INFO | Users\\'s init has completed successfully\\n2021-12-27 15:55:50,170 | root | INFO | Skipping middleware: dbg_model_info as it\\'s not enabled.\\n2021-12-27 15:55:50,170 | root | INFO | Skipping middleware: dbg_resource_usage as it\\'s not enabled.\\nGenerating swagger file: /tmp/tmp5cpm34g1\\n2021-12-27 15:55:50,204 | root | INFO | Scoring timeout is found from os.environ: 60000 ms\\n2021-12-27 15:55:51,658 | root | INFO | 200\\n127.0.0.1 - - [27/Dec/2021:15:55:51 +0000] \"GET /swagger.json HTTP/1.0\" 200 3086 \"-\" \"Go-http-client/1.1\"\\n2021-12-27 15:55:54,012 | root | INFO | 200\\n127.0.0.1 - - [27/Dec/2021:15:55:54 +0000] \"GET /swagger.json HTTP/1.0\" 200 3086 \"-\" \"Go-http-client/1.1\"\\n2021-12-27 15:55:55,378 | root | INFO | Validation Request Content-Type\\n2021-12-27 15:55:55,379 | root | INFO | Scoring Timer is set to 60.0 seconds\\n2021-12-27 15:55:55,680 | root | INFO | 200\\n127.0.0.1 - - [27/Dec/2021:15:55:55 +0000] \"POST /score HTTP/1.0\" 200 31 \"-\" \"python-requests/2.26.0\"\\n2021-12-27 15:55:56,033 | root | INFO | Validation Request Content-Type\\n2021-12-27 15:55:56,034 | root | INFO | Scoring Timer is set to 60.0 seconds\\n2021-12-27 15:55:56,313 | root | INFO | 200\\n127.0.0.1 - - [27/Dec/2021:15:55:56 +0000] \"POST /score HTTP/1.0\" 200 46 \"-\" \"python-requests/2.26.0\"\\n'"
      ]
     },
     "execution_count": 29,
     "metadata": {},
     "output_type": "execute_result"
    }
   ],
   "source": [
    "webservice.get_logs()"
   ]
  },
  {
   "cell_type": "code",
   "execution_count": 30,
   "metadata": {},
   "outputs": [],
   "source": [
    "webservice.delete()\n",
    "compute_target.delete()"
   ]
  },
  {
   "cell_type": "markdown",
   "metadata": {},
   "source": [
    "**Submission Checklist**\n",
    "- I have registered the model.\n",
    "- I have deployed the model with the best accuracy as a webservice.\n",
    "- I have tested the webservice by sending a request to the model endpoint.\n",
    "- I have deleted the webservice and shutdown all the computes that I have used.\n",
    "- I have taken a screenshot showing the model endpoint as active.\n",
    "- The project includes a file containing the environment details.\n"
   ]
  },
  {
   "cell_type": "markdown",
   "metadata": {},
   "source": []
  }
 ],
 "metadata": {
  "kernel_info": {
   "name": "python3-azureml"
  },
  "kernelspec": {
   "display_name": "Python 3",
   "language": "python",
   "name": "python3"
  },
  "language_info": {
   "codemirror_mode": {
    "name": "ipython",
    "version": 3
   },
   "file_extension": ".py",
   "mimetype": "text/x-python",
   "name": "python",
   "nbconvert_exporter": "python",
   "pygments_lexer": "ipython3",
   "version": "3.6.9"
  },
  "nteract": {
   "version": "nteract-front-end@1.0.0"
  }
 },
 "nbformat": 4,
 "nbformat_minor": 2
}
